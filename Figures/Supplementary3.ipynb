{
 "cells": [
  {
   "cell_type": "code",
   "execution_count": 1,
   "metadata": {
    "vscode": {
     "languageId": "r"
    }
   },
   "outputs": [
    {
     "name": "stderr",
     "output_type": "stream",
     "text": [
      "Loading required package: Matrix\n",
      "\n",
      "************\n",
      "Welcome to afex. For support visit: http://afex.singmann.science/\n",
      "\n",
      "- Functions for ANOVAs: aov_car(), aov_ez(), and aov_4()\n",
      "- Methods for calculating p-values with mixed(): 'S', 'KR', 'LRT', and 'PB'\n",
      "- 'afex_aov' and 'mixed' objects can be passed to emmeans() for follow-up tests\n",
      "- Get and set global package options with: afex_options()\n",
      "- Set sum-to-zero contrasts globally: set_sum_contrasts()\n",
      "- For example analyses see: browseVignettes(\"afex\")\n",
      "************\n",
      "\n",
      "\n",
      "Attaching package: ‘afex’\n",
      "\n",
      "\n",
      "The following object is masked from ‘package:lme4’:\n",
      "\n",
      "    lmer\n",
      "\n",
      "\n",
      "\n",
      "Attaching package: ‘dplyr’\n",
      "\n",
      "\n",
      "The following objects are masked from ‘package:stats’:\n",
      "\n",
      "    filter, lag\n",
      "\n",
      "\n",
      "The following objects are masked from ‘package:base’:\n",
      "\n",
      "    intersect, setdiff, setequal, union\n",
      "\n",
      "\n",
      "Loading required package: zoo\n",
      "\n",
      "\n",
      "Attaching package: ‘zoo’\n",
      "\n",
      "\n",
      "The following objects are masked from ‘package:base’:\n",
      "\n",
      "    as.Date, as.Date.numeric\n",
      "\n",
      "\n",
      "\n",
      "Attaching package: ‘tidyr’\n",
      "\n",
      "\n",
      "The following objects are masked from ‘package:Matrix’:\n",
      "\n",
      "    expand, pack, unpack\n",
      "\n",
      "\n",
      "Loading required package: coda\n",
      "\n",
      "Loading required package: ape\n",
      "\n",
      "\n",
      "Attaching package: ‘reshape’\n",
      "\n",
      "\n",
      "The following objects are masked from ‘package:tidyr’:\n",
      "\n",
      "    expand, smiths\n",
      "\n",
      "\n",
      "The following object is masked from ‘package:dplyr’:\n",
      "\n",
      "    rename\n",
      "\n",
      "\n",
      "The following object is masked from ‘package:Matrix’:\n",
      "\n",
      "    expand\n",
      "\n",
      "\n",
      "\n",
      "Attaching package: ‘gridExtra’\n",
      "\n",
      "\n",
      "The following object is masked from ‘package:dplyr’:\n",
      "\n",
      "    combine\n",
      "\n",
      "\n",
      "\n",
      "Attaching package: ‘cowplot’\n",
      "\n",
      "\n",
      "The following object is masked from ‘package:reshape’:\n",
      "\n",
      "    stamp\n",
      "\n",
      "\n"
     ]
    }
   ],
   "source": [
    "library(lme4)\n",
    "library(afex)\n",
    "library(emmeans)\n",
    "library(dplyr)\n",
    "library(ggplot2)\n",
    "library(svglite)\n",
    "library(lmtest)\n",
    "library(tidyr)\n",
    "library(MCMCglmm)\n",
    "library(reshape)\n",
    "library(gridExtra)\n",
    "library(cowplot)\n",
    "library(plotrix)\n",
    "library(ggsignif)"
   ]
  },
  {
   "cell_type": "code",
   "execution_count": 2,
   "metadata": {
    "vscode": {
     "languageId": "r"
    }
   },
   "outputs": [],
   "source": [
    "ITI <- read.csv('/home/bagotlab/eshaan.i/PRL/FP_PRL_Nov_2021/Code/Longform Data/PRLInformationMeasures_ZScore_ITI.csv')\n",
    "\n",
    "ITI = subset(ITI, (lp > 0) & (ID!=223))\n",
    "ITI<-ITI %>% drop_na()\n",
    "ITI$time_idx <- as.factor(as.numeric(as.factor(ITI$time)))\n",
    "ITI<-ITI[,c('index','time_idx','time','ID','rewards','lp','Day','rt','PFC','vHIP','MutualInfo','CE_PFCvHIP','CE_vHIPPFC','MutualInfo_PC','CE_PFCvHIP_PC','CE_vHIPPFC_PC','MutualInfo_EI','CE_PFCvHIP_EI','CE_vHIPPFC_EI')]\n",
    "ITI<- ITI %>% group_by(ID,Day) %>% mutate(Previous.Reward = lag(rewards,n=240))\n",
    "ITI<- ITI %>% group_by(ID,Day) %>% mutate(Previous.Previous.Reward = lag(Previous.Reward,n=240))\n",
    "ITI<- ITI %>% group_by(ID,Day) %>% mutate(Next.Choice = lead(lp,n=240))\n",
    "ITI<- ITI %>% group_by(ID,Day) %>% mutate(Next.RT = lead(rt,n=240))\n",
    "ITI<- ITI %>% group_by(ID,Day) %>% mutate(Previous.Choice = lag(lp,n=240))\n",
    "ITI = subset(ITI, time >= 0)\n",
    "\n",
    "ccfdf = ITI %>% group_by(index) %>% summarize(MaxDelay = (which.max(ccf(PFC,vHIP, 100,plot=FALSE)$acf)-101)/20,rewards=mean(rewards),ID=mean(ID),Previous.Reward=mean(Previous.Reward), Day=mean(Day))\n",
    "ccfdf$sex <- as.factor(ifelse(ccfdf$ID > 212,\"Female\", \"Male\"))\n",
    "ccfdf$rewards<-as.factor(ccfdf$rewards)\n",
    "ccfdf$ID<-as.factor(ccfdf$ID)\n",
    "ccfdf$Day<-as.factor(ccfdf$Day)\n"
   ]
  },
  {
   "cell_type": "code",
   "execution_count": 44,
   "metadata": {
    "vscode": {
     "languageId": "r"
    }
   },
   "outputs": [],
   "source": [
    "plot_theme <- theme(axis.title=element_text(size=25,color='gray30'),\n",
    "                    axis.line=element_line(color='gray30'),\n",
    "                    axis.text.y=element_text(size=20,color='gray30'),\n",
    "                    axis.text.x=element_text(size=20,color='gray30'),\n",
    "                    legend.text=element_text(size=20),\n",
    "                    legend.key.size=unit(2,'mm'),\n",
    "                    panel.background=element_blank(),\n",
    "                    panel.grid.major.y = element_blank(),\n",
    "                    legend.position = 'none',\n",
    "                    plot.margin = margin(0.5,0.5,0.5,0.5,'cm'),\n",
    "                    strip.background = element_blank(),\n",
    "                    strip.text = element_text(size=20,color='gray30')) \n",
    "\n",
    "plot_theme <- list(plot_theme, \n",
    "                        scale_color_manual(values=c('PFC'=\"#B51D1D\",  'vHIP'=\"#F27E19\")),\n",
    "                        scale_fill_manual(values=c('PFC'=\"#B51D1D\",  'vHIP'=\"#F27E19\")),\n",
    "                        scale_shape_manual(values=c('Male'=16,'Female'=17)))"
   ]
  },
  {
   "cell_type": "code",
   "execution_count": null,
   "metadata": {
    "vscode": {
     "languageId": "r"
    }
   },
   "outputs": [],
   "source": [
    "#Figure A\n",
    "\n",
    "test <- lmer(MaxDelay~sex-1+(1|ID)+(1|Day), data=ccfdf)\n",
    "summary(test)\n"
   ]
  },
  {
   "cell_type": "code",
   "execution_count": null,
   "metadata": {
    "vscode": {
     "languageId": "r"
    }
   },
   "outputs": [],
   "source": [
    "#Figure B\n",
    "\n",
    "test <- lmer(MaxDelay~rewards:sex-1+(1|ID)+(1|Day), data=ccfdf)\n",
    "summary(test)\n"
   ]
  },
  {
   "cell_type": "code",
   "execution_count": 37,
   "metadata": {
    "vscode": {
     "languageId": "r"
    }
   },
   "outputs": [],
   "source": [
    "DF <- as.data.frame(ITI[((ITI$time)>=0),] %>% group_by(index)%>%summarize(PFC=time[which.min(PFC)],vHIP=time[which.min(vHIP)],rewards=mean(rewards),ID=mean(ID),Day=as.factor(mean(Day))))\n",
    "DF<-melt(DF, id=c('index','rewards', 'ID', 'Day'))\n",
    "DF$sex <- as.factor(ifelse(DF$ID > 212,\"Female\", \"Male\"))\n",
    "DF$ID <- as.factor(DF$ID)"
   ]
  },
  {
   "cell_type": "code",
   "execution_count": null,
   "metadata": {
    "vscode": {
     "languageId": "r"
    }
   },
   "outputs": [
    {
     "name": "stderr",
     "output_type": "stream",
     "text": [
      "Note: D.f. calculations have been disabled because the number of observations exceeds 3000.\n",
      "To enable adjustments, add the argument 'pbkrtest.limit = 27152' (or larger)\n",
      "[or, globally, 'set emm_options(pbkrtest.limit = 27152)' or larger];\n",
      "but be warned that this may result in large computation time and memory use.\n",
      "\n",
      "Note: D.f. calculations have been disabled because the number of observations exceeds 3000.\n",
      "To enable adjustments, add the argument 'lmerTest.limit = 27152' (or larger)\n",
      "[or, globally, 'set emm_options(lmerTest.limit = 27152)' or larger];\n",
      "but be warned that this may result in large computation time and memory use.\n",
      "\n",
      "Note: adjust = \"tukey\" was changed to \"sidak\"\n",
      "because \"tukey\" is only appropriate for one set of pairwise comparisons\n",
      "\n",
      "Note: adjust = \"tukey\" was changed to \"sidak\"\n",
      "because \"tukey\" is only appropriate for one set of pairwise comparisons\n",
      "\n"
     ]
    },
    {
     "data": {
      "text/html": [
       "<dl>\n",
       "\t<dt>$`simple contrasts for variable`</dt>\n",
       "\t\t<dd><table class=\"dataframe\">\n",
       "<caption>A summary_emm: 2 × 7</caption>\n",
       "<thead>\n",
       "\t<tr><th></th><th scope=col>contrast</th><th scope=col>sex</th><th scope=col>estimate</th><th scope=col>SE</th><th scope=col>df</th><th scope=col>z.ratio</th><th scope=col>p.value</th></tr>\n",
       "\t<tr><th></th><th scope=col>&lt;fct&gt;</th><th scope=col>&lt;fct&gt;</th><th scope=col>&lt;dbl&gt;</th><th scope=col>&lt;dbl&gt;</th><th scope=col>&lt;dbl&gt;</th><th scope=col>&lt;dbl&gt;</th><th scope=col>&lt;dbl&gt;</th></tr>\n",
       "</thead>\n",
       "<tbody>\n",
       "\t<tr><th scope=row>1</th><td>PFC - vHIP</td><td>Female</td><td>0.4752849</td><td>0.04808688</td><td>Inf</td><td> 9.883878</td><td>0</td></tr>\n",
       "\t<tr><th scope=row>2</th><td>PFC - vHIP</td><td>Male  </td><td>0.5135935</td><td>0.04836396</td><td>Inf</td><td>10.619344</td><td>0</td></tr>\n",
       "</tbody>\n",
       "</table>\n",
       "</dd>\n",
       "\t<dt>$`simple contrasts for sex`</dt>\n",
       "\t\t<dd><table class=\"dataframe\">\n",
       "<caption>A summary_emm: 2 × 7</caption>\n",
       "<thead>\n",
       "\t<tr><th></th><th scope=col>contrast</th><th scope=col>variable</th><th scope=col>estimate</th><th scope=col>SE</th><th scope=col>df</th><th scope=col>z.ratio</th><th scope=col>p.value</th></tr>\n",
       "\t<tr><th></th><th scope=col>&lt;fct&gt;</th><th scope=col>&lt;fct&gt;</th><th scope=col>&lt;dbl&gt;</th><th scope=col>&lt;dbl&gt;</th><th scope=col>&lt;dbl&gt;</th><th scope=col>&lt;dbl&gt;</th><th scope=col>&lt;dbl&gt;</th></tr>\n",
       "</thead>\n",
       "<tbody>\n",
       "\t<tr><th scope=row>1</th><td>Female - Male</td><td>PFC </td><td>0.08191212</td><td>0.1822719</td><td>Inf</td><td>0.4493953</td><td>0.8796927</td></tr>\n",
       "\t<tr><th scope=row>2</th><td>Female - Male</td><td>vHIP</td><td>0.12022076</td><td>0.1822719</td><td>Inf</td><td>0.6595684</td><td>0.7594400</td></tr>\n",
       "</tbody>\n",
       "</table>\n",
       "</dd>\n",
       "</dl>\n"
      ],
      "text/latex": [
       "\\begin{description}\n",
       "\\item[\\$`simple contrasts for variable`] A summary\\_emm: 2 × 7\n",
       "\\begin{tabular}{r|lllllll}\n",
       "  & contrast & sex & estimate & SE & df & z.ratio & p.value\\\\\n",
       "  & <fct> & <fct> & <dbl> & <dbl> & <dbl> & <dbl> & <dbl>\\\\\n",
       "\\hline\n",
       "\t1 & PFC - vHIP & Female & 0.4752849 & 0.04808688 & Inf &  9.883878 & 0\\\\\n",
       "\t2 & PFC - vHIP & Male   & 0.5135935 & 0.04836396 & Inf & 10.619344 & 0\\\\\n",
       "\\end{tabular}\n",
       "\n",
       "\\item[\\$`simple contrasts for sex`] A summary\\_emm: 2 × 7\n",
       "\\begin{tabular}{r|lllllll}\n",
       "  & contrast & variable & estimate & SE & df & z.ratio & p.value\\\\\n",
       "  & <fct> & <fct> & <dbl> & <dbl> & <dbl> & <dbl> & <dbl>\\\\\n",
       "\\hline\n",
       "\t1 & Female - Male & PFC  & 0.08191212 & 0.1822719 & Inf & 0.4493953 & 0.8796927\\\\\n",
       "\t2 & Female - Male & vHIP & 0.12022076 & 0.1822719 & Inf & 0.6595684 & 0.7594400\\\\\n",
       "\\end{tabular}\n",
       "\n",
       "\\end{description}\n"
      ],
      "text/markdown": [
       "$`simple contrasts for variable`\n",
       ":   \n",
       "A summary_emm: 2 × 7\n",
       "\n",
       "| <!--/--> | contrast &lt;fct&gt; | sex &lt;fct&gt; | estimate &lt;dbl&gt; | SE &lt;dbl&gt; | df &lt;dbl&gt; | z.ratio &lt;dbl&gt; | p.value &lt;dbl&gt; |\n",
       "|---|---|---|---|---|---|---|---|\n",
       "| 1 | PFC - vHIP | Female | 0.4752849 | 0.04808688 | Inf |  9.883878 | 0 |\n",
       "| 2 | PFC - vHIP | Male   | 0.5135935 | 0.04836396 | Inf | 10.619344 | 0 |\n",
       "\n",
       "\n",
       "$`simple contrasts for sex`\n",
       ":   \n",
       "A summary_emm: 2 × 7\n",
       "\n",
       "| <!--/--> | contrast &lt;fct&gt; | variable &lt;fct&gt; | estimate &lt;dbl&gt; | SE &lt;dbl&gt; | df &lt;dbl&gt; | z.ratio &lt;dbl&gt; | p.value &lt;dbl&gt; |\n",
       "|---|---|---|---|---|---|---|---|\n",
       "| 1 | Female - Male | PFC  | 0.08191212 | 0.1822719 | Inf | 0.4493953 | 0.8796927 |\n",
       "| 2 | Female - Male | vHIP | 0.12022076 | 0.1822719 | Inf | 0.6595684 | 0.7594400 |\n",
       "\n",
       "\n",
       "\n",
       "\n"
      ],
      "text/plain": [
       "$`simple contrasts for variable`\n",
       " contrast   sex    estimate     SE  df z.ratio p.value\n",
       " PFC - vHIP Female    0.475 0.0481 Inf   9.884  <.0001\n",
       " PFC - vHIP Male      0.514 0.0484 Inf  10.619  <.0001\n",
       "\n",
       "Degrees-of-freedom method: asymptotic \n",
       "P value adjustment: sidak method for 2 tests \n",
       "\n",
       "$`simple contrasts for sex`\n",
       " contrast      variable estimate    SE  df z.ratio p.value\n",
       " Female - Male PFC        0.0819 0.182 Inf   0.449  0.8797\n",
       " Female - Male vHIP       0.1202 0.182 Inf   0.660  0.7594\n",
       "\n",
       "Degrees-of-freedom method: asymptotic \n",
       "P value adjustment: sidak method for 2 tests \n"
      ]
     },
     "metadata": {},
     "output_type": "display_data"
    },
    {
     "data": {
      "text/plain": [
       "sex = Female:\n",
       " variable emmean    SE  df asymp.LCL asymp.UCL\n",
       " PFC        5.71 0.139 Inf      5.44      5.98\n",
       " vHIP       5.24 0.139 Inf      4.96      5.51\n",
       "\n",
       "sex = Male:\n",
       " variable emmean    SE  df asymp.LCL asymp.UCL\n",
       " PFC        5.63 0.134 Inf      5.37      5.89\n",
       " vHIP       5.12 0.134 Inf      4.85      5.38\n",
       "\n",
       "Degrees-of-freedom method: asymptotic \n",
       "Confidence level used: 0.95 "
      ]
     },
     "metadata": {},
     "output_type": "display_data"
    },
    {
     "data": {
      "image/png": "[encoded data removed]",
      "text/plain": [
       "plot without title"
      ]
     },
     "metadata": {
      "image/png": {
       "height": 420,
       "width": 420
      }
     },
     "output_type": "display_data"
    }
   ],
   "source": [
    "#Figure C\n",
    "\n",
    "test = lmer(value~variable*sex+(1|ID)+(1|Day), data=subset(DF, rewards==1))\n",
    "test_means <- emmeans(test, ~ variable|sex)\n",
    "\n",
    "dtf <- test_means\n",
    "simp <- pairs(dtf, simple = \"each\")\n",
    "test(simp, by = NULL)\n",
    "dtf\n",
    "\n",
    "ggplot(data.frame(dtf)) +\n",
    "  geom_point( aes(x=variable, y=emmean, color=variable, shape=sex), stat=\"identity\", size = 5, alpha=0.6) +\n",
    "  geom_errorbar( aes(x=variable, ymin=emmean-SE, ymax=emmean+SE,color=variable), width=0.2, alpha=0.6, size=1.3) +\n",
    "  ylab('Time to maximum supression')+\n",
    "  plot_theme + \n",
    "  facet_grid(~sex)"
   ]
  },
  {
   "cell_type": "code",
   "execution_count": null,
   "metadata": {
    "vscode": {
     "languageId": "r"
    }
   },
   "outputs": [],
   "source": []
  }
 ],
 "metadata": {
  "kernelspec": {
   "display_name": "R",
   "language": "R",
   "name": "ir"
  },
  "language_info": {
   "codemirror_mode": "r",
   "file_extension": ".r",
   "mimetype": "text/x-r-source",
   "name": "R",
   "pygments_lexer": "r",
   "version": "4.2.1"
  }
 },
 "nbformat": 4,
 "nbformat_minor": 2
}
