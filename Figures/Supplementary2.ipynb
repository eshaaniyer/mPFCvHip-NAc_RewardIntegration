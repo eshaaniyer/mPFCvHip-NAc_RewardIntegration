{
 "cells": [
  {
   "cell_type": "code",
   "execution_count": 1,
   "metadata": {
    "vscode": {
     "languageId": "r"
    }
   },
   "outputs": [
    {
     "name": "stderr",
     "output_type": "stream",
     "text": [
      "Loading required package: Matrix\n",
      "\n",
      "************\n",
      "Welcome to afex. For support visit: http://afex.singmann.science/\n",
      "\n",
      "- Functions for ANOVAs: aov_car(), aov_ez(), and aov_4()\n",
      "- Methods for calculating p-values with mixed(): 'S', 'KR', 'LRT', and 'PB'\n",
      "- 'afex_aov' and 'mixed' objects can be passed to emmeans() for follow-up tests\n",
      "- Get and set global package options with: afex_options()\n",
      "- Set sum-to-zero contrasts globally: set_sum_contrasts()\n",
      "- For example analyses see: browseVignettes(\"afex\")\n",
      "************\n",
      "\n",
      "\n",
      "Attaching package: ‘afex’\n",
      "\n",
      "\n",
      "The following object is masked from ‘package:lme4’:\n",
      "\n",
      "    lmer\n",
      "\n",
      "\n",
      "\n",
      "Attaching package: ‘dplyr’\n",
      "\n",
      "\n",
      "The following objects are masked from ‘package:stats’:\n",
      "\n",
      "    filter, lag\n",
      "\n",
      "\n",
      "The following objects are masked from ‘package:base’:\n",
      "\n",
      "    intersect, setdiff, setequal, union\n",
      "\n",
      "\n",
      "Loading required package: zoo\n",
      "\n",
      "\n",
      "Attaching package: ‘zoo’\n",
      "\n",
      "\n",
      "The following objects are masked from ‘package:base’:\n",
      "\n",
      "    as.Date, as.Date.numeric\n",
      "\n",
      "\n",
      "\n",
      "Attaching package: ‘tidyr’\n",
      "\n",
      "\n",
      "The following objects are masked from ‘package:Matrix’:\n",
      "\n",
      "    expand, pack, unpack\n",
      "\n",
      "\n",
      "Loading required package: coda\n",
      "\n",
      "Loading required package: ape\n",
      "\n",
      "\n",
      "Attaching package: ‘reshape’\n",
      "\n",
      "\n",
      "The following objects are masked from ‘package:tidyr’:\n",
      "\n",
      "    expand, smiths\n",
      "\n",
      "\n",
      "The following object is masked from ‘package:dplyr’:\n",
      "\n",
      "    rename\n",
      "\n",
      "\n",
      "The following object is masked from ‘package:Matrix’:\n",
      "\n",
      "    expand\n",
      "\n",
      "\n",
      "\n",
      "Attaching package: ‘gridExtra’\n",
      "\n",
      "\n",
      "The following object is masked from ‘package:dplyr’:\n",
      "\n",
      "    combine\n",
      "\n",
      "\n",
      "\n",
      "Attaching package: ‘cowplot’\n",
      "\n",
      "\n",
      "The following object is masked from ‘package:reshape’:\n",
      "\n",
      "    stamp\n",
      "\n",
      "\n",
      "\n",
      "Attaching package: ‘data.table’\n",
      "\n",
      "\n",
      "The following object is masked from ‘package:reshape’:\n",
      "\n",
      "    melt\n",
      "\n",
      "\n",
      "The following objects are masked from ‘package:dplyr’:\n",
      "\n",
      "    between, first, last\n",
      "\n",
      "\n"
     ]
    }
   ],
   "source": [
    "library(lme4)\n",
    "library(afex)\n",
    "library(emmeans)\n",
    "library(dplyr)\n",
    "library(ggplot2)\n",
    "library(svglite)\n",
    "library(lmtest)\n",
    "library(tidyr)\n",
    "library(MCMCglmm)\n",
    "library(reshape)\n",
    "library(gridExtra)\n",
    "library(cowplot)\n",
    "library(svglite)\n",
    "library(data.table)"
   ]
  },
  {
   "cell_type": "code",
   "execution_count": 2,
   "metadata": {
    "vscode": {
     "languageId": "r"
    }
   },
   "outputs": [],
   "source": [
    "LickITI <- read.csv('/home/bagotlab/eshaan.i/PRL/FP_PRL_Nov_2021/Code/Longform Data/PRL_ZScore_Licks.csv')\n",
    "\n",
    "LickITI = subset(LickITI, (lp > 0))\n",
    "LickITI$time_idx <- as.factor(as.numeric(as.factor(LickITI$time)))\n",
    "LickITI<-LickITI[,c('index','time_idx','time','ID','rewards','lp','Day','rt','PFC','vHIP')]\n",
    "LickITI<- LickITI %>% group_by(ID,Day) %>% mutate(Previous.Reward = lag(rewards,n=240))\n",
    "LickITI<- LickITI %>% group_by(ID,Day) %>% mutate(Previous.Previous.Reward = lag(Previous.Reward,n=240))\n",
    "LickITI<- LickITI %>% group_by(ID,Day) %>% mutate(Next.Choice = lead(lp,n=240))\n",
    "LickITI<- LickITI %>% group_by(ID,Day) %>% mutate(Next.RT = lead(rt,n=240))\n",
    "LickITI<- LickITI %>% group_by(ID,Day) %>% mutate(Previous.Choice = lag(lp,n=240))\n",
    "LickITI$Stay <- ifelse(LickITI$lp == LickITI$Previous.Choice,1,0)\n",
    "LickITI$StayNext <- ifelse(LickITI$lp == LickITI$Next.Choice,1,0)\n",
    "LickITI$sex <- as.factor(ifelse(LickITI$ID > 212,\"Female\", \"Male\"))\n",
    "\n",
    "LickDF<- as.data.frame(LickITI[((LickITI$time)>=0)&((LickITI$time)<=2),] %>% \n",
    "                group_by(index)%>%summarize(PFC=mean(PFC),vHIP=mean(vHIP),rewards=mean(rewards),ID=mean(ID),Previous.Reward=mean(Previous.Reward), Previous.Previous.Reward=mean(Previous.Previous.Reward),Stay=mean(Stay), StayNext=mean(StayNext), lp=mean(lp),Day=mean(Day)))\n",
    "\n",
    "LickDF$ID<-as.factor(LickDF$ID)\n",
    "LickDF$Day<-as.factor(LickDF$Day)\n",
    "LickDF$rewards <- as.factor(ifelse(LickDF$rewards == 0,\"Unrewarded\", \"Rewarded\"))\n",
    "LickDF$Previous.Reward <- as.factor(ifelse(LickDF$Previous.Reward == 0,\"Unrewarded\", \"Rewarded\"))\n",
    "LickDF$Stay <- as.factor(ifelse(LickDF$Stay == 0,\"Stay\", \"Shift\"))\n",
    "LickDF$lp <- as.factor(ifelse(LickDF$lp == 1,\"Contralateral\", \"Ipsilateral\"))\n",
    "\n",
    "LickITI$rewards<-as.factor(LickITI$rewards)\n",
    "LickITI$ID<-as.factor(LickITI$ID)\n",
    "LickITI$Day<-as.factor(LickITI$Day)\n",
    "LickITI$Previous.Reward <-as.factor(LickITI$Previous.Reward)\n",
    "LickITI$rewards <- as.factor(ifelse(LickITI$rewards == 0,\"Unrewarded\", \"Rewarded\"))\n",
    "LickITI$Stay <- as.factor(ifelse(LickITI$Stay == 0,\"Shift\", \"Stay\"))\n",
    "LickITI$lp <- as.factor(ifelse(LickITI$lp == 1,\"Contralateral\", \"Ipsilateral\"))\n"
   ]
  },
  {
   "cell_type": "code",
   "execution_count": 4,
   "metadata": {
    "vscode": {
     "languageId": "r"
    }
   },
   "outputs": [],
   "source": [
    "plot_theme <- theme(axis.title=element_text(size=25,color='gray30'),\n",
    "                    axis.line=element_line(color='gray30'),\n",
    "                    axis.text.y=element_text(size=20,color='gray30'),\n",
    "                    axis.text.x=element_text(size=20,color='gray30'),\n",
    "                    legend.text=element_text(size=20),\n",
    "                    legend.key.size=unit(2,'mm'),\n",
    "                    panel.background=element_blank(),\n",
    "                    panel.grid.major.y = element_blank(),\n",
    "                    legend.position = 'none',\n",
    "                    plot.margin = margin(0.5,0.5,0.5,0.5,'cm'),\n",
    "                    strip.background = element_blank(),\n",
    "                    strip.text = element_text(size=20,color='gray30')) \n",
    "\n",
    "plot_theme_PFC <- list(plot_theme, \n",
    "                        scale_color_manual(values=c('Rewarded'=\"#B51D1D\",  'Unrewarded'=\"#444444\",'Stay'=\"#791bfa\", 'Shift'=\"#ad74fb\", \"Contralateral\"=\"#6ad53a\", \"Ipsilateral\"=\"#246706\")),\n",
    "                        scale_fill_manual(values=c('Rewarded'=\"#B51D1D\",  'Unrewarded'=\"#444444\", 'Stay'=\"#791bfa\", 'Shift'=\"#ad74fb\",\"Contralateral\"=\"#6ad53a\", \"Ipsilateral\"=\"#246706\")),\n",
    "                        scale_shape_manual(values=c('Male'=16,'Female'=17)))\n",
    "plot_theme_vHIP <- list(plot_theme, \n",
    "                        scale_color_manual(values=c('Rewarded'=\"#F27E19\", 'Unrewarded'=\"#444444\",'Stay'=\"#000bfa\", 'Shift'=\"#787ef9\", \"Contralateral\"=\"#f1c232\", \"Ipsilateral\"=\"#bc9a35\")), \n",
    "                        scale_fill_manual(values=c('Rewarded'=\"#F27E19\", 'Unrewarded'=\"#444444\",'Stay'=\"#000bfa\", 'Shift'=\"#787ef9\",\"Contralateral\"=\"#f1c232\", \"Ipsilateral\"=\"#bc9a35\")),\n",
    "                        scale_shape_manual(values=c('Male'=16,'Female'=17)))"
   ]
  },
  {
   "cell_type": "code",
   "execution_count": null,
   "metadata": {
    "vscode": {
     "languageId": "r"
    }
   },
   "outputs": [],
   "source": [
    "#Figure A\n",
    "\n",
    "PFC1BackLicks = NULL\n",
    "for (tm in 1:240){\n",
    "myModel=lmer(PFC ~ rewards*sex + (1|ID)+(1|Day),data=subset(LickITI, (time_idx==tm)))\n",
    "current_time = mean(subset(LickITI, (time_idx==tm))$time)\n",
    "PFC1BackLicks= rbind(PFC1BackLicks,cbind(time=current_time,as.data.frame(emmeans(myModel, ~ rewards|sex))))\n",
    "}\n",
    "\n",
    "pfclicks<-ggplot(data = PFC1BackLicks)+\n",
    "  geom_line(aes(time,emmean,group=rewards, colour=rewards))+\n",
    "  geom_ribbon(aes(x=time,y = emmean, ymin = emmean - SE, ymax = emmean + SE, fill = rewards), alpha = .2)+\n",
    "  xlab('Time from Lick')+\n",
    "  ylab('Mean Z-Score')+\n",
    "  geom_vline(xintercept=0, linetype=\"dotted\", size = 1)+\n",
    "  plot_theme_PFC+\n",
    "  facet_grid(~sex)"
   ]
  },
  {
   "cell_type": "code",
   "execution_count": null,
   "metadata": {
    "vscode": {
     "languageId": "r"
    }
   },
   "outputs": [],
   "source": [
    "#Figure D\n",
    "\n",
    "vHIP1BackLicks = NULL\n",
    "for (tm in 1:240){\n",
    "myModel=lmer(vHIP ~ rewards*sex + (1|ID)+(1|Day),data=subset(LickITI, (time_idx==tm)))\n",
    "current_time = mean(subset(LickITI, (time_idx==tm))$time)\n",
    "vHIP1BackLicks= rbind(vHIP1BackLicks,cbind(time=current_time,as.data.frame(emmeans(myModel, ~ rewards|sex))))\n",
    "}\n",
    "\n",
    "vhiplicks<-ggplot(data = vHIP1BackLicks)+\n",
    "  geom_line(aes(time,emmean,group=rewards, colour=rewards))+\n",
    "  geom_ribbon(aes(x=time,y = emmean, ymin = emmean - SE, ymax = emmean + SE, fill = rewards), alpha = .2)+\n",
    "  xlab('Time from Lick')+\n",
    "  ylab('Mean Z-Score')+\n",
    "  geom_vline(xintercept=0, linetype=\"dotted\", size = 1)+\n",
    "  plot_theme_vHIP +\n",
    "  facet_grid (~sex)"
   ]
  },
  {
   "cell_type": "code",
   "execution_count": 3,
   "metadata": {
    "vscode": {
     "languageId": "r"
    }
   },
   "outputs": [],
   "source": [
    "ITI <- read.csv('/home/bagotlab/eshaan.i/PRL/FP_PRL_Nov_2021/Code/Longform Data/CondensedPRL_ZScore_ITI.csv')\n",
    "ITI = subset(ITI,ID!=223)\n",
    "ITI$time_idx <- as.factor(as.numeric(as.factor(ITI$time)))\n",
    "ITI<-ITI[,c('index','time_idx','time','ID','rewards','lp','Day','rt','PFC','vHIP')]\n",
    "ITI$sex <- as.factor(ifelse(ITI$ID > 212,\"Female\", \"Male\"))\n",
    "ITI$Day <- as.numeric(as.factor(ITI$Day))\n",
    "\n",
    "Behavior<- ITI %>% group_by(index)%>%summarize(rewards=mean(rewards),ID=mean(ID),rt=mean(rt),lp=mean(lp), Day=mean(Day))\n",
    "Behavior$TrialType <- as.factor(ifelse(Behavior$rewards==1, 'Rewards', ifelse(Behavior$lp==0, 'Omission', 'Unrewarded')))\n",
    "Behavior$sex <- as.factor(ifelse(Behavior$ID > 212,\"Female\", \"Male\"))\n",
    "\n",
    "ITI = subset(ITI, lp > 0)\n",
    "ITI$time_idx <- as.factor(as.numeric(as.factor(ITI$time)))\n",
    "ITI<- ITI %>% group_by(ID,Day) %>% mutate(Previous.Reward = lag(rewards,n=240))\n",
    "ITI<- ITI %>% group_by(ID,Day) %>% mutate(Previous.Previous.Reward = lag(Previous.Reward,n=240))\n",
    "ITI<- ITI %>% group_by(ID,Day) %>% mutate(Next.Choice = lead(lp,n=240))\n",
    "ITI<- ITI %>% group_by(ID,Day) %>% mutate(Next.RT = lead(rt,n=240))\n",
    "ITI<- ITI %>% group_by(ID,Day) %>% mutate(Previous.Choice = lag(lp,n=240))\n",
    "ITI$Stay <- ifelse(ITI$lp == ITI$Previous.Choice,1,0)\n",
    "ITI$StayNext <- ifelse(ITI$lp == ITI$Next.Choice,1,0)\n",
    "\n",
    "enditi<- as.data.frame(ITI[((ITI$time)>=8)&((ITI$time)<=10),] %>% \n",
    "                group_by(index)%>%summarize(PFC=mean(PFC),vHIP=mean(vHIP),rewards=mean(rewards),ID=mean(ID),Previous.Reward=mean(Previous.Reward), Previous.Previous.Reward=mean(Previous.Previous.Reward),Stay=mean(Stay), StayNext=mean(StayNext), lp=mean(lp),Day=mean(Day), PFCend=mean(PFC),vHIPend=mean(vHIP)))\n",
    "Post_DF <- as.data.frame(ITI[((ITI$time)>=0)&((ITI$time)<=2),] %>% group_by(index)%>%summarize(PFC_Post=mean(PFC),vHIP_Post=mean(vHIP)))\n",
    "Pre_DF <- as.data.frame(ITI[((ITI$time)>=-2)&((ITI$time)<0),] %>% group_by(index)%>%summarize(PFC_Pre=mean(PFC),vHIP_Pre=mean(vHIP)))\n",
    "\n",
    "DF <- merge(enditi, Post_DF)\n",
    "DF <- merge(DF, Pre_DF)\n",
    "DF$sex <- as.factor(ifelse(DF$ID > 212,\"Female\", \"Male\"))\n",
    "DF$ID<-as.factor(DF$ID)\n",
    "DF$Day<-as.factor(DF$Day)\n",
    "DF$rewards <- as.factor(ifelse(DF$rewards == 0,\"Unrewarded\", \"Rewarded\"))\n",
    "DF$Previous.Reward <- as.factor(ifelse(DF$Previous.Reward == 0,\"Unrewarded\", \"Rewarded\"))\n",
    "DF$Stay <- as.factor(ifelse(DF$Stay == 0,\"Shift\", \"Stay\"))\n",
    "DF$lp <- as.factor(ifelse(DF$lp == 1,\"Contralateral\", \"Ipsilateral\"))\n",
    "\n",
    "ITI$rewards<-as.factor(ITI$rewards)\n",
    "ITI$ID<-as.factor(ITI$ID)\n",
    "ITI$Day<-as.factor(ITI$Day)\n",
    "ITI$Previous.Reward <-as.factor(ITI$Previous.Reward)\n",
    "ITI$rewards <- as.factor(ifelse(ITI$rewards == 0,\"Unrewarded\", \"Rewarded\"))\n",
    "ITI$Stay <- as.factor(ifelse(ITI$Stay == 0,\"Shift\", \"Stay\"))\n",
    "ITI$lp <- as.factor(ifelse(ITI$lp == 1,\"Contralateral\", \"Ipsilateral\"))\n"
   ]
  },
  {
   "cell_type": "code",
   "execution_count": null,
   "metadata": {
    "vscode": {
     "languageId": "r"
    }
   },
   "outputs": [],
   "source": [
    "#Figure B\n",
    "\n",
    "PFC1BackStay = NULL\n",
    "for (tm in 1:80){\n",
    "myModel=lmer(PFC ~ Stay*sex +(1|Previous.Reward)+(1|ID)+(1|Day),data=subset(ITI, (time_idx==tm)))\n",
    "current_time = mean(subset(ITI, (time_idx==tm))$time)\n",
    "PFC1BackStay= rbind(PFC1BackStay,cbind(time=current_time,as.data.frame(emmeans(myModel, ~ Stay|sex))))\n",
    "}\n",
    "\n",
    "ggplot(data = PFC1BackStay)+\n",
    "  geom_line(aes(time,emmean,group=Stay, colour=Stay))+\n",
    "  geom_ribbon(aes(x=time,y = emmean, ymin = emmean - SE, ymax = emmean + SE, fill = Stay), alpha = .2)+\n",
    "  xlab('Time from LP')+\n",
    "  ylab('mPFC Activity')+\n",
    "  geom_vline(xintercept=0, linetype=\"dotted\", size = 1)+\n",
    "  plot_theme_PFC+\n",
    "  facet_grid(~sex)"
   ]
  },
  {
   "cell_type": "code",
   "execution_count": null,
   "metadata": {
    "vscode": {
     "languageId": "r"
    }
   },
   "outputs": [],
   "source": [
    "#Figure E\n",
    "\n",
    "vHIP1BackStay = NULL\n",
    "for (tm in 1:80){\n",
    "myModel=lmer(vHIP ~ Stay*sex +(1|Previous.Reward)+(1|ID)+(1|Day),data=subset(ITI, (time_idx==tm)))\n",
    "current_time = mean(subset(ITI, (time_idx==tm))$time)\n",
    "vHIP1BackStay= rbind(vHIP1BackStay,cbind(time=current_time,as.data.frame(emmeans(myModel, ~ Stay|sex))))\n",
    "}\n",
    "\n",
    "ggplot(data = vHIP1BackStay)+\n",
    "  geom_line(aes(time,emmean,group=Stay, colour=Stay))+\n",
    "  geom_ribbon(aes(x=time,y = emmean, ymin = emmean - SE, ymax = emmean + SE, fill = Stay), alpha = .2)+\n",
    "  xlab('Time from LP')+\n",
    "  ylab('vHip Activity')+\n",
    "  plot_theme_vHIP + \n",
    "  geom_vline(xintercept=0, linetype=\"dotted\", size = 1)+\n",
    "  facet_grid(~sex)"
   ]
  },
  {
   "cell_type": "code",
   "execution_count": null,
   "metadata": {
    "vscode": {
     "languageId": "r"
    }
   },
   "outputs": [],
   "source": [
    "#Figure C\n",
    "\n",
    "PFC1Backlp = NULL\n",
    "for (tm in 1:80){\n",
    "myModel=lmer(PFC ~ lp*sex +(1|Previous.Reward)+(1|ID)+(1|Day),data=subset(ITI, (time_idx==tm)))\n",
    "current_time = mean(subset(ITI, (time_idx==tm))$time)\n",
    "PFC1Backlp= rbind(PFC1Backlp,cbind(time=current_time,as.data.frame(emmeans(myModel, ~ lp|sex))))\n",
    "}\n",
    "\n",
    "ggplot(data = PFC1Backlp)+\n",
    "  geom_line(aes(time,emmean,group=lp, colour=lp))+\n",
    "  geom_ribbon(aes(x=time,y = emmean, ymin = emmean - SE, ymax = emmean + SE, fill = lp), alpha = .2)+\n",
    "  xlab('Time from LP')+\n",
    "  ylab('mPFC Activity')+\n",
    "  geom_vline(xintercept=0, linetype=\"dotted\", size = 1)+\n",
    "  plot_theme_PFC+\n",
    "  facet_grid(~sex)"
   ]
  },
  {
   "cell_type": "code",
   "execution_count": null,
   "metadata": {
    "vscode": {
     "languageId": "r"
    }
   },
   "outputs": [],
   "source": [
    "#Figure F\n",
    "\n",
    "vHIP1Backlp = NULL\n",
    "for (tm in 1:80){\n",
    "myModel=lmer(vHIP ~ lp*sex +(1|Previous.Reward)+(1|ID)+(1|Day),data=subset(ITI, (time_idx==tm)))\n",
    "current_time = mean(subset(ITI, (time_idx==tm))$time)\n",
    "vHIP1Backlp= rbind(vHIP1Backlp,cbind(time=current_time,as.data.frame(emmeans(myModel, ~ lp|sex))))\n",
    "}\n",
    "\n",
    "ggplot(data = vHIP1Backlp)+\n",
    "  geom_line(aes(time,emmean,group=lp, colour=lp))+\n",
    "  geom_ribbon(aes(x=time,y = emmean, ymin = emmean - SE, ymax = emmean + SE, fill = lp), alpha = .2)+\n",
    "  xlab('Time from LP')+\n",
    "  ylab('vHip Activity')+\n",
    "  geom_vline(xintercept=0, linetype=\"dotted\", size = 1)+\n",
    "  plot_theme_vHIP+\n",
    "  facet_grid(~sex)"
   ]
  }
 ],
 "metadata": {
  "kernelspec": {
   "display_name": "R",
   "language": "R",
   "name": "ir"
  },
  "language_info": {
   "codemirror_mode": "r",
   "file_extension": ".r",
   "mimetype": "text/x-r-source",
   "name": "R",
   "pygments_lexer": "r",
   "version": "4.2.1"
  }
 },
 "nbformat": 4,
 "nbformat_minor": 2
}
