{
 "cells": [
  {
   "cell_type": "code",
   "execution_count": 1,
   "metadata": {
    "vscode": {
     "languageId": "r"
    }
   },
   "outputs": [
    {
     "name": "stderr",
     "output_type": "stream",
     "text": [
      "Loading required package: Matrix\n",
      "\n",
      "************\n",
      "Welcome to afex. For support visit: http://afex.singmann.science/\n",
      "\n",
      "- Functions for ANOVAs: aov_car(), aov_ez(), and aov_4()\n",
      "- Methods for calculating p-values with mixed(): 'S', 'KR', 'LRT', and 'PB'\n",
      "- 'afex_aov' and 'mixed' objects can be passed to emmeans() for follow-up tests\n",
      "- Get and set global package options with: afex_options()\n",
      "- Set sum-to-zero contrasts globally: set_sum_contrasts()\n",
      "- For example analyses see: browseVignettes(\"afex\")\n",
      "************\n",
      "\n",
      "\n",
      "Attaching package: ‘afex’\n",
      "\n",
      "\n",
      "The following object is masked from ‘package:lme4’:\n",
      "\n",
      "    lmer\n",
      "\n",
      "\n",
      "\n",
      "Attaching package: ‘dplyr’\n",
      "\n",
      "\n",
      "The following objects are masked from ‘package:stats’:\n",
      "\n",
      "    filter, lag\n",
      "\n",
      "\n",
      "The following objects are masked from ‘package:base’:\n",
      "\n",
      "    intersect, setdiff, setequal, union\n",
      "\n",
      "\n",
      "Loading required package: zoo\n",
      "\n",
      "\n",
      "Attaching package: ‘zoo’\n",
      "\n",
      "\n",
      "The following objects are masked from ‘package:base’:\n",
      "\n",
      "    as.Date, as.Date.numeric\n",
      "\n",
      "\n",
      "\n",
      "Attaching package: ‘tidyr’\n",
      "\n",
      "\n",
      "The following objects are masked from ‘package:Matrix’:\n",
      "\n",
      "    expand, pack, unpack\n",
      "\n",
      "\n",
      "Loading required package: coda\n",
      "\n",
      "Loading required package: ape\n",
      "\n",
      "\n",
      "Attaching package: ‘reshape’\n",
      "\n",
      "\n",
      "The following objects are masked from ‘package:tidyr’:\n",
      "\n",
      "    expand, smiths\n",
      "\n",
      "\n",
      "The following object is masked from ‘package:dplyr’:\n",
      "\n",
      "    rename\n",
      "\n",
      "\n",
      "The following object is masked from ‘package:Matrix’:\n",
      "\n",
      "    expand\n",
      "\n",
      "\n",
      "\n",
      "Attaching package: ‘gridExtra’\n",
      "\n",
      "\n",
      "The following object is masked from ‘package:dplyr’:\n",
      "\n",
      "    combine\n",
      "\n",
      "\n",
      "\n",
      "Attaching package: ‘cowplot’\n",
      "\n",
      "\n",
      "The following object is masked from ‘package:reshape’:\n",
      "\n",
      "    stamp\n",
      "\n",
      "\n",
      "\n",
      "Attaching package: ‘data.table’\n",
      "\n",
      "\n",
      "The following object is masked from ‘package:reshape’:\n",
      "\n",
      "    melt\n",
      "\n",
      "\n",
      "The following objects are masked from ‘package:dplyr’:\n",
      "\n",
      "    between, first, last\n",
      "\n",
      "\n"
     ]
    }
   ],
   "source": [
    "library(lme4)\n",
    "library(afex)\n",
    "library(emmeans)\n",
    "library(dplyr)\n",
    "library(ggplot2)\n",
    "library(svglite)\n",
    "library(lmtest)\n",
    "library(tidyr)\n",
    "library(MCMCglmm)\n",
    "library(reshape)\n",
    "library(gridExtra)\n",
    "library(cowplot)\n",
    "library(svglite)\n",
    "library(data.table)"
   ]
  },
  {
   "cell_type": "code",
   "execution_count": 3,
   "metadata": {
    "vscode": {
     "languageId": "r"
    }
   },
   "outputs": [],
   "source": [
    "ITI <- read.csv('/home/bagotlab/eshaan.i/PRL/FP_PRL_Nov_2021/CLEAN/Data/PRL_ZScore_ITI.csv')\n",
    "ITI = subset(ITI,ID!=223)\n",
    "ITI$time_idx <- as.factor(as.numeric(as.factor(ITI$time)))\n",
    "ITI<-ITI[,c('index','time_idx','time','ID','rewards','lp','LeftLeverProb','Day','rt','PFC','vHIP')]\n",
    "ITI$sex <- as.factor(ifelse(ITI$ID > 212,\"Female\", \"Male\"))\n",
    "ITI$Day <- as.numeric(as.factor(ITI$Day))\n",
    "\n",
    "ITI = subset(ITI, lp > 0)\n",
    "ITI$time_idx <- as.factor(as.numeric(as.factor(ITI$time)))\n",
    "ITI<- ITI %>% group_by(ID,Day) %>% mutate(Previous.Reward = lag(rewards,n=240))\n",
    "ITI<- ITI %>% group_by(ID,Day) %>% mutate(Next.Reward = lead(rewards,n=240))\n",
    "#created lagged dataframe where t2 is now t1\n",
    "ITI2<-ITI[!is.na(ITI$Previous.Reward),]\n",
    "ITI<-ITI %>% group_by(ID,Day) %>% mutate(DualTrialTime_Idx = rep_len(1:480, length.out=n()),DualTrial_Idx=rep(1:ceiling(n()/480), each=480, length.out=n()))\n",
    "ITI2<-ITI2 %>% group_by(ID,Day) %>% mutate(DualTrialTime_Idx = rep_len(1:480, length.out=n()),DualTrial_Idx=rep(1:ceiling(n()/480), each=480, length.out=n()))\n",
    "\n",
    "ITI = ITI %>% group_by(ID,Day,DualTrial_Idx) %>% mutate(last = DualTrialTime_Idx[[length(DualTrialTime_Idx)]])\n",
    "ITI2 = ITI2 %>% group_by(ID,Day,DualTrial_Idx) %>% mutate(last = DualTrialTime_Idx[[length(DualTrialTime_Idx)]])\n",
    "\n",
    "#remove orphan trials\n",
    "ITI = subset(ITI, last==480)\n",
    "ITI2 = subset(ITI2, last==480)\n",
    "\n",
    "ITI$DF <- 0\n",
    "ITI2$DF <- 1\n",
    "\n",
    "ITI = rbind(ITI,ITI2)\n",
    "ITI <- ITI %>% mutate(NewIdx = paste(Day,ID,DualTrial_Idx,DF))\n",
    "ITI$NewIdx = as.numeric(as.factor(ITI$NewIdx))\n",
    "ITI<-ITI %>% group_by(NewIdx) %>% mutate(CompoundReward = as.factor(paste(rewards[1],Next.Reward[1])), R1 = as.factor(rewards[1]), R2=as.factor(Next.Reward[1]))\n",
    "\n",
    "prechoice1<- as.data.frame(ITI[((ITI$DualTrialTime_Idx)>=1)&((ITI$DualTrialTime_Idx)<=40),] %>% group_by(NewIdx)%>%summarize(PFC_Pre1=mean(PFC),vHIP_Pre1=mean(vHIP)))\n",
    "ITI = merge(ITI,prechoice1,by = 'NewIdx')\n",
    "\n",
    "#calculate with baseline centered\n",
    "ITI$PFC = ITI$PFC - ITI$PFC_Pre1\n",
    "ITI$vHIP = ITI$vHIP - ITI$vHIP_Pre1\n",
    "prechoice1<- as.data.frame(ITI[((ITI$DualTrialTime_Idx)>=1)&((ITI$DualTrialTime_Idx)<=40),] %>% group_by(NewIdx)%>%summarize(PFC=mean(PFC),vHIP=mean(vHIP),R1=first(R1), R2=first(R2), ID=as.factor(mean(ID)),Day=as.factor(mean(Day)), sex=first(sex)))\n",
    "enditi1<- as.data.frame(ITI[((ITI$DualTrialTime_Idx)>=200)&((ITI$DualTrialTime_Idx)<=240),] %>% group_by(NewIdx)%>%summarize(PFC=mean(PFC),vHIP=mean(vHIP),R1=first(R1), R2=first(R2), ID=as.factor(mean(ID)),Day=as.factor(mean(Day)), sex=first(sex)))\n",
    "prechoice2<- as.data.frame(ITI[((ITI$DualTrialTime_Idx)>=241)&((ITI$DualTrialTime_Idx)<=280),] %>% group_by(NewIdx)%>%summarize(PFC=mean(PFC),vHIP=mean(vHIP),R1=first(R1), R2=first(R2), ID=as.factor(mean(ID)),Day=as.factor(mean(Day)), sex=first(sex)))\n",
    "enditi2<- as.data.frame(ITI[((ITI$DualTrialTime_Idx)>=440)&((ITI$DualTrialTime_Idx)<=480),] %>% group_by(NewIdx)%>%summarize(PFC=mean(PFC),vHIP=mean(vHIP),R1=first(R1), R2=first(R2), ID=as.factor(mean(ID)),Day=as.factor(mean(Day)), sex=first(sex)))"
   ]
  },
  {
   "cell_type": "code",
   "execution_count": 5,
   "metadata": {
    "vscode": {
     "languageId": "r"
    }
   },
   "outputs": [],
   "source": [
    "plot_theme <- theme(axis.title=element_text(size=25,color='gray30'),\n",
    "                    axis.line=element_line(color='gray30'),\n",
    "                    axis.text.y=element_text(size=20,color='gray30'),\n",
    "                    axis.text.x=element_text(size=20,color='gray30'),\n",
    "                    legend.text=element_text(size=20),\n",
    "                    legend.key.size=unit(2,'mm'),\n",
    "                    panel.background=element_blank(),\n",
    "                    panel.grid.major.y = element_blank(),\n",
    "                    legend.position = 'none',\n",
    "                    plot.margin = margin(0.5,0.5,0.5,0.5,'cm'),\n",
    "                    strip.background = element_blank(),\n",
    "                    strip.text = element_text(size=20,color='gray30')) \n",
    "\n",
    "plot_theme_PFC <- list(plot_theme, scale_color_manual(values=c('1.0'=\"#9E9E9E\",'1.1'=\"#B51D1D\",  '0.0'=\"#444444\",'0.1'=\"#EC407A\")),\n",
    "                        scale_fill_manual(values=c('1.0'=\"#9E9E9E\",'1.1'=\"#B51D1D\",  '0.0'=\"#444444\",'0.1'=\"#EC407A\")),\n",
    "                        scale_shape_manual(values=c('Male'=16,'Female'=17)))\n",
    "plot_theme_vHIP <- list(plot_theme, scale_color_manual(values=c('1.0'=\"#9E9E9E\" ,'1.1'=\"#F27E19\", '0.0'=\"#444444\",'0.1'=\"#FFC107\")), \n",
    "                        scale_fill_manual(values=c('1.0'=\"#9E9E9E\" ,'1.1'=\"#F27E19\", '0.0'=\"#444444\",'0.1'=\"#FFC107\")),\n",
    "                        scale_shape_manual(values=c('Male'=16,'Female'=17)))"
   ]
  },
  {
   "cell_type": "code",
   "execution_count": 2,
   "metadata": {
    "vscode": {
     "languageId": "r"
    }
   },
   "outputs": [],
   "source": [
    "#Plot mPFC-NAc traces\n",
    "\n",
    "PFC1Back = NULL\n",
    "for (tm in 1:480){\n",
    "myModel=lmer(PFC ~ R1*R2 +(1|ID)+(1|Day),data=subset(ITI, (DualTrialTime_Idx==tm)))\n",
    "current_time = (tm/20)-2\n",
    "PFC1Back= rbind(PFC1Back,cbind(time=current_time,as.data.frame(emmeans(myModel, ~ R1*R2))))\n",
    "}\n",
    "\n",
    "fig1<-ggplot(data = PFC1Back)+\n",
    "  geom_line(aes(time,emmean,group=interaction(R1,R2), colour=interaction(R1,R2)))+\n",
    "  geom_ribbon(aes(x=time,y = emmean, ymin = emmean - SE, ymax = emmean + SE, fill = interaction(R1,R2)), alpha = .2)+\n",
    "  xlab('Time from LP')+\n",
    "  ylab('mPFC Activity')+\n",
    "  geom_vline(xintercept=c(0,10,12,22), linetype=\"dotted\", size = 1)+\n",
    "  plot_theme_PFC"
   ]
  },
  {
   "cell_type": "code",
   "execution_count": 6,
   "metadata": {
    "vscode": {
     "languageId": "r"
    }
   },
   "outputs": [
    {
     "name": "stderr",
     "output_type": "stream",
     "text": [
      "Note: D.f. calculations have been disabled because the number of observations exceeds 3000.\n",
      "To enable adjustments, add the argument 'pbkrtest.limit = 29197' (or larger)\n",
      "[or, globally, 'set emm_options(pbkrtest.limit = 29197)' or larger];\n",
      "but be warned that this may result in large computation time and memory use.\n",
      "\n",
      "Note: D.f. calculations have been disabled because the number of observations exceeds 3000.\n",
      "To enable adjustments, add the argument 'lmerTest.limit = 29197' (or larger)\n",
      "[or, globally, 'set emm_options(lmerTest.limit = 29197)' or larger];\n",
      "but be warned that this may result in large computation time and memory use.\n",
      "\n"
     ]
    },
    {
     "data": {
      "text/plain": [
       "Linear mixed model fit by REML. t-tests use Satterthwaite's method [\n",
       "lmerModLmerTest]\n",
       "Formula: PFC ~ R1 * R2 + (1 | Day) + (1 | ID)\n",
       "   Data: enditi1\n",
       "\n",
       "REML criterion at convergence: 40561.3\n",
       "\n",
       "Scaled residuals: \n",
       "    Min      1Q  Median      3Q     Max \n",
       "-8.0014 -0.4166 -0.0002  0.4278 17.3010 \n",
       "\n",
       "Random effects:\n",
       " Groups   Name        Variance  Std.Dev.\n",
       " ID       (Intercept) 2.604e-04 0.016138\n",
       " Day      (Intercept) 3.772e-05 0.006141\n",
       " Residual             2.345e-01 0.484225\n",
       "Number of obs: 29197, groups:  ID, 21; Day, 6\n",
       "\n",
       "Fixed effects:\n",
       "              Estimate Std. Error         df t value Pr(>|t|)    \n",
       "(Intercept)  7.440e-02  7.146e-03  3.964e+01  10.411 6.65e-13 ***\n",
       "R11         -2.151e-01  8.376e-03  2.774e+04 -25.677  < 2e-16 ***\n",
       "R20          4.195e-03  7.790e-03  2.612e+04   0.539     0.59    \n",
       "R11:R20     -1.044e-02  1.141e-02  2.919e+04  -0.915     0.36    \n",
       "---\n",
       "Signif. codes:  0 ‘***’ 0.001 ‘**’ 0.01 ‘*’ 0.05 ‘.’ 0.1 ‘ ’ 1\n",
       "\n",
       "Correlation of Fixed Effects:\n",
       "        (Intr) R11    R20   \n",
       "R11     -0.535              \n",
       "R20     -0.581  0.487       \n",
       "R11:R20  0.395 -0.731 -0.679"
      ]
     },
     "metadata": {},
     "output_type": "display_data"
    },
    {
     "name": "stderr",
     "output_type": "stream",
     "text": [
      "Note: adjust = \"tukey\" was changed to \"sidak\"\n",
      "because \"tukey\" is only appropriate for one set of pairwise comparisons\n",
      "\n",
      "Note: adjust = \"tukey\" was changed to \"sidak\"\n",
      "because \"tukey\" is only appropriate for one set of pairwise comparisons\n",
      "\n"
     ]
    },
    {
     "data": {
      "text/html": [
       "<dl>\n",
       "\t<dt>$`simple contrasts for R1`</dt>\n",
       "\t\t<dd><table class=\"dataframe\">\n",
       "<caption>A summary_emm: 2 × 7</caption>\n",
       "<thead>\n",
       "\t<tr><th></th><th scope=col>contrast</th><th scope=col>R2</th><th scope=col>estimate</th><th scope=col>SE</th><th scope=col>df</th><th scope=col>z.ratio</th><th scope=col>p.value</th></tr>\n",
       "\t<tr><th></th><th scope=col>&lt;fct&gt;</th><th scope=col>&lt;fct&gt;</th><th scope=col>&lt;dbl&gt;</th><th scope=col>&lt;dbl&gt;</th><th scope=col>&lt;dbl&gt;</th><th scope=col>&lt;dbl&gt;</th><th scope=col>&lt;dbl&gt;</th></tr>\n",
       "</thead>\n",
       "<tbody>\n",
       "\t<tr><th scope=row>1</th><td>R10 - R11</td><td>1</td><td>0.2150573</td><td>0.008375588</td><td>Inf</td><td>25.67668</td><td>0</td></tr>\n",
       "\t<tr><th scope=row>2</th><td>R10 - R11</td><td>0</td><td>0.2254969</td><td>0.007789301</td><td>Inf</td><td>28.94956</td><td>0</td></tr>\n",
       "</tbody>\n",
       "</table>\n",
       "</dd>\n",
       "\t<dt>$`simple contrasts for R2`</dt>\n",
       "\t\t<dd><table class=\"dataframe\">\n",
       "<caption>A summary_emm: 2 × 7</caption>\n",
       "<thead>\n",
       "\t<tr><th></th><th scope=col>contrast</th><th scope=col>R1</th><th scope=col>estimate</th><th scope=col>SE</th><th scope=col>df</th><th scope=col>z.ratio</th><th scope=col>p.value</th></tr>\n",
       "\t<tr><th></th><th scope=col>&lt;fct&gt;</th><th scope=col>&lt;fct&gt;</th><th scope=col>&lt;dbl&gt;</th><th scope=col>&lt;dbl&gt;</th><th scope=col>&lt;dbl&gt;</th><th scope=col>&lt;dbl&gt;</th><th scope=col>&lt;dbl&gt;</th></tr>\n",
       "</thead>\n",
       "<tbody>\n",
       "\t<tr><th scope=row>1</th><td>R21 - R20</td><td>0</td><td>-0.004195302</td><td>0.007790330</td><td>Inf</td><td>-0.5385269</td><td>0.8320749</td></tr>\n",
       "\t<tr><th scope=row>2</th><td>R21 - R20</td><td>1</td><td> 0.006244301</td><td>0.008374825</td><td>Inf</td><td> 0.7456038</td><td>0.7039626</td></tr>\n",
       "</tbody>\n",
       "</table>\n",
       "</dd>\n",
       "</dl>\n"
      ],
      "text/latex": [
       "\\begin{description}\n",
       "\\item[\\$`simple contrasts for R1`] A summary\\_emm: 2 × 7\n",
       "\\begin{tabular}{r|lllllll}\n",
       "  & contrast & R2 & estimate & SE & df & z.ratio & p.value\\\\\n",
       "  & <fct> & <fct> & <dbl> & <dbl> & <dbl> & <dbl> & <dbl>\\\\\n",
       "\\hline\n",
       "\t1 & R10 - R11 & 1 & 0.2150573 & 0.008375588 & Inf & 25.67668 & 0\\\\\n",
       "\t2 & R10 - R11 & 0 & 0.2254969 & 0.007789301 & Inf & 28.94956 & 0\\\\\n",
       "\\end{tabular}\n",
       "\n",
       "\\item[\\$`simple contrasts for R2`] A summary\\_emm: 2 × 7\n",
       "\\begin{tabular}{r|lllllll}\n",
       "  & contrast & R1 & estimate & SE & df & z.ratio & p.value\\\\\n",
       "  & <fct> & <fct> & <dbl> & <dbl> & <dbl> & <dbl> & <dbl>\\\\\n",
       "\\hline\n",
       "\t1 & R21 - R20 & 0 & -0.004195302 & 0.007790330 & Inf & -0.5385269 & 0.8320749\\\\\n",
       "\t2 & R21 - R20 & 1 &  0.006244301 & 0.008374825 & Inf &  0.7456038 & 0.7039626\\\\\n",
       "\\end{tabular}\n",
       "\n",
       "\\end{description}\n"
      ],
      "text/markdown": [
       "$`simple contrasts for R1`\n",
       ":   \n",
       "A summary_emm: 2 × 7\n",
       "\n",
       "| <!--/--> | contrast &lt;fct&gt; | R2 &lt;fct&gt; | estimate &lt;dbl&gt; | SE &lt;dbl&gt; | df &lt;dbl&gt; | z.ratio &lt;dbl&gt; | p.value &lt;dbl&gt; |\n",
       "|---|---|---|---|---|---|---|---|\n",
       "| 1 | R10 - R11 | 1 | 0.2150573 | 0.008375588 | Inf | 25.67668 | 0 |\n",
       "| 2 | R10 - R11 | 0 | 0.2254969 | 0.007789301 | Inf | 28.94956 | 0 |\n",
       "\n",
       "\n",
       "$`simple contrasts for R2`\n",
       ":   \n",
       "A summary_emm: 2 × 7\n",
       "\n",
       "| <!--/--> | contrast &lt;fct&gt; | R1 &lt;fct&gt; | estimate &lt;dbl&gt; | SE &lt;dbl&gt; | df &lt;dbl&gt; | z.ratio &lt;dbl&gt; | p.value &lt;dbl&gt; |\n",
       "|---|---|---|---|---|---|---|---|\n",
       "| 1 | R21 - R20 | 0 | -0.004195302 | 0.007790330 | Inf | -0.5385269 | 0.8320749 |\n",
       "| 2 | R21 - R20 | 1 |  0.006244301 | 0.008374825 | Inf |  0.7456038 | 0.7039626 |\n",
       "\n",
       "\n",
       "\n",
       "\n"
      ],
      "text/plain": [
       "$`simple contrasts for R1`\n",
       " contrast  R2 estimate      SE  df z.ratio p.value\n",
       " R10 - R11 1     0.215 0.00838 Inf  25.677  <.0001\n",
       " R10 - R11 0     0.225 0.00779 Inf  28.950  <.0001\n",
       "\n",
       "Degrees-of-freedom method: asymptotic \n",
       "P value adjustment: sidak method for 2 tests \n",
       "\n",
       "$`simple contrasts for R2`\n",
       " contrast  R1 estimate      SE  df z.ratio p.value\n",
       " R21 - R20 0  -0.00420 0.00779 Inf  -0.539  0.8321\n",
       " R21 - R20 1   0.00624 0.00837 Inf   0.746  0.7040\n",
       "\n",
       "Degrees-of-freedom method: asymptotic \n",
       "P value adjustment: sidak method for 2 tests \n"
      ]
     },
     "metadata": {},
     "output_type": "display_data"
    },
    {
     "name": "stderr",
     "output_type": "stream",
     "text": [
      "\u001b[1m\u001b[22m`summarise()` has grouped output by 'ID', 'R1', 'R2'. You can override using\n",
      "the `.groups` argument.\n",
      "Warning message:\n",
      "“Removed 4 rows containing missing values (geom_point).”\n"
     ]
    },
    {
     "data": {
      "image/png": "[encoded data removed]",
      "text/plain": [
       "plot without title"
      ]
     },
     "metadata": {
      "image/png": {
       "height": 420,
       "width": 420
      }
     },
     "output_type": "display_data"
    }
   ],
   "source": [
    "#Quantify mPFC-NAc on t-1\n",
    "\n",
    "PFC_rewards_enditi <- lmer(PFC~R1*R2+(1|Day)+(1|ID), REML=TRUE ,data = enditi1)\n",
    "PFC_rewards_enditi_means <- emmeans(PFC_rewards_enditi, ~ R1*R2)\n",
    "\n",
    "summary(PFC_rewards_enditi)\n",
    "\n",
    "dtf <- PFC_rewards_enditi_means\n",
    "simp <- pairs(dtf, simple = \"each\")\n",
    "test(simp, by = NULL)\n",
    "Bulk <- enditi1 %>% group_by(ID, R1,R2,sex) %>% summarise(PFC=mean(PFC, na.rm = TRUE))\n",
    "dtf<- data.frame(dtf)\n",
    "ggplot(dtf) +\n",
    "  geom_point( aes(x=interaction(R1,R2), y=emmean, color=interaction(R1,R2)), stat=\"identity\", size = 5, alpha=0.6) +\n",
    "  geom_errorbar( aes(x=interaction(R1,R2), ymin=emmean-SE, ymax=emmean+SE,color=interaction(R1,R2)), width=0.2, alpha=0.6, size=1.3) +\n",
    "  geom_jitter(data=Bulk, aes(x = interaction(R1,R2), y = PFC, color = interaction(R1,R2), shape=sex), size = 2, width = 0.1) +\n",
    "  ylab('mPFC Activity')+\n",
    "  plot_theme_PFC"
   ]
  },
  {
   "cell_type": "code",
   "execution_count": 7,
   "metadata": {
    "vscode": {
     "languageId": "r"
    }
   },
   "outputs": [
    {
     "name": "stderr",
     "output_type": "stream",
     "text": [
      "Note: D.f. calculations have been disabled because the number of observations exceeds 3000.\n",
      "To enable adjustments, add the argument 'pbkrtest.limit = 29197' (or larger)\n",
      "[or, globally, 'set emm_options(pbkrtest.limit = 29197)' or larger];\n",
      "but be warned that this may result in large computation time and memory use.\n",
      "\n",
      "Note: D.f. calculations have been disabled because the number of observations exceeds 3000.\n",
      "To enable adjustments, add the argument 'lmerTest.limit = 29197' (or larger)\n",
      "[or, globally, 'set emm_options(lmerTest.limit = 29197)' or larger];\n",
      "but be warned that this may result in large computation time and memory use.\n",
      "\n"
     ]
    },
    {
     "data": {
      "text/plain": [
       "Linear mixed model fit by REML. t-tests use Satterthwaite's method [\n",
       "lmerModLmerTest]\n",
       "Formula: PFC ~ R1 * R2 + (1 | Day) + (1 | ID)\n",
       "   Data: enditi2\n",
       "\n",
       "REML criterion at convergence: 44896.4\n",
       "\n",
       "Scaled residuals: \n",
       "     Min       1Q   Median       3Q      Max \n",
       "-12.2966  -0.4058   0.0096   0.4120  16.5950 \n",
       "\n",
       "Random effects:\n",
       " Groups   Name        Variance  Std.Dev.\n",
       " ID       (Intercept) 2.512e-04 0.015849\n",
       " Day      (Intercept) 9.562e-05 0.009778\n",
       " Residual             2.720e-01 0.521548\n",
       "Number of obs: 29197, groups:  ID, 21; Day, 6\n",
       "\n",
       "Fixed effects:\n",
       "              Estimate Std. Error         df t value Pr(>|t|)    \n",
       "(Intercept) -1.324e-01  8.093e-03  2.698e+01 -16.364 1.56e-15 ***\n",
       "R11         -1.742e-02  9.025e-03  2.854e+04  -1.931   0.0535 .  \n",
       "R20          2.393e-01  8.395e-03  2.731e+04  28.510  < 2e-16 ***\n",
       "R11:R20     -5.977e-02  1.229e-02  2.919e+04  -4.864 1.15e-06 ***\n",
       "---\n",
       "Signif. codes:  0 ‘***’ 0.001 ‘**’ 0.01 ‘*’ 0.05 ‘.’ 0.1 ‘ ’ 1\n",
       "\n",
       "Correlation of Fixed Effects:\n",
       "        (Intr) R11    R20   \n",
       "R11     -0.507              \n",
       "R20     -0.553  0.486       \n",
       "R11:R20  0.376 -0.730 -0.679"
      ]
     },
     "metadata": {},
     "output_type": "display_data"
    },
    {
     "name": "stderr",
     "output_type": "stream",
     "text": [
      "Note: adjust = \"tukey\" was changed to \"sidak\"\n",
      "because \"tukey\" is only appropriate for one set of pairwise comparisons\n",
      "\n",
      "Note: adjust = \"tukey\" was changed to \"sidak\"\n",
      "because \"tukey\" is only appropriate for one set of pairwise comparisons\n",
      "\n"
     ]
    },
    {
     "data": {
      "text/html": [
       "<dl>\n",
       "\t<dt>$`simple contrasts for R1`</dt>\n",
       "\t\t<dd><table class=\"dataframe\">\n",
       "<caption>A summary_emm: 2 × 7</caption>\n",
       "<thead>\n",
       "\t<tr><th></th><th scope=col>contrast</th><th scope=col>R2</th><th scope=col>estimate</th><th scope=col>SE</th><th scope=col>df</th><th scope=col>z.ratio</th><th scope=col>p.value</th></tr>\n",
       "\t<tr><th></th><th scope=col>&lt;fct&gt;</th><th scope=col>&lt;fct&gt;</th><th scope=col>&lt;dbl&gt;</th><th scope=col>&lt;dbl&gt;</th><th scope=col>&lt;dbl&gt;</th><th scope=col>&lt;dbl&gt;</th><th scope=col>&lt;dbl&gt;</th></tr>\n",
       "</thead>\n",
       "<tbody>\n",
       "\t<tr><th scope=row>1</th><td>R10 - R11</td><td>1</td><td>0.01742547</td><td>0.009025053</td><td>Inf</td><td>1.930788</td><td>0.1041552</td></tr>\n",
       "\t<tr><th scope=row>2</th><td>R10 - R11</td><td>0</td><td>0.07719234</td><td>0.008393637</td><td>Inf</td><td>9.196531</td><td>0.0000000</td></tr>\n",
       "</tbody>\n",
       "</table>\n",
       "</dd>\n",
       "\t<dt>$`simple contrasts for R2`</dt>\n",
       "\t\t<dd><table class=\"dataframe\">\n",
       "<caption>A summary_emm: 2 × 7</caption>\n",
       "<thead>\n",
       "\t<tr><th></th><th scope=col>contrast</th><th scope=col>R1</th><th scope=col>estimate</th><th scope=col>SE</th><th scope=col>df</th><th scope=col>z.ratio</th><th scope=col>p.value</th></tr>\n",
       "\t<tr><th></th><th scope=col>&lt;fct&gt;</th><th scope=col>&lt;fct&gt;</th><th scope=col>&lt;dbl&gt;</th><th scope=col>&lt;dbl&gt;</th><th scope=col>&lt;dbl&gt;</th><th scope=col>&lt;dbl&gt;</th><th scope=col>&lt;dbl&gt;</th></tr>\n",
       "</thead>\n",
       "<tbody>\n",
       "\t<tr><th scope=row>1</th><td>R21 - R20</td><td>0</td><td>-0.2393310</td><td>0.008394703</td><td>Inf</td><td>-28.50977</td><td>0</td></tr>\n",
       "\t<tr><th scope=row>2</th><td>R21 - R20</td><td>1</td><td>-0.1795642</td><td>0.009024165</td><td>Inf</td><td>-19.89815</td><td>0</td></tr>\n",
       "</tbody>\n",
       "</table>\n",
       "</dd>\n",
       "</dl>\n"
      ],
      "text/latex": [
       "\\begin{description}\n",
       "\\item[\\$`simple contrasts for R1`] A summary\\_emm: 2 × 7\n",
       "\\begin{tabular}{r|lllllll}\n",
       "  & contrast & R2 & estimate & SE & df & z.ratio & p.value\\\\\n",
       "  & <fct> & <fct> & <dbl> & <dbl> & <dbl> & <dbl> & <dbl>\\\\\n",
       "\\hline\n",
       "\t1 & R10 - R11 & 1 & 0.01742547 & 0.009025053 & Inf & 1.930788 & 0.1041552\\\\\n",
       "\t2 & R10 - R11 & 0 & 0.07719234 & 0.008393637 & Inf & 9.196531 & 0.0000000\\\\\n",
       "\\end{tabular}\n",
       "\n",
       "\\item[\\$`simple contrasts for R2`] A summary\\_emm: 2 × 7\n",
       "\\begin{tabular}{r|lllllll}\n",
       "  & contrast & R1 & estimate & SE & df & z.ratio & p.value\\\\\n",
       "  & <fct> & <fct> & <dbl> & <dbl> & <dbl> & <dbl> & <dbl>\\\\\n",
       "\\hline\n",
       "\t1 & R21 - R20 & 0 & -0.2393310 & 0.008394703 & Inf & -28.50977 & 0\\\\\n",
       "\t2 & R21 - R20 & 1 & -0.1795642 & 0.009024165 & Inf & -19.89815 & 0\\\\\n",
       "\\end{tabular}\n",
       "\n",
       "\\end{description}\n"
      ],
      "text/markdown": [
       "$`simple contrasts for R1`\n",
       ":   \n",
       "A summary_emm: 2 × 7\n",
       "\n",
       "| <!--/--> | contrast &lt;fct&gt; | R2 &lt;fct&gt; | estimate &lt;dbl&gt; | SE &lt;dbl&gt; | df &lt;dbl&gt; | z.ratio &lt;dbl&gt; | p.value &lt;dbl&gt; |\n",
       "|---|---|---|---|---|---|---|---|\n",
       "| 1 | R10 - R11 | 1 | 0.01742547 | 0.009025053 | Inf | 1.930788 | 0.1041552 |\n",
       "| 2 | R10 - R11 | 0 | 0.07719234 | 0.008393637 | Inf | 9.196531 | 0.0000000 |\n",
       "\n",
       "\n",
       "$`simple contrasts for R2`\n",
       ":   \n",
       "A summary_emm: 2 × 7\n",
       "\n",
       "| <!--/--> | contrast &lt;fct&gt; | R1 &lt;fct&gt; | estimate &lt;dbl&gt; | SE &lt;dbl&gt; | df &lt;dbl&gt; | z.ratio &lt;dbl&gt; | p.value &lt;dbl&gt; |\n",
       "|---|---|---|---|---|---|---|---|\n",
       "| 1 | R21 - R20 | 0 | -0.2393310 | 0.008394703 | Inf | -28.50977 | 0 |\n",
       "| 2 | R21 - R20 | 1 | -0.1795642 | 0.009024165 | Inf | -19.89815 | 0 |\n",
       "\n",
       "\n",
       "\n",
       "\n"
      ],
      "text/plain": [
       "$`simple contrasts for R1`\n",
       " contrast  R2 estimate      SE  df z.ratio p.value\n",
       " R10 - R11 1    0.0174 0.00903 Inf   1.931  0.1042\n",
       " R10 - R11 0    0.0772 0.00839 Inf   9.197  <.0001\n",
       "\n",
       "Degrees-of-freedom method: asymptotic \n",
       "P value adjustment: sidak method for 2 tests \n",
       "\n",
       "$`simple contrasts for R2`\n",
       " contrast  R1 estimate      SE  df z.ratio p.value\n",
       " R21 - R20 0    -0.239 0.00839 Inf -28.510  <.0001\n",
       " R21 - R20 1    -0.180 0.00902 Inf -19.898  <.0001\n",
       "\n",
       "Degrees-of-freedom method: asymptotic \n",
       "P value adjustment: sidak method for 2 tests \n"
      ]
     },
     "metadata": {},
     "output_type": "display_data"
    },
    {
     "name": "stderr",
     "output_type": "stream",
     "text": [
      "\u001b[1m\u001b[22m`summarise()` has grouped output by 'ID', 'R1', 'R2'. You can override using\n",
      "the `.groups` argument.\n",
      "Warning message:\n",
      "“Removed 4 rows containing missing values (geom_point).”\n"
     ]
    },
    {
     "data": {
      "image/png": "[encoded data removed]",
      "text/plain": [
       "plot without title"
      ]
     },
     "metadata": {
      "image/png": {
       "height": 420,
       "width": 420
      }
     },
     "output_type": "display_data"
    }
   ],
   "source": [
    "#Quantify mPFC-NAc on t0\n",
    "\n",
    "PFC_rewards_enditi <- lmer(PFC~R1*R2+(1|Day)+(1|ID), REML=TRUE ,data = enditi2)\n",
    "PFC_rewards_enditi_means <- emmeans(PFC_rewards_enditi, ~ R1*R2)\n",
    "summary(PFC_rewards_enditi)\n",
    "dtf <- PFC_rewards_enditi_means\n",
    "simp <- pairs(dtf, simple = \"each\")\n",
    "test(simp, by = NULL)\n",
    "Bulk <- enditi2 %>% group_by(ID, R1,R2,sex) %>% summarise(PFC=mean(PFC, na.rm = TRUE))\n",
    "dtf<- data.frame(dtf)\n",
    "ggplot(dtf) +\n",
    "  geom_point( aes(x=interaction(R1,R2), y=emmean, color=interaction(R1,R2)), stat=\"identity\", size = 5, alpha=0.6) +\n",
    "  geom_errorbar( aes(x=interaction(R1,R2), ymin=emmean-SE, ymax=emmean+SE,color=interaction(R1,R2)), width=0.2, alpha=0.6, size=1.3) +\n",
    "  geom_jitter(data=Bulk, aes(x = interaction(R1,R2), y = PFC, color = interaction(R1,R2), shape=sex), size = 2, width = 0.1) +\n",
    "  ylab('mPFC Activity')+\n",
    "  plot_theme_PFC"
   ]
  },
  {
   "cell_type": "code",
   "execution_count": null,
   "metadata": {
    "vscode": {
     "languageId": "r"
    }
   },
   "outputs": [],
   "source": [
    "#Plot vHIP-NAc traces\n",
    "\n",
    "vHIP1Back = NULL\n",
    "for (tm in 1:480){\n",
    "myModel=lmer(vHIP ~ R1*R2 +(1|ID)+(1|Day),data=subset(ITI, (DualTrialTime_Idx==tm)))\n",
    "current_time = (tm/20)-2\n",
    "vHIP1Back= rbind(vHIP1Back,cbind(time=current_time,as.data.frame(emmeans(myModel, ~ R1*R2))))\n",
    "}\n",
    "\n",
    "ggplot(data = vHIP1Back)+\n",
    "  geom_line(aes(time,emmean,group=interaction(R1,R2), colour=interaction(R1,R2)))+\n",
    "  geom_ribbon(aes(x=time,y = emmean, ymin = emmean - SE, ymax = emmean + SE, fill = interaction(R1,R2)), alpha = .2)+\n",
    "  xlab('Time from LP')+\n",
    "  ylab('vHip Activity')+\n",
    "  geom_vline(xintercept=c(0,10,12,22), linetype=\"dotted\", size = 1)+\n",
    "  plot_theme_vHIP"
   ]
  },
  {
   "cell_type": "code",
   "execution_count": 11,
   "metadata": {
    "vscode": {
     "languageId": "r"
    }
   },
   "outputs": [
    {
     "name": "stderr",
     "output_type": "stream",
     "text": [
      "Note: D.f. calculations have been disabled because the number of observations exceeds 3000.\n",
      "To enable adjustments, add the argument 'pbkrtest.limit = 30660' (or larger)\n",
      "[or, globally, 'set emm_options(pbkrtest.limit = 30660)' or larger];\n",
      "but be warned that this may result in large computation time and memory use.\n",
      "\n",
      "Note: D.f. calculations have been disabled because the number of observations exceeds 3000.\n",
      "To enable adjustments, add the argument 'lmerTest.limit = 30660' (or larger)\n",
      "[or, globally, 'set emm_options(lmerTest.limit = 30660)' or larger];\n",
      "but be warned that this may result in large computation time and memory use.\n",
      "\n"
     ]
    },
    {
     "data": {
      "text/plain": [
       "Linear mixed model fit by REML. t-tests use Satterthwaite's method [\n",
       "lmerModLmerTest]\n",
       "Formula: vHIP ~ R1 * R2 + (1 | Day) + (1 | ID)\n",
       "   Data: enditi1\n",
       "\n",
       "REML criterion at convergence: 39677.2\n",
       "\n",
       "Scaled residuals: \n",
       "     Min       1Q   Median       3Q      Max \n",
       "-10.2801  -0.4595   0.0059   0.4755  16.0334 \n",
       "\n",
       "Random effects:\n",
       " Groups   Name        Variance  Std.Dev.\n",
       " ID       (Intercept) 0.0001984 0.01409 \n",
       " Day      (Intercept) 0.0002460 0.01568 \n",
       " Residual             0.2131731 0.46171 \n",
       "Number of obs: 30660, groups:  ID, 22; Day, 6\n",
       "\n",
       "Fixed effects:\n",
       "              Estimate Std. Error         df t value Pr(>|t|)    \n",
       "(Intercept)  2.025e-02  8.834e-03  1.270e+01   2.292   0.0396 *  \n",
       "R11         -9.115e-02  7.793e-03  3.053e+04 -11.696   <2e-16 ***\n",
       "R20          1.565e-02  7.264e-03  2.972e+04   2.154   0.0312 *  \n",
       "R11:R20     -1.733e-02  1.061e-02  3.065e+04  -1.633   0.1025    \n",
       "---\n",
       "Signif. codes:  0 ‘***’ 0.001 ‘**’ 0.01 ‘*’ 0.05 ‘.’ 0.1 ‘ ’ 1\n",
       "\n",
       "Correlation of Fixed Effects:\n",
       "        (Intr) R11    R20   \n",
       "R11     -0.400              \n",
       "R20     -0.437  0.483       \n",
       "R11:R20  0.297 -0.729 -0.679"
      ]
     },
     "metadata": {},
     "output_type": "display_data"
    },
    {
     "name": "stderr",
     "output_type": "stream",
     "text": [
      "Note: adjust = \"tukey\" was changed to \"sidak\"\n",
      "because \"tukey\" is only appropriate for one set of pairwise comparisons\n",
      "\n",
      "Note: adjust = \"tukey\" was changed to \"sidak\"\n",
      "because \"tukey\" is only appropriate for one set of pairwise comparisons\n",
      "\n"
     ]
    },
    {
     "data": {
      "text/html": [
       "<dl>\n",
       "\t<dt>$`simple contrasts for R1`</dt>\n",
       "\t\t<dd><table class=\"dataframe\">\n",
       "<caption>A summary_emm: 2 × 7</caption>\n",
       "<thead>\n",
       "\t<tr><th></th><th scope=col>contrast</th><th scope=col>R2</th><th scope=col>estimate</th><th scope=col>SE</th><th scope=col>df</th><th scope=col>z.ratio</th><th scope=col>p.value</th></tr>\n",
       "\t<tr><th></th><th scope=col>&lt;fct&gt;</th><th scope=col>&lt;fct&gt;</th><th scope=col>&lt;dbl&gt;</th><th scope=col>&lt;dbl&gt;</th><th scope=col>&lt;dbl&gt;</th><th scope=col>&lt;dbl&gt;</th><th scope=col>&lt;dbl&gt;</th></tr>\n",
       "</thead>\n",
       "<tbody>\n",
       "\t<tr><th scope=row>1</th><td>R10 - R11</td><td>1</td><td>0.09114994</td><td>0.007793110</td><td>Inf</td><td>11.69622</td><td>0</td></tr>\n",
       "\t<tr><th scope=row>2</th><td>R10 - R11</td><td>0</td><td>0.10847931</td><td>0.007262353</td><td>Inf</td><td>14.93721</td><td>0</td></tr>\n",
       "</tbody>\n",
       "</table>\n",
       "</dd>\n",
       "\t<dt>$`simple contrasts for R2`</dt>\n",
       "\t\t<dd><table class=\"dataframe\">\n",
       "<caption>A summary_emm: 2 × 7</caption>\n",
       "<thead>\n",
       "\t<tr><th></th><th scope=col>contrast</th><th scope=col>R1</th><th scope=col>estimate</th><th scope=col>SE</th><th scope=col>df</th><th scope=col>z.ratio</th><th scope=col>p.value</th></tr>\n",
       "\t<tr><th></th><th scope=col>&lt;fct&gt;</th><th scope=col>&lt;fct&gt;</th><th scope=col>&lt;dbl&gt;</th><th scope=col>&lt;dbl&gt;</th><th scope=col>&lt;dbl&gt;</th><th scope=col>&lt;dbl&gt;</th><th scope=col>&lt;dbl&gt;</th></tr>\n",
       "</thead>\n",
       "<tbody>\n",
       "\t<tr><th scope=row>1</th><td>R21 - R20</td><td>0</td><td>-0.015645941</td><td>0.007263513</td><td>Inf</td><td>-2.154046</td><td>0.0614974</td></tr>\n",
       "\t<tr><th scope=row>2</th><td>R21 - R20</td><td>1</td><td> 0.001683437</td><td>0.007792138</td><td>Inf</td><td> 0.216043</td><td>0.9707434</td></tr>\n",
       "</tbody>\n",
       "</table>\n",
       "</dd>\n",
       "</dl>\n"
      ],
      "text/latex": [
       "\\begin{description}\n",
       "\\item[\\$`simple contrasts for R1`] A summary\\_emm: 2 × 7\n",
       "\\begin{tabular}{r|lllllll}\n",
       "  & contrast & R2 & estimate & SE & df & z.ratio & p.value\\\\\n",
       "  & <fct> & <fct> & <dbl> & <dbl> & <dbl> & <dbl> & <dbl>\\\\\n",
       "\\hline\n",
       "\t1 & R10 - R11 & 1 & 0.09114994 & 0.007793110 & Inf & 11.69622 & 0\\\\\n",
       "\t2 & R10 - R11 & 0 & 0.10847931 & 0.007262353 & Inf & 14.93721 & 0\\\\\n",
       "\\end{tabular}\n",
       "\n",
       "\\item[\\$`simple contrasts for R2`] A summary\\_emm: 2 × 7\n",
       "\\begin{tabular}{r|lllllll}\n",
       "  & contrast & R1 & estimate & SE & df & z.ratio & p.value\\\\\n",
       "  & <fct> & <fct> & <dbl> & <dbl> & <dbl> & <dbl> & <dbl>\\\\\n",
       "\\hline\n",
       "\t1 & R21 - R20 & 0 & -0.015645941 & 0.007263513 & Inf & -2.154046 & 0.0614974\\\\\n",
       "\t2 & R21 - R20 & 1 &  0.001683437 & 0.007792138 & Inf &  0.216043 & 0.9707434\\\\\n",
       "\\end{tabular}\n",
       "\n",
       "\\end{description}\n"
      ],
      "text/markdown": [
       "$`simple contrasts for R1`\n",
       ":   \n",
       "A summary_emm: 2 × 7\n",
       "\n",
       "| <!--/--> | contrast &lt;fct&gt; | R2 &lt;fct&gt; | estimate &lt;dbl&gt; | SE &lt;dbl&gt; | df &lt;dbl&gt; | z.ratio &lt;dbl&gt; | p.value &lt;dbl&gt; |\n",
       "|---|---|---|---|---|---|---|---|\n",
       "| 1 | R10 - R11 | 1 | 0.09114994 | 0.007793110 | Inf | 11.69622 | 0 |\n",
       "| 2 | R10 - R11 | 0 | 0.10847931 | 0.007262353 | Inf | 14.93721 | 0 |\n",
       "\n",
       "\n",
       "$`simple contrasts for R2`\n",
       ":   \n",
       "A summary_emm: 2 × 7\n",
       "\n",
       "| <!--/--> | contrast &lt;fct&gt; | R1 &lt;fct&gt; | estimate &lt;dbl&gt; | SE &lt;dbl&gt; | df &lt;dbl&gt; | z.ratio &lt;dbl&gt; | p.value &lt;dbl&gt; |\n",
       "|---|---|---|---|---|---|---|---|\n",
       "| 1 | R21 - R20 | 0 | -0.015645941 | 0.007263513 | Inf | -2.154046 | 0.0614974 |\n",
       "| 2 | R21 - R20 | 1 |  0.001683437 | 0.007792138 | Inf |  0.216043 | 0.9707434 |\n",
       "\n",
       "\n",
       "\n",
       "\n"
      ],
      "text/plain": [
       "$`simple contrasts for R1`\n",
       " contrast  R2 estimate      SE  df z.ratio p.value\n",
       " R10 - R11 1    0.0911 0.00779 Inf  11.696  <.0001\n",
       " R10 - R11 0    0.1085 0.00726 Inf  14.937  <.0001\n",
       "\n",
       "Degrees-of-freedom method: asymptotic \n",
       "P value adjustment: sidak method for 2 tests \n",
       "\n",
       "$`simple contrasts for R2`\n",
       " contrast  R1 estimate      SE  df z.ratio p.value\n",
       " R21 - R20 0  -0.01565 0.00726 Inf  -2.154  0.0615\n",
       " R21 - R20 1   0.00168 0.00779 Inf   0.216  0.9707\n",
       "\n",
       "Degrees-of-freedom method: asymptotic \n",
       "P value adjustment: sidak method for 2 tests \n"
      ]
     },
     "metadata": {},
     "output_type": "display_data"
    },
    {
     "name": "stderr",
     "output_type": "stream",
     "text": [
      "\u001b[1m\u001b[22m`summarise()` has grouped output by 'ID', 'R1', 'R2'. You can override using\n",
      "the `.groups` argument.\n",
      "Warning message:\n",
      "“Removed 4 rows containing missing values (geom_point).”\n"
     ]
    },
    {
     "data": {
      "image/png": "[encoded data removed]",
      "text/plain": [
       "plot without title"
      ]
     },
     "metadata": {
      "image/png": {
       "height": 420,
       "width": 420
      }
     },
     "output_type": "display_data"
    }
   ],
   "source": [
    "#Quantify vHIP-NAc on t-1\n",
    "\n",
    "vHIP_rewards_enditi <- lmer(vHIP~R1*R2+(1|Day)+(1|ID), REML=TRUE ,data = enditi1)\n",
    "vHIP_rewards_enditi_means <- emmeans(vHIP_rewards_enditi, ~ R1*R2)\n",
    "summary(vHIP_rewards_enditi)\n",
    "dtf <- vHIP_rewards_enditi_means\n",
    "simp <- pairs(dtf, simple = \"each\")\n",
    "test(simp, by = NULL)\n",
    "Bulk <- enditi1 %>% group_by(ID, R1,R2,sex) %>% summarise(PFC=mean(PFC, na.rm = TRUE))\n",
    "dtf<- data.frame(dtf)\n",
    "ggplot(dtf) +\n",
    "  geom_point( aes(x=interaction(R1,R2), y=emmean, color=interaction(R1,R2)), stat=\"identity\", size = 5, alpha=0.6) +\n",
    "  geom_errorbar( aes(x=interaction(R1,R2), ymin=emmean-SE, ymax=emmean+SE,color=interaction(R1,R2)), width=0.2, alpha=0.6, size=1.3) +\n",
    "  geom_jitter(data=Bulk, aes(x = interaction(R1,R2), y = PFC, color = interaction(R1,R2), shape=sex), size = 2, width = 0.1) +\n",
    "  ylab('vHip Activity')+\n",
    "  plot_theme_vHIP"
   ]
  },
  {
   "cell_type": "code",
   "execution_count": 12,
   "metadata": {
    "vscode": {
     "languageId": "r"
    }
   },
   "outputs": [
    {
     "name": "stderr",
     "output_type": "stream",
     "text": [
      "Note: D.f. calculations have been disabled because the number of observations exceeds 3000.\n",
      "To enable adjustments, add the argument 'pbkrtest.limit = 30660' (or larger)\n",
      "[or, globally, 'set emm_options(pbkrtest.limit = 30660)' or larger];\n",
      "but be warned that this may result in large computation time and memory use.\n",
      "\n",
      "Note: D.f. calculations have been disabled because the number of observations exceeds 3000.\n",
      "To enable adjustments, add the argument 'lmerTest.limit = 30660' (or larger)\n",
      "[or, globally, 'set emm_options(lmerTest.limit = 30660)' or larger];\n",
      "but be warned that this may result in large computation time and memory use.\n",
      "\n"
     ]
    },
    {
     "data": {
      "text/html": [
       "<table class=\"dataframe\">\n",
       "<caption>A summary_emm: 4 × 7</caption>\n",
       "<thead>\n",
       "\t<tr><th></th><th scope=col>R1</th><th scope=col>R2</th><th scope=col>emmean</th><th scope=col>SE</th><th scope=col>df</th><th scope=col>asymp.LCL</th><th scope=col>asymp.UCL</th></tr>\n",
       "\t<tr><th></th><th scope=col>&lt;fct&gt;</th><th scope=col>&lt;fct&gt;</th><th scope=col>&lt;dbl&gt;</th><th scope=col>&lt;dbl&gt;</th><th scope=col>&lt;dbl&gt;</th><th scope=col>&lt;dbl&gt;</th><th scope=col>&lt;dbl&gt;</th></tr>\n",
       "</thead>\n",
       "<tbody>\n",
       "\t<tr><th scope=row>1</th><td>0</td><td>1</td><td>-0.06763603</td><td>0.009789905</td><td>Inf</td><td>-0.08682390</td><td>-0.0484481717</td></tr>\n",
       "\t<tr><th scope=row>2</th><td>1</td><td>1</td><td>-0.07960627</td><td>0.010124027</td><td>Inf</td><td>-0.09944900</td><td>-0.0597635436</td></tr>\n",
       "\t<tr><th scope=row>3</th><td>0</td><td>0</td><td> 0.06951111</td><td>0.009590706</td><td>Inf</td><td> 0.05071367</td><td> 0.0883085476</td></tr>\n",
       "\t<tr><th scope=row>4</th><td>1</td><td>0</td><td>-0.01990735</td><td>0.009789143</td><td>Inf</td><td>-0.03909372</td><td>-0.0007209832</td></tr>\n",
       "</tbody>\n",
       "</table>\n"
      ],
      "text/latex": [
       "A summary\\_emm: 4 × 7\n",
       "\\begin{tabular}{r|lllllll}\n",
       "  & R1 & R2 & emmean & SE & df & asymp.LCL & asymp.UCL\\\\\n",
       "  & <fct> & <fct> & <dbl> & <dbl> & <dbl> & <dbl> & <dbl>\\\\\n",
       "\\hline\n",
       "\t1 & 0 & 1 & -0.06763603 & 0.009789905 & Inf & -0.08682390 & -0.0484481717\\\\\n",
       "\t2 & 1 & 1 & -0.07960627 & 0.010124027 & Inf & -0.09944900 & -0.0597635436\\\\\n",
       "\t3 & 0 & 0 &  0.06951111 & 0.009590706 & Inf &  0.05071367 &  0.0883085476\\\\\n",
       "\t4 & 1 & 0 & -0.01990735 & 0.009789143 & Inf & -0.03909372 & -0.0007209832\\\\\n",
       "\\end{tabular}\n"
      ],
      "text/markdown": [
       "\n",
       "A summary_emm: 4 × 7\n",
       "\n",
       "| <!--/--> | R1 &lt;fct&gt; | R2 &lt;fct&gt; | emmean &lt;dbl&gt; | SE &lt;dbl&gt; | df &lt;dbl&gt; | asymp.LCL &lt;dbl&gt; | asymp.UCL &lt;dbl&gt; |\n",
       "|---|---|---|---|---|---|---|---|\n",
       "| 1 | 0 | 1 | -0.06763603 | 0.009789905 | Inf | -0.08682390 | -0.0484481717 |\n",
       "| 2 | 1 | 1 | -0.07960627 | 0.010124027 | Inf | -0.09944900 | -0.0597635436 |\n",
       "| 3 | 0 | 0 |  0.06951111 | 0.009590706 | Inf |  0.05071367 |  0.0883085476 |\n",
       "| 4 | 1 | 0 | -0.01990735 | 0.009789143 | Inf | -0.03909372 | -0.0007209832 |\n",
       "\n"
      ],
      "text/plain": [
       "  R1 R2 emmean      SE          df  asymp.LCL   asymp.UCL    \n",
       "1 0  1  -0.06763603 0.009789905 Inf -0.08682390 -0.0484481717\n",
       "2 1  1  -0.07960627 0.010124027 Inf -0.09944900 -0.0597635436\n",
       "3 0  0   0.06951111 0.009590706 Inf  0.05071367  0.0883085476\n",
       "4 1  0  -0.01990735 0.009789143 Inf -0.03909372 -0.0007209832"
      ]
     },
     "metadata": {},
     "output_type": "display_data"
    },
    {
     "name": "stderr",
     "output_type": "stream",
     "text": [
      "Note: adjust = \"tukey\" was changed to \"sidak\"\n",
      "because \"tukey\" is only appropriate for one set of pairwise comparisons\n",
      "\n",
      "Note: adjust = \"tukey\" was changed to \"sidak\"\n",
      "because \"tukey\" is only appropriate for one set of pairwise comparisons\n",
      "\n"
     ]
    },
    {
     "data": {
      "text/html": [
       "<dl>\n",
       "\t<dt>$`simple contrasts for R1`</dt>\n",
       "\t\t<dd><table class=\"dataframe\">\n",
       "<caption>A summary_emm: 2 × 7</caption>\n",
       "<thead>\n",
       "\t<tr><th></th><th scope=col>contrast</th><th scope=col>R2</th><th scope=col>estimate</th><th scope=col>SE</th><th scope=col>df</th><th scope=col>z.ratio</th><th scope=col>p.value</th></tr>\n",
       "\t<tr><th></th><th scope=col>&lt;fct&gt;</th><th scope=col>&lt;fct&gt;</th><th scope=col>&lt;dbl&gt;</th><th scope=col>&lt;dbl&gt;</th><th scope=col>&lt;dbl&gt;</th><th scope=col>&lt;dbl&gt;</th><th scope=col>&lt;dbl&gt;</th></tr>\n",
       "</thead>\n",
       "<tbody>\n",
       "\t<tr><th scope=row>1</th><td>R10 - R11</td><td>1</td><td>0.01742547</td><td>0.009025053</td><td>Inf</td><td>1.930788</td><td>0.1041552</td></tr>\n",
       "\t<tr><th scope=row>2</th><td>R10 - R11</td><td>0</td><td>0.07719234</td><td>0.008393637</td><td>Inf</td><td>9.196531</td><td>0.0000000</td></tr>\n",
       "</tbody>\n",
       "</table>\n",
       "</dd>\n",
       "\t<dt>$`simple contrasts for R2`</dt>\n",
       "\t\t<dd><table class=\"dataframe\">\n",
       "<caption>A summary_emm: 2 × 7</caption>\n",
       "<thead>\n",
       "\t<tr><th></th><th scope=col>contrast</th><th scope=col>R1</th><th scope=col>estimate</th><th scope=col>SE</th><th scope=col>df</th><th scope=col>z.ratio</th><th scope=col>p.value</th></tr>\n",
       "\t<tr><th></th><th scope=col>&lt;fct&gt;</th><th scope=col>&lt;fct&gt;</th><th scope=col>&lt;dbl&gt;</th><th scope=col>&lt;dbl&gt;</th><th scope=col>&lt;dbl&gt;</th><th scope=col>&lt;dbl&gt;</th><th scope=col>&lt;dbl&gt;</th></tr>\n",
       "</thead>\n",
       "<tbody>\n",
       "\t<tr><th scope=row>1</th><td>R21 - R20</td><td>0</td><td>-0.2393310</td><td>0.008394703</td><td>Inf</td><td>-28.50977</td><td>0</td></tr>\n",
       "\t<tr><th scope=row>2</th><td>R21 - R20</td><td>1</td><td>-0.1795642</td><td>0.009024165</td><td>Inf</td><td>-19.89815</td><td>0</td></tr>\n",
       "</tbody>\n",
       "</table>\n",
       "</dd>\n",
       "</dl>\n"
      ],
      "text/latex": [
       "\\begin{description}\n",
       "\\item[\\$`simple contrasts for R1`] A summary\\_emm: 2 × 7\n",
       "\\begin{tabular}{r|lllllll}\n",
       "  & contrast & R2 & estimate & SE & df & z.ratio & p.value\\\\\n",
       "  & <fct> & <fct> & <dbl> & <dbl> & <dbl> & <dbl> & <dbl>\\\\\n",
       "\\hline\n",
       "\t1 & R10 - R11 & 1 & 0.01742547 & 0.009025053 & Inf & 1.930788 & 0.1041552\\\\\n",
       "\t2 & R10 - R11 & 0 & 0.07719234 & 0.008393637 & Inf & 9.196531 & 0.0000000\\\\\n",
       "\\end{tabular}\n",
       "\n",
       "\\item[\\$`simple contrasts for R2`] A summary\\_emm: 2 × 7\n",
       "\\begin{tabular}{r|lllllll}\n",
       "  & contrast & R1 & estimate & SE & df & z.ratio & p.value\\\\\n",
       "  & <fct> & <fct> & <dbl> & <dbl> & <dbl> & <dbl> & <dbl>\\\\\n",
       "\\hline\n",
       "\t1 & R21 - R20 & 0 & -0.2393310 & 0.008394703 & Inf & -28.50977 & 0\\\\\n",
       "\t2 & R21 - R20 & 1 & -0.1795642 & 0.009024165 & Inf & -19.89815 & 0\\\\\n",
       "\\end{tabular}\n",
       "\n",
       "\\end{description}\n"
      ],
      "text/markdown": [
       "$`simple contrasts for R1`\n",
       ":   \n",
       "A summary_emm: 2 × 7\n",
       "\n",
       "| <!--/--> | contrast &lt;fct&gt; | R2 &lt;fct&gt; | estimate &lt;dbl&gt; | SE &lt;dbl&gt; | df &lt;dbl&gt; | z.ratio &lt;dbl&gt; | p.value &lt;dbl&gt; |\n",
       "|---|---|---|---|---|---|---|---|\n",
       "| 1 | R10 - R11 | 1 | 0.01742547 | 0.009025053 | Inf | 1.930788 | 0.1041552 |\n",
       "| 2 | R10 - R11 | 0 | 0.07719234 | 0.008393637 | Inf | 9.196531 | 0.0000000 |\n",
       "\n",
       "\n",
       "$`simple contrasts for R2`\n",
       ":   \n",
       "A summary_emm: 2 × 7\n",
       "\n",
       "| <!--/--> | contrast &lt;fct&gt; | R1 &lt;fct&gt; | estimate &lt;dbl&gt; | SE &lt;dbl&gt; | df &lt;dbl&gt; | z.ratio &lt;dbl&gt; | p.value &lt;dbl&gt; |\n",
       "|---|---|---|---|---|---|---|---|\n",
       "| 1 | R21 - R20 | 0 | -0.2393310 | 0.008394703 | Inf | -28.50977 | 0 |\n",
       "| 2 | R21 - R20 | 1 | -0.1795642 | 0.009024165 | Inf | -19.89815 | 0 |\n",
       "\n",
       "\n",
       "\n",
       "\n"
      ],
      "text/plain": [
       "$`simple contrasts for R1`\n",
       " contrast  R2 estimate      SE  df z.ratio p.value\n",
       " R10 - R11 1    0.0174 0.00903 Inf   1.931  0.1042\n",
       " R10 - R11 0    0.0772 0.00839 Inf   9.197  <.0001\n",
       "\n",
       "Degrees-of-freedom method: asymptotic \n",
       "P value adjustment: sidak method for 2 tests \n",
       "\n",
       "$`simple contrasts for R2`\n",
       " contrast  R1 estimate      SE  df z.ratio p.value\n",
       " R21 - R20 0    -0.239 0.00839 Inf -28.510  <.0001\n",
       " R21 - R20 1    -0.180 0.00902 Inf -19.898  <.0001\n",
       "\n",
       "Degrees-of-freedom method: asymptotic \n",
       "P value adjustment: sidak method for 2 tests \n"
      ]
     },
     "metadata": {},
     "output_type": "display_data"
    },
    {
     "name": "stderr",
     "output_type": "stream",
     "text": [
      "\u001b[1m\u001b[22m`summarise()` has grouped output by 'ID', 'R1', 'R2'. You can override using\n",
      "the `.groups` argument.\n",
      "Warning message:\n",
      "“Removed 4 rows containing missing values (geom_point).”\n"
     ]
    },
    {
     "data": {
      "image/png": "[encoded data removed]",
      "text/plain": [
       "plot without title"
      ]
     },
     "metadata": {
      "image/png": {
       "height": 420,
       "width": 420
      }
     },
     "output_type": "display_data"
    }
   ],
   "source": [
    "#Quantify vHIP-NAc on t0\n",
    "\n",
    "vHIP_rewards_enditi <- lmer(vHIP~R1*R2+(1|Day)+(1|ID), REML=TRUE ,data = enditi2)\n",
    "vHIP_rewards_enditi_means <- emmeans(vHIP_rewards_enditi, ~ R1*R2)\n",
    "summary(vHIP_rewards_enditi_means)\n",
    "dtf <- PFC_rewards_enditi_means\n",
    "simp <- pairs(dtf, simple = \"each\")\n",
    "test(simp, by = NULL)\n",
    "Bulk <- enditi2 %>% group_by(ID, R1,R2,sex) %>% summarise(PFC=mean(PFC, na.rm = TRUE))\n",
    "dtf<- data.frame(dtf)\n",
    "ggplot(dtf) +\n",
    "  geom_point( aes(x=interaction(R1,R2), y=emmean, color=interaction(R1,R2)), stat=\"identity\", size = 5, alpha=0.6) +\n",
    "  geom_errorbar( aes(x=interaction(R1,R2), ymin=emmean-SE, ymax=emmean+SE,color=interaction(R1,R2)), width=0.2, alpha=0.6, size=1.3) +\n",
    "  geom_jitter(data=Bulk, aes(x = interaction(R1,R2), y = PFC, color = interaction(R1,R2), shape=sex), size = 2, width = 0.1) +\n",
    "  ylab('vHip Activity')+\n",
    "  plot_theme_vHIP"
   ]
  }
 ],
 "metadata": {
  "kernelspec": {
   "display_name": "R",
   "language": "R",
   "name": "ir"
  },
  "language_info": {
   "codemirror_mode": "r",
   "file_extension": ".r",
   "mimetype": "text/x-r-source",
   "name": "R",
   "pygments_lexer": "r",
   "version": "4.2.1"
  }
 },
 "nbformat": 4,
 "nbformat_minor": 2
}
