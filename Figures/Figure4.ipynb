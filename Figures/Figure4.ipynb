{
 "cells": [
  {
   "cell_type": "code",
   "execution_count": 2,
   "metadata": {
    "vscode": {
     "languageId": "r"
    }
   },
   "outputs": [
    {
     "name": "stderr",
     "output_type": "stream",
     "text": [
      "Loading required package: Matrix\n",
      "\n",
      "************\n",
      "Welcome to afex. For support visit: http://afex.singmann.science/\n",
      "\n",
      "- Functions for ANOVAs: aov_car(), aov_ez(), and aov_4()\n",
      "- Methods for calculating p-values with mixed(): 'S', 'KR', 'LRT', and 'PB'\n",
      "- 'afex_aov' and 'mixed' objects can be passed to emmeans() for follow-up tests\n",
      "- Get and set global package options with: afex_options()\n",
      "- Set sum-to-zero contrasts globally: set_sum_contrasts()\n",
      "- For example analyses see: browseVignettes(\"afex\")\n",
      "************\n",
      "\n",
      "\n",
      "Attaching package: ‘afex’\n",
      "\n",
      "\n",
      "The following object is masked from ‘package:lme4’:\n",
      "\n",
      "    lmer\n",
      "\n",
      "\n",
      "\n",
      "Attaching package: ‘dplyr’\n",
      "\n",
      "\n",
      "The following objects are masked from ‘package:stats’:\n",
      "\n",
      "    filter, lag\n",
      "\n",
      "\n",
      "The following objects are masked from ‘package:base’:\n",
      "\n",
      "    intersect, setdiff, setequal, union\n",
      "\n",
      "\n",
      "Loading required package: zoo\n",
      "\n",
      "\n",
      "Attaching package: ‘zoo’\n",
      "\n",
      "\n",
      "The following objects are masked from ‘package:base’:\n",
      "\n",
      "    as.Date, as.Date.numeric\n",
      "\n",
      "\n",
      "\n",
      "Attaching package: ‘tidyr’\n",
      "\n",
      "\n",
      "The following objects are masked from ‘package:Matrix’:\n",
      "\n",
      "    expand, pack, unpack\n",
      "\n",
      "\n",
      "Loading required package: coda\n",
      "\n",
      "Loading required package: ape\n",
      "\n",
      "\n",
      "Attaching package: ‘reshape’\n",
      "\n",
      "\n",
      "The following objects are masked from ‘package:tidyr’:\n",
      "\n",
      "    expand, smiths\n",
      "\n",
      "\n",
      "The following object is masked from ‘package:dplyr’:\n",
      "\n",
      "    rename\n",
      "\n",
      "\n",
      "The following object is masked from ‘package:Matrix’:\n",
      "\n",
      "    expand\n",
      "\n",
      "\n",
      "\n",
      "Attaching package: ‘gridExtra’\n",
      "\n",
      "\n",
      "The following object is masked from ‘package:dplyr’:\n",
      "\n",
      "    combine\n",
      "\n",
      "\n",
      "\n",
      "Attaching package: ‘cowplot’\n",
      "\n",
      "\n",
      "The following object is masked from ‘package:reshape’:\n",
      "\n",
      "    stamp\n",
      "\n",
      "\n",
      "\n",
      "Attaching package: ‘data.table’\n",
      "\n",
      "\n",
      "The following object is masked from ‘package:reshape’:\n",
      "\n",
      "    melt\n",
      "\n",
      "\n",
      "The following objects are masked from ‘package:dplyr’:\n",
      "\n",
      "    between, first, last\n",
      "\n",
      "\n"
     ]
    }
   ],
   "source": [
    "library(lme4)\n",
    "library(afex)\n",
    "library(emmeans)\n",
    "library(dplyr)\n",
    "library(ggplot2)\n",
    "library(svglite)\n",
    "library(lmtest)\n",
    "library(tidyr)\n",
    "library(MCMCglmm)\n",
    "library(reshape)\n",
    "library(gridExtra)\n",
    "library(cowplot)\n",
    "library(svglite)\n",
    "library(data.table)"
   ]
  },
  {
   "cell_type": "code",
   "execution_count": 3,
   "metadata": {
    "vscode": {
     "languageId": "r"
    }
   },
   "outputs": [],
   "source": [
    "control <- c(203,208,209,210,214,217,221,224)\n",
    "ITI <- read.csv('/home/bagotlab/eshaan.i/PRL/FP_PRL_Nov_2021/Code/Longform Data/CondensedOneLever_ZScore_ITI.csv')\n",
    "ITI$PRL <- as.factor(ifelse(is.element(ITI$ID,control),'Control','PRL'))\n",
    "ITI = subset(ITI, (ID!=223)& (PRL!='Control'))\n",
    "ITI$time_idx <- as.factor(as.numeric(as.factor(ITI$time)))\n",
    "ITI<-ITI[,c('index','time_idx','time','ID','rewards','lp','Day','rt','PFC','vHIP')]\n",
    "ITI$sex <- as.factor(ifelse(ITI$ID > 212,\"Female\", \"Male\"))\n",
    "ITI$Day <- as.numeric(as.factor(ITI$Day))\n",
    "\n",
    "ITI = subset(ITI, lp > 0)\n",
    "ITI$time_idx <- as.factor(as.numeric(as.factor(ITI$time)))\n",
    "ITI<- ITI %>% group_by(ID,Day) %>% mutate(Previous.Reward = lag(rewards,n=240))\n",
    "ITI<- ITI %>% group_by(ID,Day) %>% mutate(Next.Reward = lead(rewards,n=240))\n",
    "#created lagged dataframe where t2 is now t1\n",
    "ITI2<-ITI[!is.na(ITI$Previous.Reward),]\n",
    "ITI<-ITI %>% group_by(ID,Day) %>% mutate(DualTrialTime_Idx = rep_len(1:480, length.out=n()),DualTrial_Idx=rep(1:ceiling(n()/480), each=480, length.out=n()))\n",
    "ITI2<-ITI2 %>% group_by(ID,Day) %>% mutate(DualTrialTime_Idx = rep_len(1:480, length.out=n()),DualTrial_Idx=rep(1:ceiling(n()/480), each=480, length.out=n()))\n",
    "\n",
    "ITI = ITI %>% group_by(ID,Day,DualTrial_Idx) %>% mutate(last = DualTrialTime_Idx[[length(DualTrialTime_Idx)]])\n",
    "ITI2 = ITI2 %>% group_by(ID,Day,DualTrial_Idx) %>% mutate(last = DualTrialTime_Idx[[length(DualTrialTime_Idx)]])\n",
    "\n",
    "#remove orphan trials\n",
    "ITI = subset(ITI, last==480)\n",
    "ITI2 = subset(ITI2, last==480)\n",
    "\n",
    "ITI$DF <- 0\n",
    "ITI2$DF <- 1\n",
    "\n",
    "ITI = rbind(ITI,ITI2)\n",
    "ITI <- ITI %>% mutate(NewIdx = paste(Day,ID,DualTrial_Idx,DF))\n",
    "ITI$NewIdx = as.numeric(as.factor(ITI$NewIdx))\n",
    "ITI<-ITI %>% group_by(NewIdx) %>% mutate(CompoundReward = as.factor(paste(rewards[1],Next.Reward[1])), R1 = as.factor(rewards[1]), R2=as.factor(Next.Reward[1]))\n",
    "\n",
    "prechoice1<- as.data.frame(ITI[((ITI$DualTrialTime_Idx)>=1)&((ITI$DualTrialTime_Idx)<=40),] %>% group_by(NewIdx)%>%summarize(PFC_Pre1=mean(PFC),vHIP_Pre1=mean(vHIP)))\n",
    "ITI = merge(ITI,prechoice1,by = 'NewIdx')\n",
    "\n",
    "#calculate with baseline centered\n",
    "ITI$PFC = ITI$PFC - ITI$PFC_Pre1\n",
    "ITI$vHIP = ITI$vHIP - ITI$vHIP_Pre1\n",
    "prechoice1<- as.data.frame(ITI[((ITI$DualTrialTime_Idx)>=1)&((ITI$DualTrialTime_Idx)<=40),] %>% group_by(NewIdx)%>%summarize(PFC=mean(PFC),vHIP=mean(vHIP),R1=first(R1), R2=first(R2), ID=as.factor(mean(ID)),Day=as.factor(mean(Day)), sex=first(sex)))\n",
    "enditi1<- as.data.frame(ITI[((ITI$DualTrialTime_Idx)>=200)&((ITI$DualTrialTime_Idx)<=240),] %>% group_by(NewIdx)%>%summarize(PFC=mean(PFC),vHIP=mean(vHIP),R1=first(R1), R2=first(R2), ID=as.factor(mean(ID)),Day=as.factor(mean(Day)), sex=first(sex)))\n",
    "prechoice2<- as.data.frame(ITI[((ITI$DualTrialTime_Idx)>=241)&((ITI$DualTrialTime_Idx)<=280),] %>% group_by(NewIdx)%>%summarize(PFC=mean(PFC),vHIP=mean(vHIP),R1=first(R1), R2=first(R2), ID=as.factor(mean(ID)),Day=as.factor(mean(Day)), sex=first(sex)))\n",
    "enditi2<- as.data.frame(ITI[((ITI$DualTrialTime_Idx)>=440)&((ITI$DualTrialTime_Idx)<=480),] %>% group_by(NewIdx)%>%summarize(PFC=mean(PFC),vHIP=mean(vHIP),R1=first(R1), R2=first(R2), ID=as.factor(mean(ID)),Day=as.factor(mean(Day)), sex=first(sex)))"
   ]
  },
  {
   "cell_type": "code",
   "execution_count": 4,
   "metadata": {
    "vscode": {
     "languageId": "r"
    }
   },
   "outputs": [],
   "source": [
    "plot_theme <- theme(axis.title=element_text(size=25,color='gray30'),\n",
    "                    axis.line=element_line(color='gray30'),\n",
    "                    axis.text.y=element_text(size=20,color='gray30'),\n",
    "                    axis.text.x=element_text(size=20,color='gray30'),\n",
    "                    legend.text=element_text(size=20),\n",
    "                    legend.key.size=unit(2,'mm'),\n",
    "                    panel.background=element_blank(),\n",
    "                    panel.grid.major.y = element_blank(),\n",
    "                    legend.position = 'none',\n",
    "                    plot.margin = margin(0.5,0.5,0.5,0.5,'cm'),\n",
    "                    strip.background = element_blank(),\n",
    "                    strip.text = element_text(size=20,color='gray30')) \n",
    "\n",
    "plot_theme_PFC <- list(plot_theme, scale_color_manual(values=c('1.0'=\"#9E9E9E\",'1.1'=\"#B51D1D\",  '0.0'=\"#444444\",'0.1'=\"#EC407A\")),\n",
    "                        scale_fill_manual(values=c('1.0'=\"#9E9E9E\",'1.1'=\"#B51D1D\",  '0.0'=\"#444444\",'0.1'=\"#EC407A\")),\n",
    "                        scale_shape_manual(values=c('Male'=16,'Female'=17)))\n",
    "plot_theme_vHIP <- list(plot_theme, scale_color_manual(values=c('1.0'=\"#9E9E9E\" ,'1.1'=\"#F27E19\", '0.0'=\"#444444\",'0.1'=\"#FFC107\")), \n",
    "                        scale_fill_manual(values=c('1.0'=\"#9E9E9E\" ,'1.1'=\"#F27E19\", '0.0'=\"#444444\",'0.1'=\"#FFC107\")),\n",
    "                        scale_shape_manual(values=c('Male'=16,'Female'=17)))"
   ]
  },
  {
   "cell_type": "code",
   "execution_count": null,
   "metadata": {
    "vscode": {
     "languageId": "r"
    }
   },
   "outputs": [],
   "source": [
    "#plot one lever traces mPFC-NAc\n",
    "\n",
    "PFC1Back = NULL\n",
    "for (tm in 1:480){\n",
    "myModel=lmer(PFC ~ R1*R2 +(1|ID)+(1|Day),data=subset(ITI, (DualTrialTime_Idx==tm)))\n",
    "current_time = (tm/20)-2\n",
    "PFC1Back= rbind(PFC1Back,cbind(time=current_time,as.data.frame(emmeans(myModel, ~ R1*R2))))\n",
    "}\n",
    "\n",
    "ggplot(data = PFC1Back)+\n",
    "  geom_line(aes(time,emmean,group=interaction(R1,R2), colour=interaction(R1,R2)))+\n",
    "  geom_ribbon(aes(x=time,y = emmean, ymin = emmean - SE, ymax = emmean + SE, fill = interaction(R1,R2)), alpha = .2)+\n",
    "  xlab('Time from LP')+\n",
    "  ylab('mPFC Activity')+\n",
    "  geom_vline(xintercept=c(0,10,12,22), linetype=\"dotted\", size = 1)+\n",
    "  plot_theme_PFC"
   ]
  },
  {
   "cell_type": "code",
   "execution_count": 5,
   "metadata": {
    "vscode": {
     "languageId": "r"
    }
   },
   "outputs": [
    {
     "name": "stderr",
     "output_type": "stream",
     "text": [
      "boundary (singular) fit: see help('isSingular')\n",
      "\n",
      "Note: D.f. calculations have been disabled because the number of observations exceeds 3000.\n",
      "To enable adjustments, add the argument 'pbkrtest.limit = 9524' (or larger)\n",
      "[or, globally, 'set emm_options(pbkrtest.limit = 9524)' or larger];\n",
      "but be warned that this may result in large computation time and memory use.\n",
      "\n",
      "Note: D.f. calculations have been disabled because the number of observations exceeds 3000.\n",
      "To enable adjustments, add the argument 'lmerTest.limit = 9524' (or larger)\n",
      "[or, globally, 'set emm_options(lmerTest.limit = 9524)' or larger];\n",
      "but be warned that this may result in large computation time and memory use.\n",
      "\n"
     ]
    },
    {
     "data": {
      "text/html": [
       "<table class=\"dataframe\">\n",
       "<caption>A summary_emm: 4 × 7</caption>\n",
       "<thead>\n",
       "\t<tr><th></th><th scope=col>R1</th><th scope=col>R2</th><th scope=col>emmean</th><th scope=col>SE</th><th scope=col>df</th><th scope=col>asymp.LCL</th><th scope=col>asymp.UCL</th></tr>\n",
       "\t<tr><th></th><th scope=col>&lt;fct&gt;</th><th scope=col>&lt;fct&gt;</th><th scope=col>&lt;dbl&gt;</th><th scope=col>&lt;dbl&gt;</th><th scope=col>&lt;dbl&gt;</th><th scope=col>&lt;dbl&gt;</th><th scope=col>&lt;dbl&gt;</th></tr>\n",
       "</thead>\n",
       "<tbody>\n",
       "\t<tr><th scope=row>1</th><td>0</td><td>0</td><td> 0.13866424</td><td>0.010050051</td><td>Inf</td><td> 0.11896650</td><td> 0.15836198</td></tr>\n",
       "\t<tr><th scope=row>2</th><td>1</td><td>0</td><td> 0.05035174</td><td>0.009661157</td><td>Inf</td><td> 0.03141622</td><td> 0.06928726</td></tr>\n",
       "\t<tr><th scope=row>3</th><td>0</td><td>1</td><td>-0.12406217</td><td>0.009667135</td><td>Inf</td><td>-0.14300941</td><td>-0.10511494</td></tr>\n",
       "\t<tr><th scope=row>4</th><td>1</td><td>1</td><td>-0.11343760</td><td>0.009569803</td><td>Inf</td><td>-0.13219407</td><td>-0.09468113</td></tr>\n",
       "</tbody>\n",
       "</table>\n"
      ],
      "text/latex": [
       "A summary\\_emm: 4 × 7\n",
       "\\begin{tabular}{r|lllllll}\n",
       "  & R1 & R2 & emmean & SE & df & asymp.LCL & asymp.UCL\\\\\n",
       "  & <fct> & <fct> & <dbl> & <dbl> & <dbl> & <dbl> & <dbl>\\\\\n",
       "\\hline\n",
       "\t1 & 0 & 0 &  0.13866424 & 0.010050051 & Inf &  0.11896650 &  0.15836198\\\\\n",
       "\t2 & 1 & 0 &  0.05035174 & 0.009661157 & Inf &  0.03141622 &  0.06928726\\\\\n",
       "\t3 & 0 & 1 & -0.12406217 & 0.009667135 & Inf & -0.14300941 & -0.10511494\\\\\n",
       "\t4 & 1 & 1 & -0.11343760 & 0.009569803 & Inf & -0.13219407 & -0.09468113\\\\\n",
       "\\end{tabular}\n"
      ],
      "text/markdown": [
       "\n",
       "A summary_emm: 4 × 7\n",
       "\n",
       "| <!--/--> | R1 &lt;fct&gt; | R2 &lt;fct&gt; | emmean &lt;dbl&gt; | SE &lt;dbl&gt; | df &lt;dbl&gt; | asymp.LCL &lt;dbl&gt; | asymp.UCL &lt;dbl&gt; |\n",
       "|---|---|---|---|---|---|---|---|\n",
       "| 1 | 0 | 0 |  0.13866424 | 0.010050051 | Inf |  0.11896650 |  0.15836198 |\n",
       "| 2 | 1 | 0 |  0.05035174 | 0.009661157 | Inf |  0.03141622 |  0.06928726 |\n",
       "| 3 | 0 | 1 | -0.12406217 | 0.009667135 | Inf | -0.14300941 | -0.10511494 |\n",
       "| 4 | 1 | 1 | -0.11343760 | 0.009569803 | Inf | -0.13219407 | -0.09468113 |\n",
       "\n"
      ],
      "text/plain": [
       "  R1 R2 emmean      SE          df  asymp.LCL   asymp.UCL  \n",
       "1 0  0   0.13866424 0.010050051 Inf  0.11896650  0.15836198\n",
       "2 1  0   0.05035174 0.009661157 Inf  0.03141622  0.06928726\n",
       "3 0  1  -0.12406217 0.009667135 Inf -0.14300941 -0.10511494\n",
       "4 1  1  -0.11343760 0.009569803 Inf -0.13219407 -0.09468113"
      ]
     },
     "metadata": {},
     "output_type": "display_data"
    },
    {
     "name": "stderr",
     "output_type": "stream",
     "text": [
      "Note: adjust = \"tukey\" was changed to \"sidak\"\n",
      "because \"tukey\" is only appropriate for one set of pairwise comparisons\n",
      "\n",
      "Note: adjust = \"tukey\" was changed to \"sidak\"\n",
      "because \"tukey\" is only appropriate for one set of pairwise comparisons\n",
      "\n"
     ]
    },
    {
     "data": {
      "text/html": [
       "<dl>\n",
       "\t<dt>$`simple contrasts for R1`</dt>\n",
       "\t\t<dd><table class=\"dataframe\">\n",
       "<caption>A summary_emm: 2 × 7</caption>\n",
       "<thead>\n",
       "\t<tr><th></th><th scope=col>contrast</th><th scope=col>R2</th><th scope=col>estimate</th><th scope=col>SE</th><th scope=col>df</th><th scope=col>z.ratio</th><th scope=col>p.value</th></tr>\n",
       "\t<tr><th></th><th scope=col>&lt;fct&gt;</th><th scope=col>&lt;fct&gt;</th><th scope=col>&lt;dbl&gt;</th><th scope=col>&lt;dbl&gt;</th><th scope=col>&lt;dbl&gt;</th><th scope=col>&lt;dbl&gt;</th><th scope=col>&lt;dbl&gt;</th></tr>\n",
       "</thead>\n",
       "<tbody>\n",
       "\t<tr><th scope=row>1</th><td>R10 - R11</td><td>0</td><td> 0.08831250</td><td>0.01391463</td><td>Inf</td><td> 6.3467389</td><td>4.398539e-10</td></tr>\n",
       "\t<tr><th scope=row>2</th><td>R10 - R11</td><td>1</td><td>-0.01062458</td><td>0.01357564</td><td>Inf</td><td>-0.7826204</td><td>6.794742e-01</td></tr>\n",
       "</tbody>\n",
       "</table>\n",
       "</dd>\n",
       "\t<dt>$`simple contrasts for R2`</dt>\n",
       "\t\t<dd><table class=\"dataframe\">\n",
       "<caption>A summary_emm: 2 × 7</caption>\n",
       "<thead>\n",
       "\t<tr><th></th><th scope=col>contrast</th><th scope=col>R1</th><th scope=col>estimate</th><th scope=col>SE</th><th scope=col>df</th><th scope=col>z.ratio</th><th scope=col>p.value</th></tr>\n",
       "\t<tr><th></th><th scope=col>&lt;fct&gt;</th><th scope=col>&lt;fct&gt;</th><th scope=col>&lt;dbl&gt;</th><th scope=col>&lt;dbl&gt;</th><th scope=col>&lt;dbl&gt;</th><th scope=col>&lt;dbl&gt;</th><th scope=col>&lt;dbl&gt;</th></tr>\n",
       "</thead>\n",
       "<tbody>\n",
       "\t<tr><th scope=row>1</th><td>R20 - R21</td><td>0</td><td>0.2627264</td><td>0.01391879</td><td>Inf</td><td>18.87567</td><td>0</td></tr>\n",
       "\t<tr><th scope=row>2</th><td>R20 - R21</td><td>1</td><td>0.1637893</td><td>0.01357139</td><td>Inf</td><td>12.06872</td><td>0</td></tr>\n",
       "</tbody>\n",
       "</table>\n",
       "</dd>\n",
       "</dl>\n"
      ],
      "text/latex": [
       "\\begin{description}\n",
       "\\item[\\$`simple contrasts for R1`] A summary\\_emm: 2 × 7\n",
       "\\begin{tabular}{r|lllllll}\n",
       "  & contrast & R2 & estimate & SE & df & z.ratio & p.value\\\\\n",
       "  & <fct> & <fct> & <dbl> & <dbl> & <dbl> & <dbl> & <dbl>\\\\\n",
       "\\hline\n",
       "\t1 & R10 - R11 & 0 &  0.08831250 & 0.01391463 & Inf &  6.3467389 & 4.398539e-10\\\\\n",
       "\t2 & R10 - R11 & 1 & -0.01062458 & 0.01357564 & Inf & -0.7826204 & 6.794742e-01\\\\\n",
       "\\end{tabular}\n",
       "\n",
       "\\item[\\$`simple contrasts for R2`] A summary\\_emm: 2 × 7\n",
       "\\begin{tabular}{r|lllllll}\n",
       "  & contrast & R1 & estimate & SE & df & z.ratio & p.value\\\\\n",
       "  & <fct> & <fct> & <dbl> & <dbl> & <dbl> & <dbl> & <dbl>\\\\\n",
       "\\hline\n",
       "\t1 & R20 - R21 & 0 & 0.2627264 & 0.01391879 & Inf & 18.87567 & 0\\\\\n",
       "\t2 & R20 - R21 & 1 & 0.1637893 & 0.01357139 & Inf & 12.06872 & 0\\\\\n",
       "\\end{tabular}\n",
       "\n",
       "\\end{description}\n"
      ],
      "text/markdown": [
       "$`simple contrasts for R1`\n",
       ":   \n",
       "A summary_emm: 2 × 7\n",
       "\n",
       "| <!--/--> | contrast &lt;fct&gt; | R2 &lt;fct&gt; | estimate &lt;dbl&gt; | SE &lt;dbl&gt; | df &lt;dbl&gt; | z.ratio &lt;dbl&gt; | p.value &lt;dbl&gt; |\n",
       "|---|---|---|---|---|---|---|---|\n",
       "| 1 | R10 - R11 | 0 |  0.08831250 | 0.01391463 | Inf |  6.3467389 | 4.398539e-10 |\n",
       "| 2 | R10 - R11 | 1 | -0.01062458 | 0.01357564 | Inf | -0.7826204 | 6.794742e-01 |\n",
       "\n",
       "\n",
       "$`simple contrasts for R2`\n",
       ":   \n",
       "A summary_emm: 2 × 7\n",
       "\n",
       "| <!--/--> | contrast &lt;fct&gt; | R1 &lt;fct&gt; | estimate &lt;dbl&gt; | SE &lt;dbl&gt; | df &lt;dbl&gt; | z.ratio &lt;dbl&gt; | p.value &lt;dbl&gt; |\n",
       "|---|---|---|---|---|---|---|---|\n",
       "| 1 | R20 - R21 | 0 | 0.2627264 | 0.01391879 | Inf | 18.87567 | 0 |\n",
       "| 2 | R20 - R21 | 1 | 0.1637893 | 0.01357139 | Inf | 12.06872 | 0 |\n",
       "\n",
       "\n",
       "\n",
       "\n"
      ],
      "text/plain": [
       "$`simple contrasts for R1`\n",
       " contrast  R2 estimate     SE  df z.ratio p.value\n",
       " R10 - R11 0    0.0883 0.0139 Inf   6.347  <.0001\n",
       " R10 - R11 1   -0.0106 0.0136 Inf  -0.783  0.6795\n",
       "\n",
       "Degrees-of-freedom method: asymptotic \n",
       "P value adjustment: sidak method for 2 tests \n",
       "\n",
       "$`simple contrasts for R2`\n",
       " contrast  R1 estimate     SE  df z.ratio p.value\n",
       " R20 - R21 0     0.263 0.0139 Inf  18.876  <.0001\n",
       " R20 - R21 1     0.164 0.0136 Inf  12.069  <.0001\n",
       "\n",
       "Degrees-of-freedom method: asymptotic \n",
       "P value adjustment: sidak method for 2 tests \n"
      ]
     },
     "metadata": {},
     "output_type": "display_data"
    },
    {
     "name": "stderr",
     "output_type": "stream",
     "text": [
      "\u001b[1m\u001b[22m`summarise()` has grouped output by 'ID', 'R1', 'R2'. You can override using\n",
      "the `.groups` argument.\n",
      "Warning message:\n",
      "“Removed 4 rows containing missing values (geom_point).”\n"
     ]
    },
    {
     "data": {
      "image/png": "[encoded data removed]",
      "text/plain": [
       "plot without title"
      ]
     },
     "metadata": {
      "image/png": {
       "height": 420,
       "width": 420
      }
     },
     "output_type": "display_data"
    }
   ],
   "source": [
    "#Quantify one lever mPFC-NAc outcome encoding on trial t0\n",
    "\n",
    "PFC_rewards_enditi <- lmer(PFC~R1*R2+(1|Day)+(1|ID), REML=TRUE ,data = enditi2)\n",
    "PFC_rewards_enditi_means <- emmeans(PFC_rewards_enditi, ~ R1*R2)\n",
    "summary(PFC_rewards_enditi_means)\n",
    "\n",
    "dtf <- PFC_rewards_enditi_means\n",
    "simp <- pairs(dtf, simple = \"each\")\n",
    "test(simp, by = NULL)\n",
    "Bulk <- enditi2 %>% group_by(ID, R1,R2,sex) %>% summarise(PFC=mean(PFC, na.rm = TRUE))\n",
    "dtf<- data.frame(dtf)\n",
    "\n",
    "ggplot(dtf) +\n",
    "  geom_point( aes(x=interaction(R1,R2), y=emmean, color=interaction(R1,R2)), stat=\"identity\", size = 5, alpha=0.6) +\n",
    "  geom_errorbar( aes(x=interaction(R1,R2), ymin=emmean-SE, ymax=emmean+SE,color=interaction(R1,R2)), width=0.2, alpha=0.6, size=1.3) +\n",
    "  geom_jitter(data=Bulk, aes(x = interaction(R1,R2), y = PFC, color = interaction(R1,R2), shape=sex), size = 2, width = 0.1) +\n",
    "  ylab('mPFC Activity')+\n",
    "  plot_theme_PFC"
   ]
  },
  {
   "cell_type": "code",
   "execution_count": null,
   "metadata": {
    "vscode": {
     "languageId": "r"
    }
   },
   "outputs": [],
   "source": [
    "#plot one lever traces vHIP-NAc\n",
    "\n",
    "vHIP1Back = NULL\n",
    "for (tm in 1:480){\n",
    "myModel=lmer(vHIP ~ R1*R2 +(1|ID)+(1|Day),data=subset(ITI, (DualTrialTime_Idx==tm)))\n",
    "current_time = (tm/20)-2\n",
    "vHIP1Back= rbind(vHIP1Back,cbind(time=current_time,as.data.frame(emmeans(myModel, ~ R1*R2))))\n",
    "}\n",
    "\n",
    "ggplot(data = vHIP1Back)+\n",
    "  geom_line(aes(time,emmean,group=interaction(R1,R2), colour=interaction(R1,R2)))+\n",
    "  geom_ribbon(aes(x=time,y = emmean, ymin = emmean - SE, ymax = emmean + SE, fill = interaction(R1,R2)), alpha = .2)+\n",
    "  xlab('Time from LP')+\n",
    "  ylab('vHip Activity')+\n",
    "  geom_vline(xintercept=c(0,10,12,22), linetype=\"dotted\", size = 1)+\n",
    "  plot_theme_vHIP"
   ]
  },
  {
   "cell_type": "code",
   "execution_count": 6,
   "metadata": {
    "vscode": {
     "languageId": "r"
    }
   },
   "outputs": [
    {
     "name": "stderr",
     "output_type": "stream",
     "text": [
      "boundary (singular) fit: see help('isSingular')\n",
      "\n",
      "Note: D.f. calculations have been disabled because the number of observations exceeds 3000.\n",
      "To enable adjustments, add the argument 'pbkrtest.limit = 10332' (or larger)\n",
      "[or, globally, 'set emm_options(pbkrtest.limit = 10332)' or larger];\n",
      "but be warned that this may result in large computation time and memory use.\n",
      "\n",
      "Note: D.f. calculations have been disabled because the number of observations exceeds 3000.\n",
      "To enable adjustments, add the argument 'lmerTest.limit = 10332' (or larger)\n",
      "[or, globally, 'set emm_options(lmerTest.limit = 10332)' or larger];\n",
      "but be warned that this may result in large computation time and memory use.\n",
      "\n"
     ]
    },
    {
     "data": {
      "text/plain": [
       "Linear mixed model fit by REML. t-tests use Satterthwaite's method [\n",
       "lmerModLmerTest]\n",
       "Formula: vHIP ~ R1 * R2 + (1 | Day) + (1 | ID)\n",
       "   Data: enditi2\n",
       "\n",
       "REML criterion at convergence: 13115.9\n",
       "\n",
       "Scaled residuals: \n",
       "    Min      1Q  Median      3Q     Max \n",
       "-7.4738 -0.4888  0.0048  0.4919  5.9763 \n",
       "\n",
       "Random effects:\n",
       " Groups   Name        Variance  Std.Dev.\n",
       " ID       (Intercept) 0.0001934 0.01391 \n",
       " Day      (Intercept) 0.0000000 0.00000 \n",
       " Residual             0.2077040 0.45575 \n",
       "Number of obs: 10332, groups:  ID, 14; Day, 3\n",
       "\n",
       "Fixed effects:\n",
       "              Estimate Std. Error         df t value Pr(>|t|)    \n",
       "(Intercept)  7.994e-02  1.003e-02  1.133e+02   7.970 1.38e-12 ***\n",
       "R11         -8.036e-02  1.287e-02  1.033e+04  -6.242 4.48e-10 ***\n",
       "R21         -1.098e-01  1.288e-02  1.033e+04  -8.525  < 2e-16 ***\n",
       "R11:R21      5.904e-02  1.796e-02  1.033e+04   3.288  0.00101 ** \n",
       "---\n",
       "Signif. codes:  0 ‘***’ 0.001 ‘**’ 0.01 ‘*’ 0.05 ‘.’ 0.1 ‘ ’ 1\n",
       "\n",
       "Correlation of Fixed Effects:\n",
       "        (Intr) R11    R21   \n",
       "R11     -0.672              \n",
       "R21     -0.671  0.524       \n",
       "R11:R21  0.481 -0.716 -0.717\n",
       "optimizer (nloptwrap) convergence code: 0 (OK)\n",
       "boundary (singular) fit: see help('isSingular')\n"
      ]
     },
     "metadata": {},
     "output_type": "display_data"
    },
    {
     "name": "stderr",
     "output_type": "stream",
     "text": [
      "Note: adjust = \"tukey\" was changed to \"sidak\"\n",
      "because \"tukey\" is only appropriate for one set of pairwise comparisons\n",
      "\n",
      "Note: adjust = \"tukey\" was changed to \"sidak\"\n",
      "because \"tukey\" is only appropriate for one set of pairwise comparisons\n",
      "\n"
     ]
    },
    {
     "data": {
      "text/html": [
       "<dl>\n",
       "\t<dt>$`simple contrasts for R1`</dt>\n",
       "\t\t<dd><table class=\"dataframe\">\n",
       "<caption>A summary_emm: 2 × 7</caption>\n",
       "<thead>\n",
       "\t<tr><th></th><th scope=col>contrast</th><th scope=col>R2</th><th scope=col>estimate</th><th scope=col>SE</th><th scope=col>df</th><th scope=col>z.ratio</th><th scope=col>p.value</th></tr>\n",
       "\t<tr><th></th><th scope=col>&lt;fct&gt;</th><th scope=col>&lt;fct&gt;</th><th scope=col>&lt;dbl&gt;</th><th scope=col>&lt;dbl&gt;</th><th scope=col>&lt;dbl&gt;</th><th scope=col>&lt;dbl&gt;</th><th scope=col>&lt;dbl&gt;</th></tr>\n",
       "</thead>\n",
       "<tbody>\n",
       "\t<tr><th scope=row>1</th><td>R10 - R11</td><td>0</td><td>0.08036068</td><td>0.01287321</td><td>Inf</td><td>6.242476</td><td>8.613941e-10</td></tr>\n",
       "\t<tr><th scope=row>2</th><td>R10 - R11</td><td>1</td><td>0.02131914</td><td>0.01252661</td><td>Inf</td><td>1.701908</td><td>1.696647e-01</td></tr>\n",
       "</tbody>\n",
       "</table>\n",
       "</dd>\n",
       "\t<dt>$`simple contrasts for R2`</dt>\n",
       "\t\t<dd><table class=\"dataframe\">\n",
       "<caption>A summary_emm: 2 × 7</caption>\n",
       "<thead>\n",
       "\t<tr><th></th><th scope=col>contrast</th><th scope=col>R1</th><th scope=col>estimate</th><th scope=col>SE</th><th scope=col>df</th><th scope=col>z.ratio</th><th scope=col>p.value</th></tr>\n",
       "\t<tr><th></th><th scope=col>&lt;fct&gt;</th><th scope=col>&lt;fct&gt;</th><th scope=col>&lt;dbl&gt;</th><th scope=col>&lt;dbl&gt;</th><th scope=col>&lt;dbl&gt;</th><th scope=col>&lt;dbl&gt;</th><th scope=col>&lt;dbl&gt;</th></tr>\n",
       "</thead>\n",
       "<tbody>\n",
       "\t<tr><th scope=row>1</th><td>R20 - R21</td><td>0</td><td>0.10977901</td><td>0.01287802</td><td>Inf</td><td>8.524527</td><td>0.0000000000</td></tr>\n",
       "\t<tr><th scope=row>2</th><td>R20 - R21</td><td>1</td><td>0.05073747</td><td>0.01252194</td><td>Inf</td><td>4.051885</td><td>0.0001016107</td></tr>\n",
       "</tbody>\n",
       "</table>\n",
       "</dd>\n",
       "</dl>\n"
      ],
      "text/latex": [
       "\\begin{description}\n",
       "\\item[\\$`simple contrasts for R1`] A summary\\_emm: 2 × 7\n",
       "\\begin{tabular}{r|lllllll}\n",
       "  & contrast & R2 & estimate & SE & df & z.ratio & p.value\\\\\n",
       "  & <fct> & <fct> & <dbl> & <dbl> & <dbl> & <dbl> & <dbl>\\\\\n",
       "\\hline\n",
       "\t1 & R10 - R11 & 0 & 0.08036068 & 0.01287321 & Inf & 6.242476 & 8.613941e-10\\\\\n",
       "\t2 & R10 - R11 & 1 & 0.02131914 & 0.01252661 & Inf & 1.701908 & 1.696647e-01\\\\\n",
       "\\end{tabular}\n",
       "\n",
       "\\item[\\$`simple contrasts for R2`] A summary\\_emm: 2 × 7\n",
       "\\begin{tabular}{r|lllllll}\n",
       "  & contrast & R1 & estimate & SE & df & z.ratio & p.value\\\\\n",
       "  & <fct> & <fct> & <dbl> & <dbl> & <dbl> & <dbl> & <dbl>\\\\\n",
       "\\hline\n",
       "\t1 & R20 - R21 & 0 & 0.10977901 & 0.01287802 & Inf & 8.524527 & 0.0000000000\\\\\n",
       "\t2 & R20 - R21 & 1 & 0.05073747 & 0.01252194 & Inf & 4.051885 & 0.0001016107\\\\\n",
       "\\end{tabular}\n",
       "\n",
       "\\end{description}\n"
      ],
      "text/markdown": [
       "$`simple contrasts for R1`\n",
       ":   \n",
       "A summary_emm: 2 × 7\n",
       "\n",
       "| <!--/--> | contrast &lt;fct&gt; | R2 &lt;fct&gt; | estimate &lt;dbl&gt; | SE &lt;dbl&gt; | df &lt;dbl&gt; | z.ratio &lt;dbl&gt; | p.value &lt;dbl&gt; |\n",
       "|---|---|---|---|---|---|---|---|\n",
       "| 1 | R10 - R11 | 0 | 0.08036068 | 0.01287321 | Inf | 6.242476 | 8.613941e-10 |\n",
       "| 2 | R10 - R11 | 1 | 0.02131914 | 0.01252661 | Inf | 1.701908 | 1.696647e-01 |\n",
       "\n",
       "\n",
       "$`simple contrasts for R2`\n",
       ":   \n",
       "A summary_emm: 2 × 7\n",
       "\n",
       "| <!--/--> | contrast &lt;fct&gt; | R1 &lt;fct&gt; | estimate &lt;dbl&gt; | SE &lt;dbl&gt; | df &lt;dbl&gt; | z.ratio &lt;dbl&gt; | p.value &lt;dbl&gt; |\n",
       "|---|---|---|---|---|---|---|---|\n",
       "| 1 | R20 - R21 | 0 | 0.10977901 | 0.01287802 | Inf | 8.524527 | 0.0000000000 |\n",
       "| 2 | R20 - R21 | 1 | 0.05073747 | 0.01252194 | Inf | 4.051885 | 0.0001016107 |\n",
       "\n",
       "\n",
       "\n",
       "\n"
      ],
      "text/plain": [
       "$`simple contrasts for R1`\n",
       " contrast  R2 estimate     SE  df z.ratio p.value\n",
       " R10 - R11 0    0.0804 0.0129 Inf   6.242  <.0001\n",
       " R10 - R11 1    0.0213 0.0125 Inf   1.702  0.1697\n",
       "\n",
       "Degrees-of-freedom method: asymptotic \n",
       "P value adjustment: sidak method for 2 tests \n",
       "\n",
       "$`simple contrasts for R2`\n",
       " contrast  R1 estimate     SE  df z.ratio p.value\n",
       " R20 - R21 0    0.1098 0.0129 Inf   8.525  <.0001\n",
       " R20 - R21 1    0.0507 0.0125 Inf   4.052  0.0001\n",
       "\n",
       "Degrees-of-freedom method: asymptotic \n",
       "P value adjustment: sidak method for 2 tests \n"
      ]
     },
     "metadata": {},
     "output_type": "display_data"
    },
    {
     "name": "stderr",
     "output_type": "stream",
     "text": [
      "\u001b[1m\u001b[22m`summarise()` has grouped output by 'ID', 'R1', 'R2'. You can override using\n",
      "the `.groups` argument.\n"
     ]
    }
   ],
   "source": [
    "#Quantify one lever vHIP-NAc outcome encoding on trial t0\n",
    "\n",
    "vHIP_rewards_enditi <- lmer(vHIP~R1*R2+(1|Day)+(1|ID), REML=TRUE ,data = enditi2)\n",
    "vHIP_rewards_enditi_means <- emmeans(vHIP_rewards_enditi, ~ R1*R2)\n",
    "summary(vHIP_rewards_enditi)\n",
    "\n",
    "dtf <- vHIP_rewards_enditi_means\n",
    "simp <- pairs(dtf, simple = \"each\")\n",
    "test(simp, by = NULL)\n",
    "Bulk <- enditi2 %>% group_by(ID, R1,R2,sex) %>% summarise(vHIP=mean(vHIP, na.rm = TRUE))\n",
    "dtf<- data.frame(dtf)\n",
    "fig<-ggplot(dtf) +\n",
    "  geom_point( aes(x=interaction(R1,R2), y=emmean, color=interaction(R1,R2)), stat=\"identity\", size = 5, alpha=0.6) +\n",
    "  geom_errorbar( aes(x=interaction(R1,R2), ymin=emmean-SE, ymax=emmean+SE,color=interaction(R1,R2)), width=0.2, alpha=0.6, size=1.3) +\n",
    "  geom_jitter(data=Bulk, aes(x = interaction(R1,R2), y = vHIP, color = interaction(R1,R2), shape=sex), size = 2, width = 0.1) +\n",
    "  ylab('vHip Activity')+\n",
    "  plot_theme_vHIP"
   ]
  },
  {
   "cell_type": "code",
   "execution_count": 8,
   "metadata": {
    "vscode": {
     "languageId": "r"
    }
   },
   "outputs": [],
   "source": [
    "#No lever\n",
    "\n",
    "control <- c(203,208,209,210,214,217,221,224)\n",
    "ITI <- read.csv('/home/bagotlab/eshaan.i/PRL/FP_PRL_Nov_2021/Code/Longform Data/CondensedNoLever_ZScore_ITI.csv')\n",
    "ITI$PRL <- as.factor(ifelse(is.element(ITI$ID,control),'Control','PRL'))\n",
    "ITI = subset(ITI, (ID!=223)& (PRL!='Control'))\n",
    "ITI$time_idx <- as.factor(as.numeric(as.factor(ITI$time)))\n",
    "ITI<-ITI[,c('index','time_idx','time','ID','rewards','lp','Day','rt','PFC','vHIP')]\n",
    "ITI$sex <- as.factor(ifelse(ITI$ID > 212,\"Female\", \"Male\"))\n",
    "ITI$Day <- as.numeric(as.factor(ITI$Day))\n",
    "\n",
    "ITI$time_idx <- as.factor(as.numeric(as.factor(ITI$time)))\n",
    "ITI<- ITI %>% group_by(ID,Day) %>% mutate(Previous.Reward = lag(rewards,n=240))\n",
    "ITI<- ITI %>% group_by(ID,Day) %>% mutate(Next.Reward = lead(rewards,n=240))\n",
    "#created lagged dataframe where t2 is now t1\n",
    "ITI2<-ITI[!is.na(ITI$Previous.Reward),]\n",
    "ITI<-ITI %>% group_by(ID,Day) %>% mutate(DualTrialTime_Idx = rep_len(1:480, length.out=n()),DualTrial_Idx=rep(1:ceiling(n()/480), each=480, length.out=n()))\n",
    "ITI2<-ITI2 %>% group_by(ID,Day) %>% mutate(DualTrialTime_Idx = rep_len(1:480, length.out=n()),DualTrial_Idx=rep(1:ceiling(n()/480), each=480, length.out=n()))\n",
    "\n",
    "ITI = ITI %>% group_by(ID,Day,DualTrial_Idx) %>% mutate(last = DualTrialTime_Idx[[length(DualTrialTime_Idx)]])\n",
    "ITI2 = ITI2 %>% group_by(ID,Day,DualTrial_Idx) %>% mutate(last = DualTrialTime_Idx[[length(DualTrialTime_Idx)]])\n",
    "\n",
    "#remove orphan trials\n",
    "ITI = subset(ITI, last==480)\n",
    "ITI2 = subset(ITI2, last==480)\n",
    "\n",
    "ITI$DF <- 0\n",
    "ITI2$DF <- 1\n",
    "\n",
    "ITI = rbind(ITI,ITI2)\n",
    "ITI <- ITI %>% mutate(NewIdx = paste(Day,ID,DualTrial_Idx,DF))\n",
    "ITI$NewIdx = as.numeric(as.factor(ITI$NewIdx))\n",
    "ITI<-ITI %>% group_by(NewIdx) %>% mutate(CompoundReward = as.factor(paste(rewards[1],Next.Reward[1])), R1 = as.factor(rewards[1]), R2=as.factor(Next.Reward[1]))\n",
    "\n",
    "prechoice1<- as.data.frame(ITI[((ITI$DualTrialTime_Idx)>=1)&((ITI$DualTrialTime_Idx)<=40),] %>% group_by(NewIdx)%>%summarize(PFC_Pre1=mean(PFC),vHIP_Pre1=mean(vHIP)))\n",
    "ITI = merge(ITI,prechoice1,by = 'NewIdx')\n",
    "\n",
    "#calculate with baseline centered\n",
    "ITI$PFC = ITI$PFC - ITI$PFC_Pre1\n",
    "ITI$vHIP = ITI$vHIP - ITI$vHIP_Pre1\n",
    "prechoice1<- as.data.frame(ITI[((ITI$DualTrialTime_Idx)>=1)&((ITI$DualTrialTime_Idx)<=40),] %>% group_by(NewIdx)%>%summarize(PFC=mean(PFC),vHIP=mean(vHIP),R1=first(R1), R2=first(R2), ID=as.factor(mean(ID)),Day=as.factor(mean(Day)), sex=first(sex)))\n",
    "enditi1<- as.data.frame(ITI[((ITI$DualTrialTime_Idx)>=200)&((ITI$DualTrialTime_Idx)<=240),] %>% group_by(NewIdx)%>%summarize(PFC=mean(PFC),vHIP=mean(vHIP),R1=first(R1), R2=first(R2), ID=as.factor(mean(ID)),Day=as.factor(mean(Day)), sex=first(sex)))\n",
    "prechoice2<- as.data.frame(ITI[((ITI$DualTrialTime_Idx)>=241)&((ITI$DualTrialTime_Idx)<=280),] %>% group_by(NewIdx)%>%summarize(PFC=mean(PFC),vHIP=mean(vHIP),R1=first(R1), R2=first(R2), ID=as.factor(mean(ID)),Day=as.factor(mean(Day)), sex=first(sex)))\n",
    "enditi2<- as.data.frame(ITI[((ITI$DualTrialTime_Idx)>=440)&((ITI$DualTrialTime_Idx)<=480),] %>% group_by(NewIdx)%>%summarize(PFC=mean(PFC),vHIP=mean(vHIP),R1=first(R1), R2=first(R2), ID=as.factor(mean(ID)),Day=as.factor(mean(Day)), sex=first(sex)))"
   ]
  },
  {
   "cell_type": "code",
   "execution_count": 9,
   "metadata": {
    "vscode": {
     "languageId": "r"
    }
   },
   "outputs": [],
   "source": [
    "#plot no lever traces mPFC-NAc\n",
    "\n",
    "PFC1Back = NULL\n",
    "for (tm in 1:480){\n",
    "myModel=lmer(PFC ~ R1*R2 +(1|ID)+(1|Day),data=subset(ITI, (DualTrialTime_Idx==tm)))\n",
    "current_time = (tm/20)-2\n",
    "PFC1Back= rbind(PFC1Back,cbind(time=current_time,as.data.frame(emmeans(myModel, ~ R1*R2))))\n",
    "}\n",
    "\n",
    "ggplot(data = PFC1Back)+\n",
    "  geom_line(aes(time,emmean,group=interaction(R1,R2), colour=interaction(R1,R2)))+\n",
    "  geom_ribbon(aes(x=time,y = emmean, ymin = emmean - SE, ymax = emmean + SE, fill = interaction(R1,R2)), alpha = .2)+\n",
    "  xlab('Time from LP')+\n",
    "  ylab('mPFC Activity')+\n",
    "  geom_vline(xintercept=c(0,10,12,22), linetype=\"dotted\", size = 1)+\n",
    "  plot_theme_PFC"
   ]
  },
  {
   "cell_type": "code",
   "execution_count": 12,
   "metadata": {
    "vscode": {
     "languageId": "r"
    }
   },
   "outputs": [
    {
     "name": "stderr",
     "output_type": "stream",
     "text": [
      "Note: D.f. calculations have been disabled because the number of observations exceeds 3000.\n",
      "To enable adjustments, add the argument 'pbkrtest.limit = 9872' (or larger)\n",
      "[or, globally, 'set emm_options(pbkrtest.limit = 9872)' or larger];\n",
      "but be warned that this may result in large computation time and memory use.\n",
      "\n",
      "Note: D.f. calculations have been disabled because the number of observations exceeds 3000.\n",
      "To enable adjustments, add the argument 'lmerTest.limit = 9872' (or larger)\n",
      "[or, globally, 'set emm_options(lmerTest.limit = 9872)' or larger];\n",
      "but be warned that this may result in large computation time and memory use.\n",
      "\n"
     ]
    },
    {
     "data": {
      "text/plain": [
       "Linear mixed model fit by REML. t-tests use Satterthwaite's method [\n",
       "lmerModLmerTest]\n",
       "Formula: PFC ~ R1 * R2 + (1 | Day) + (1 | ID)\n",
       "   Data: enditi2\n",
       "\n",
       "REML criterion at convergence: 10262.7\n",
       "\n",
       "Scaled residuals: \n",
       "    Min      1Q  Median      3Q     Max \n",
       "-8.6105 -0.3557  0.0131  0.3582  9.0200 \n",
       "\n",
       "Random effects:\n",
       " Groups   Name        Variance  Std.Dev.\n",
       " ID       (Intercept) 3.486e-04 0.018672\n",
       " Day      (Intercept) 3.629e-05 0.006024\n",
       " Residual             1.649e-01 0.406099\n",
       "Number of obs: 9872, groups:  ID, 13; Day, 3\n",
       "\n",
       "Fixed effects:\n",
       "              Estimate Std. Error         df t value Pr(>|t|)    \n",
       "(Intercept)  3.458e-02  1.040e-02  1.917e+01   3.325  0.00353 ** \n",
       "R11         -1.359e-02  1.166e-02  9.783e+03  -1.166  0.24353    \n",
       "R21         -9.568e-02  1.165e-02  9.779e+03  -8.214 2.42e-16 ***\n",
       "R11:R21      9.567e-03  1.636e-02  9.862e+03   0.585  0.55862    \n",
       "---\n",
       "Signif. codes:  0 ‘***’ 0.001 ‘**’ 0.01 ‘*’ 0.05 ‘.’ 0.1 ‘ ’ 1\n",
       "\n",
       "Correlation of Fixed Effects:\n",
       "        (Intr) R11    R21   \n",
       "R11     -0.570              \n",
       "R21     -0.571  0.509       \n",
       "R11:R21  0.403 -0.709 -0.709"
      ]
     },
     "metadata": {},
     "output_type": "display_data"
    },
    {
     "name": "stderr",
     "output_type": "stream",
     "text": [
      "Note: adjust = \"tukey\" was changed to \"sidak\"\n",
      "because \"tukey\" is only appropriate for one set of pairwise comparisons\n",
      "\n",
      "Note: adjust = \"tukey\" was changed to \"sidak\"\n",
      "because \"tukey\" is only appropriate for one set of pairwise comparisons\n",
      "\n"
     ]
    },
    {
     "data": {
      "text/html": [
       "<dl>\n",
       "\t<dt>$`simple contrasts for R1`</dt>\n",
       "\t\t<dd><table class=\"dataframe\">\n",
       "<caption>A summary_emm: 2 × 7</caption>\n",
       "<thead>\n",
       "\t<tr><th></th><th scope=col>contrast</th><th scope=col>R2</th><th scope=col>estimate</th><th scope=col>SE</th><th scope=col>df</th><th scope=col>z.ratio</th><th scope=col>p.value</th></tr>\n",
       "\t<tr><th></th><th scope=col>&lt;fct&gt;</th><th scope=col>&lt;fct&gt;</th><th scope=col>&lt;dbl&gt;</th><th scope=col>&lt;dbl&gt;</th><th scope=col>&lt;dbl&gt;</th><th scope=col>&lt;dbl&gt;</th><th scope=col>&lt;dbl&gt;</th></tr>\n",
       "</thead>\n",
       "<tbody>\n",
       "\t<tr><th scope=row>1</th><td>R10 - R11</td><td>0</td><td>0.013593779</td><td>0.01165557</td><td>Inf</td><td>1.1662902</td><td>0.4277034</td></tr>\n",
       "\t<tr><th scope=row>2</th><td>R10 - R11</td><td>1</td><td>0.004026705</td><td>0.01152883</td><td>Inf</td><td>0.3492727</td><td>0.9254080</td></tr>\n",
       "</tbody>\n",
       "</table>\n",
       "</dd>\n",
       "\t<dt>$`simple contrasts for R2`</dt>\n",
       "\t\t<dd><table class=\"dataframe\">\n",
       "<caption>A summary_emm: 2 × 7</caption>\n",
       "<thead>\n",
       "\t<tr><th></th><th scope=col>contrast</th><th scope=col>R1</th><th scope=col>estimate</th><th scope=col>SE</th><th scope=col>df</th><th scope=col>z.ratio</th><th scope=col>p.value</th></tr>\n",
       "\t<tr><th></th><th scope=col>&lt;fct&gt;</th><th scope=col>&lt;fct&gt;</th><th scope=col>&lt;dbl&gt;</th><th scope=col>&lt;dbl&gt;</th><th scope=col>&lt;dbl&gt;</th><th scope=col>&lt;dbl&gt;</th><th scope=col>&lt;dbl&gt;</th></tr>\n",
       "</thead>\n",
       "<tbody>\n",
       "\t<tr><th scope=row>1</th><td>R20 - R21</td><td>0</td><td>0.09568309</td><td>0.01164933</td><td>Inf</td><td>8.213611</td><td>4.440892e-16</td></tr>\n",
       "\t<tr><th scope=row>2</th><td>R20 - R21</td><td>1</td><td>0.08611601</td><td>0.01153642</td><td>Inf</td><td>7.464711</td><td>1.669775e-13</td></tr>\n",
       "</tbody>\n",
       "</table>\n",
       "</dd>\n",
       "</dl>\n"
      ],
      "text/latex": [
       "\\begin{description}\n",
       "\\item[\\$`simple contrasts for R1`] A summary\\_emm: 2 × 7\n",
       "\\begin{tabular}{r|lllllll}\n",
       "  & contrast & R2 & estimate & SE & df & z.ratio & p.value\\\\\n",
       "  & <fct> & <fct> & <dbl> & <dbl> & <dbl> & <dbl> & <dbl>\\\\\n",
       "\\hline\n",
       "\t1 & R10 - R11 & 0 & 0.013593779 & 0.01165557 & Inf & 1.1662902 & 0.4277034\\\\\n",
       "\t2 & R10 - R11 & 1 & 0.004026705 & 0.01152883 & Inf & 0.3492727 & 0.9254080\\\\\n",
       "\\end{tabular}\n",
       "\n",
       "\\item[\\$`simple contrasts for R2`] A summary\\_emm: 2 × 7\n",
       "\\begin{tabular}{r|lllllll}\n",
       "  & contrast & R1 & estimate & SE & df & z.ratio & p.value\\\\\n",
       "  & <fct> & <fct> & <dbl> & <dbl> & <dbl> & <dbl> & <dbl>\\\\\n",
       "\\hline\n",
       "\t1 & R20 - R21 & 0 & 0.09568309 & 0.01164933 & Inf & 8.213611 & 4.440892e-16\\\\\n",
       "\t2 & R20 - R21 & 1 & 0.08611601 & 0.01153642 & Inf & 7.464711 & 1.669775e-13\\\\\n",
       "\\end{tabular}\n",
       "\n",
       "\\end{description}\n"
      ],
      "text/markdown": [
       "$`simple contrasts for R1`\n",
       ":   \n",
       "A summary_emm: 2 × 7\n",
       "\n",
       "| <!--/--> | contrast &lt;fct&gt; | R2 &lt;fct&gt; | estimate &lt;dbl&gt; | SE &lt;dbl&gt; | df &lt;dbl&gt; | z.ratio &lt;dbl&gt; | p.value &lt;dbl&gt; |\n",
       "|---|---|---|---|---|---|---|---|\n",
       "| 1 | R10 - R11 | 0 | 0.013593779 | 0.01165557 | Inf | 1.1662902 | 0.4277034 |\n",
       "| 2 | R10 - R11 | 1 | 0.004026705 | 0.01152883 | Inf | 0.3492727 | 0.9254080 |\n",
       "\n",
       "\n",
       "$`simple contrasts for R2`\n",
       ":   \n",
       "A summary_emm: 2 × 7\n",
       "\n",
       "| <!--/--> | contrast &lt;fct&gt; | R1 &lt;fct&gt; | estimate &lt;dbl&gt; | SE &lt;dbl&gt; | df &lt;dbl&gt; | z.ratio &lt;dbl&gt; | p.value &lt;dbl&gt; |\n",
       "|---|---|---|---|---|---|---|---|\n",
       "| 1 | R20 - R21 | 0 | 0.09568309 | 0.01164933 | Inf | 8.213611 | 4.440892e-16 |\n",
       "| 2 | R20 - R21 | 1 | 0.08611601 | 0.01153642 | Inf | 7.464711 | 1.669775e-13 |\n",
       "\n",
       "\n",
       "\n",
       "\n"
      ],
      "text/plain": [
       "$`simple contrasts for R1`\n",
       " contrast  R2 estimate     SE  df z.ratio p.value\n",
       " R10 - R11 0   0.01359 0.0117 Inf   1.166  0.4277\n",
       " R10 - R11 1   0.00403 0.0115 Inf   0.349  0.9254\n",
       "\n",
       "Degrees-of-freedom method: asymptotic \n",
       "P value adjustment: sidak method for 2 tests \n",
       "\n",
       "$`simple contrasts for R2`\n",
       " contrast  R1 estimate     SE  df z.ratio p.value\n",
       " R20 - R21 0    0.0957 0.0116 Inf   8.214  <.0001\n",
       " R20 - R21 1    0.0861 0.0115 Inf   7.465  <.0001\n",
       "\n",
       "Degrees-of-freedom method: asymptotic \n",
       "P value adjustment: sidak method for 2 tests \n"
      ]
     },
     "metadata": {},
     "output_type": "display_data"
    },
    {
     "name": "stderr",
     "output_type": "stream",
     "text": [
      "\u001b[1m\u001b[22m`summarise()` has grouped output by 'ID', 'R1', 'R2'. You can override using\n",
      "the `.groups` argument.\n",
      "Warning message:\n",
      "“Removed 4 rows containing missing values (geom_point).”\n"
     ]
    },
    {
     "data": {
      "image/png": "[encoded data removed]",
      "text/plain": [
       "plot without title"
      ]
     },
     "metadata": {
      "image/png": {
       "height": 420,
       "width": 420
      }
     },
     "output_type": "display_data"
    }
   ],
   "source": [
    "#Quantify one lever mPFC-NAc outcome encoding on trial t0\n",
    "\n",
    "PFC_rewards_enditi <- lmer(PFC~R1*R2+(1|Day)+(1|ID), REML=TRUE ,data = enditi2)\n",
    "PFC_rewards_enditi_means <- emmeans(PFC_rewards_enditi, ~ R1*R2)\n",
    "summary(PFC_rewards_enditi)\n",
    "\n",
    "dtf <- PFC_rewards_enditi_means\n",
    "simp <- pairs(dtf, simple = \"each\")\n",
    "test(simp, by = NULL)\n",
    "Bulk <- enditi2 %>% group_by(ID, R1,R2,sex) %>% summarise(PFC=mean(PFC, na.rm = TRUE))\n",
    "dtf<- data.frame(dtf)\n",
    "ggplot(dtf) +\n",
    "  geom_point( aes(x=interaction(R1,R2), y=emmean, color=interaction(R1,R2)), stat=\"identity\", size = 5, alpha=0.6) +\n",
    "  geom_errorbar( aes(x=interaction(R1,R2), ymin=emmean-SE, ymax=emmean+SE,color=interaction(R1,R2)), width=0.2, alpha=0.6, size=1.3) +\n",
    "  geom_jitter(data=Bulk, aes(x = interaction(R1,R2), y = PFC, color = interaction(R1,R2), shape=sex), size = 2, width = 0.1) +\n",
    "  ylab('mPFC Activity')+\n",
    "  plot_theme_PFC"
   ]
  },
  {
   "cell_type": "code",
   "execution_count": null,
   "metadata": {
    "vscode": {
     "languageId": "r"
    }
   },
   "outputs": [],
   "source": [
    "#plot no lever traces vHIP-NAc \n",
    "\n",
    "vHIP1Back = NULL\n",
    "for (tm in 1:480){\n",
    "myModel=lmer(vHIP ~ R1*R2 +(1|ID)+(1|Day),data=subset(ITI, (DualTrialTime_Idx==tm)))\n",
    "current_time = (tm/20)-2\n",
    "vHIP1Back= rbind(vHIP1Back,cbind(time=current_time,as.data.frame(emmeans(myModel, ~ R1*R2))))\n",
    "}\n",
    "\n",
    "fig4<-ggplot(data = vHIP1Back)+\n",
    "  geom_line(aes(time,emmean,group=interaction(R1,R2), colour=interaction(R1,R2)))+\n",
    "  geom_ribbon(aes(x=time,y = emmean, ymin = emmean - SE, ymax = emmean + SE, fill = interaction(R1,R2)), alpha = .2)+\n",
    "  xlab('Time from LP')+\n",
    "  ylab('vHip Activity')+\n",
    "  geom_vline(xintercept=c(0,10,12,22), linetype=\"dotted\", size = 1)+\n",
    "  plot_theme_vHIP"
   ]
  },
  {
   "cell_type": "code",
   "execution_count": 16,
   "metadata": {
    "vscode": {
     "languageId": "r"
    }
   },
   "outputs": [
    {
     "name": "stderr",
     "output_type": "stream",
     "text": [
      "boundary (singular) fit: see help('isSingular')\n",
      "\n",
      "Note: D.f. calculations have been disabled because the number of observations exceeds 3000.\n",
      "To enable adjustments, add the argument 'pbkrtest.limit = 10694' (or larger)\n",
      "[or, globally, 'set emm_options(pbkrtest.limit = 10694)' or larger];\n",
      "but be warned that this may result in large computation time and memory use.\n",
      "\n",
      "Note: D.f. calculations have been disabled because the number of observations exceeds 3000.\n",
      "To enable adjustments, add the argument 'lmerTest.limit = 10694' (or larger)\n",
      "[or, globally, 'set emm_options(lmerTest.limit = 10694)' or larger];\n",
      "but be warned that this may result in large computation time and memory use.\n",
      "\n"
     ]
    },
    {
     "data": {
      "text/plain": [
       "Linear mixed model fit by REML. t-tests use Satterthwaite's method [\n",
       "lmerModLmerTest]\n",
       "Formula: vHIP ~ R1 * R2 + (1 | Day) + (1 | ID)\n",
       "   Data: enditi2\n",
       "\n",
       "REML criterion at convergence: 9957.8\n",
       "\n",
       "Scaled residuals: \n",
       "    Min      1Q  Median      3Q     Max \n",
       "-7.9289 -0.3973 -0.0094  0.3716  9.6270 \n",
       "\n",
       "Random effects:\n",
       " Groups   Name        Variance  Std.Dev. \n",
       " ID       (Intercept) 8.310e-18 2.883e-09\n",
       " Day      (Intercept) 6.099e-06 2.470e-03\n",
       " Residual             1.482e-01 3.849e-01\n",
       "Number of obs: 10694, groups:  ID, 14; Day, 3\n",
       "\n",
       "Fixed effects:\n",
       "              Estimate Std. Error         df t value Pr(>|t|)    \n",
       "(Intercept)  2.346e-02  7.706e-03  2.793e+01   3.044 0.005040 ** \n",
       "R11         -4.099e-02  1.060e-02  1.069e+04  -3.866 0.000111 ***\n",
       "R21         -3.965e-02  1.060e-02  1.069e+04  -3.741 0.000184 ***\n",
       "R11:R21      2.365e-02  1.489e-02  1.069e+04   1.588 0.112309    \n",
       "---\n",
       "Signif. codes:  0 ‘***’ 0.001 ‘**’ 0.01 ‘*’ 0.05 ‘.’ 0.1 ‘ ’ 1\n",
       "\n",
       "Correlation of Fixed Effects:\n",
       "        (Intr) R11    R21   \n",
       "R11     -0.702              \n",
       "R21     -0.702  0.510       \n",
       "R11:R21  0.500 -0.712 -0.712\n",
       "optimizer (nloptwrap) convergence code: 0 (OK)\n",
       "boundary (singular) fit: see help('isSingular')\n"
      ]
     },
     "metadata": {},
     "output_type": "display_data"
    },
    {
     "name": "stderr",
     "output_type": "stream",
     "text": [
      "Note: adjust = \"tukey\" was changed to \"sidak\"\n",
      "because \"tukey\" is only appropriate for one set of pairwise comparisons\n",
      "\n",
      "Note: adjust = \"tukey\" was changed to \"sidak\"\n",
      "because \"tukey\" is only appropriate for one set of pairwise comparisons\n",
      "\n"
     ]
    },
    {
     "data": {
      "text/html": [
       "<dl>\n",
       "\t<dt>$`simple contrasts for R1`</dt>\n",
       "\t\t<dd><table class=\"dataframe\">\n",
       "<caption>A summary_emm: 2 × 7</caption>\n",
       "<thead>\n",
       "\t<tr><th></th><th scope=col>contrast</th><th scope=col>R2</th><th scope=col>estimate</th><th scope=col>SE</th><th scope=col>df</th><th scope=col>z.ratio</th><th scope=col>p.value</th></tr>\n",
       "\t<tr><th></th><th scope=col>&lt;fct&gt;</th><th scope=col>&lt;fct&gt;</th><th scope=col>&lt;dbl&gt;</th><th scope=col>&lt;dbl&gt;</th><th scope=col>&lt;dbl&gt;</th><th scope=col>&lt;dbl&gt;</th><th scope=col>&lt;dbl&gt;</th></tr>\n",
       "</thead>\n",
       "<tbody>\n",
       "\t<tr><th scope=row>1</th><td>R10 - R11</td><td>0</td><td>0.04099417</td><td>0.01060337</td><td>Inf</td><td>3.866144</td><td>0.0002211267</td></tr>\n",
       "\t<tr><th scope=row>2</th><td>R10 - R11</td><td>1</td><td>0.01734363</td><td>0.01045787</td><td>Inf</td><td>1.658429</td><td>0.1850080623</td></tr>\n",
       "</tbody>\n",
       "</table>\n",
       "</dd>\n",
       "\t<dt>$`simple contrasts for R2`</dt>\n",
       "\t\t<dd><table class=\"dataframe\">\n",
       "<caption>A summary_emm: 2 × 7</caption>\n",
       "<thead>\n",
       "\t<tr><th></th><th scope=col>contrast</th><th scope=col>R1</th><th scope=col>estimate</th><th scope=col>SE</th><th scope=col>df</th><th scope=col>z.ratio</th><th scope=col>p.value</th></tr>\n",
       "\t<tr><th></th><th scope=col>&lt;fct&gt;</th><th scope=col>&lt;fct&gt;</th><th scope=col>&lt;dbl&gt;</th><th scope=col>&lt;dbl&gt;</th><th scope=col>&lt;dbl&gt;</th><th scope=col>&lt;dbl&gt;</th><th scope=col>&lt;dbl&gt;</th></tr>\n",
       "</thead>\n",
       "<tbody>\n",
       "\t<tr><th scope=row>1</th><td>R20 - R21</td><td>0</td><td>0.03964883</td><td>0.01059760</td><td>Inf</td><td>3.741303</td><td>0.0003661043</td></tr>\n",
       "\t<tr><th scope=row>2</th><td>R20 - R21</td><td>1</td><td>0.01599829</td><td>0.01046372</td><td>Inf</td><td>1.528929</td><td>0.2366169163</td></tr>\n",
       "</tbody>\n",
       "</table>\n",
       "</dd>\n",
       "</dl>\n"
      ],
      "text/latex": [
       "\\begin{description}\n",
       "\\item[\\$`simple contrasts for R1`] A summary\\_emm: 2 × 7\n",
       "\\begin{tabular}{r|lllllll}\n",
       "  & contrast & R2 & estimate & SE & df & z.ratio & p.value\\\\\n",
       "  & <fct> & <fct> & <dbl> & <dbl> & <dbl> & <dbl> & <dbl>\\\\\n",
       "\\hline\n",
       "\t1 & R10 - R11 & 0 & 0.04099417 & 0.01060337 & Inf & 3.866144 & 0.0002211267\\\\\n",
       "\t2 & R10 - R11 & 1 & 0.01734363 & 0.01045787 & Inf & 1.658429 & 0.1850080623\\\\\n",
       "\\end{tabular}\n",
       "\n",
       "\\item[\\$`simple contrasts for R2`] A summary\\_emm: 2 × 7\n",
       "\\begin{tabular}{r|lllllll}\n",
       "  & contrast & R1 & estimate & SE & df & z.ratio & p.value\\\\\n",
       "  & <fct> & <fct> & <dbl> & <dbl> & <dbl> & <dbl> & <dbl>\\\\\n",
       "\\hline\n",
       "\t1 & R20 - R21 & 0 & 0.03964883 & 0.01059760 & Inf & 3.741303 & 0.0003661043\\\\\n",
       "\t2 & R20 - R21 & 1 & 0.01599829 & 0.01046372 & Inf & 1.528929 & 0.2366169163\\\\\n",
       "\\end{tabular}\n",
       "\n",
       "\\end{description}\n"
      ],
      "text/markdown": [
       "$`simple contrasts for R1`\n",
       ":   \n",
       "A summary_emm: 2 × 7\n",
       "\n",
       "| <!--/--> | contrast &lt;fct&gt; | R2 &lt;fct&gt; | estimate &lt;dbl&gt; | SE &lt;dbl&gt; | df &lt;dbl&gt; | z.ratio &lt;dbl&gt; | p.value &lt;dbl&gt; |\n",
       "|---|---|---|---|---|---|---|---|\n",
       "| 1 | R10 - R11 | 0 | 0.04099417 | 0.01060337 | Inf | 3.866144 | 0.0002211267 |\n",
       "| 2 | R10 - R11 | 1 | 0.01734363 | 0.01045787 | Inf | 1.658429 | 0.1850080623 |\n",
       "\n",
       "\n",
       "$`simple contrasts for R2`\n",
       ":   \n",
       "A summary_emm: 2 × 7\n",
       "\n",
       "| <!--/--> | contrast &lt;fct&gt; | R1 &lt;fct&gt; | estimate &lt;dbl&gt; | SE &lt;dbl&gt; | df &lt;dbl&gt; | z.ratio &lt;dbl&gt; | p.value &lt;dbl&gt; |\n",
       "|---|---|---|---|---|---|---|---|\n",
       "| 1 | R20 - R21 | 0 | 0.03964883 | 0.01059760 | Inf | 3.741303 | 0.0003661043 |\n",
       "| 2 | R20 - R21 | 1 | 0.01599829 | 0.01046372 | Inf | 1.528929 | 0.2366169163 |\n",
       "\n",
       "\n",
       "\n",
       "\n"
      ],
      "text/plain": [
       "$`simple contrasts for R1`\n",
       " contrast  R2 estimate     SE  df z.ratio p.value\n",
       " R10 - R11 0    0.0410 0.0106 Inf   3.866  0.0002\n",
       " R10 - R11 1    0.0173 0.0105 Inf   1.658  0.1850\n",
       "\n",
       "Degrees-of-freedom method: asymptotic \n",
       "P value adjustment: sidak method for 2 tests \n",
       "\n",
       "$`simple contrasts for R2`\n",
       " contrast  R1 estimate     SE  df z.ratio p.value\n",
       " R20 - R21 0    0.0396 0.0106 Inf   3.741  0.0004\n",
       " R20 - R21 1    0.0160 0.0105 Inf   1.529  0.2366\n",
       "\n",
       "Degrees-of-freedom method: asymptotic \n",
       "P value adjustment: sidak method for 2 tests \n"
      ]
     },
     "metadata": {},
     "output_type": "display_data"
    },
    {
     "name": "stderr",
     "output_type": "stream",
     "text": [
      "\u001b[1m\u001b[22m`summarise()` has grouped output by 'ID', 'R1', 'R2'. You can override using\n",
      "the `.groups` argument.\n",
      "Warning message:\n",
      "“Removed 4 rows containing missing values (geom_point).”\n"
     ]
    },
    {
     "data": {
      "image/png": "[encoded data removed]",
      "text/plain": [
       "plot without title"
      ]
     },
     "metadata": {
      "image/png": {
       "height": 420,
       "width": 420
      }
     },
     "output_type": "display_data"
    }
   ],
   "source": [
    "#Quantify one lever vHIP-NAc outcome encoding on trial t0\n",
    "\n",
    "vHIP_rewards_enditi <- lmer(vHIP~R1*R2+(1|Day)+(1|ID), REML=TRUE ,data = enditi2)\n",
    "vHIP_rewards_enditi_means <- emmeans(vHIP_rewards_enditi, ~ R1*R2)\n",
    "summary(vHIP_rewards_enditi)\n",
    "\n",
    "dtf <- vHIP_rewards_enditi_means\n",
    "simp <- pairs(dtf, simple = \"each\")\n",
    "test(simp, by = NULL)\n",
    "Bulk <- enditi2 %>% group_by(ID, R1,R2,sex) %>% summarise(PFC=mean(PFC, na.rm = TRUE))\n",
    "dtf<- data.frame(dtf)\n",
    "\n",
    "ggplot(dtf) +\n",
    "  geom_point( aes(x=interaction(R1,R2), y=emmean, color=interaction(R1,R2)), stat=\"identity\", size = 5, alpha=0.6) +\n",
    "  geom_errorbar( aes(x=interaction(R1,R2), ymin=emmean-SE, ymax=emmean+SE,color=interaction(R1,R2)), width=0.2, alpha=0.6, size=1.3) +\n",
    "  geom_jitter(data=Bulk, aes(x = interaction(R1,R2), y = PFC, color = interaction(R1,R2), shape=sex), size = 2, width = 0.1) +\n",
    "  ylab('vHip Activity')+\n",
    "  plot_theme_vHIP"
   ]
  },
  {
   "cell_type": "code",
   "execution_count": null,
   "metadata": {
    "vscode": {
     "languageId": "r"
    }
   },
   "outputs": [],
   "source": []
  }
 ],
 "metadata": {
  "kernelspec": {
   "display_name": "R",
   "language": "R",
   "name": "ir"
  },
  "language_info": {
   "codemirror_mode": "r",
   "file_extension": ".r",
   "mimetype": "text/x-r-source",
   "name": "R",
   "pygments_lexer": "r",
   "version": "4.2.1"
  }
 },
 "nbformat": 4,
 "nbformat_minor": 2
}
