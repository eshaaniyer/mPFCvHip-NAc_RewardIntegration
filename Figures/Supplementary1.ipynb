{
 "cells": [
  {
   "cell_type": "code",
   "execution_count": 1,
   "metadata": {
    "vscode": {
     "languageId": "r"
    }
   },
   "outputs": [
    {
     "name": "stderr",
     "output_type": "stream",
     "text": [
      "Loading required package: Matrix\n",
      "\n",
      "************\n",
      "Welcome to afex. For support visit: http://afex.singmann.science/\n",
      "\n",
      "- Functions for ANOVAs: aov_car(), aov_ez(), and aov_4()\n",
      "- Methods for calculating p-values with mixed(): 'S', 'KR', 'LRT', and 'PB'\n",
      "- 'afex_aov' and 'mixed' objects can be passed to emmeans() for follow-up tests\n",
      "- Get and set global package options with: afex_options()\n",
      "- Set sum-to-zero contrasts globally: set_sum_contrasts()\n",
      "- For example analyses see: browseVignettes(\"afex\")\n",
      "************\n",
      "\n",
      "\n",
      "Attaching package: ‘afex’\n",
      "\n",
      "\n",
      "The following object is masked from ‘package:lme4’:\n",
      "\n",
      "    lmer\n",
      "\n",
      "\n",
      "\n",
      "Attaching package: ‘dplyr’\n",
      "\n",
      "\n",
      "The following objects are masked from ‘package:stats’:\n",
      "\n",
      "    filter, lag\n",
      "\n",
      "\n",
      "The following objects are masked from ‘package:base’:\n",
      "\n",
      "    intersect, setdiff, setequal, union\n",
      "\n",
      "\n",
      "Loading required package: zoo\n",
      "\n",
      "\n",
      "Attaching package: ‘zoo’\n",
      "\n",
      "\n",
      "The following objects are masked from ‘package:base’:\n",
      "\n",
      "    as.Date, as.Date.numeric\n",
      "\n",
      "\n",
      "\n",
      "Attaching package: ‘tidyr’\n",
      "\n",
      "\n",
      "The following objects are masked from ‘package:Matrix’:\n",
      "\n",
      "    expand, pack, unpack\n",
      "\n",
      "\n",
      "Loading required package: coda\n",
      "\n",
      "Loading required package: ape\n",
      "\n",
      "\n",
      "Attaching package: ‘reshape’\n",
      "\n",
      "\n",
      "The following objects are masked from ‘package:tidyr’:\n",
      "\n",
      "    expand, smiths\n",
      "\n",
      "\n",
      "The following object is masked from ‘package:dplyr’:\n",
      "\n",
      "    rename\n",
      "\n",
      "\n",
      "The following object is masked from ‘package:Matrix’:\n",
      "\n",
      "    expand\n",
      "\n",
      "\n",
      "\n",
      "Attaching package: ‘gridExtra’\n",
      "\n",
      "\n",
      "The following object is masked from ‘package:dplyr’:\n",
      "\n",
      "    combine\n",
      "\n",
      "\n",
      "\n",
      "Attaching package: ‘cowplot’\n",
      "\n",
      "\n",
      "The following object is masked from ‘package:reshape’:\n",
      "\n",
      "    stamp\n",
      "\n",
      "\n",
      "\n",
      "Attaching package: ‘data.table’\n",
      "\n",
      "\n",
      "The following object is masked from ‘package:reshape’:\n",
      "\n",
      "    melt\n",
      "\n",
      "\n",
      "The following objects are masked from ‘package:dplyr’:\n",
      "\n",
      "    between, first, last\n",
      "\n",
      "\n"
     ]
    }
   ],
   "source": [
    "library(lme4)\n",
    "library(afex)\n",
    "library(emmeans)\n",
    "library(dplyr)\n",
    "library(ggplot2)\n",
    "library(svglite)\n",
    "library(lmtest)\n",
    "library(tidyr)\n",
    "library(MCMCglmm)\n",
    "library(reshape)\n",
    "library(gridExtra)\n",
    "library(cowplot)\n",
    "library(svglite)\n",
    "library(data.table)"
   ]
  },
  {
   "cell_type": "code",
   "execution_count": 2,
   "metadata": {
    "vscode": {
     "languageId": "r"
    }
   },
   "outputs": [],
   "source": [
    "ITI <- read.csv('/home/bagotlab/eshaan.i/PRL/FP_PRL_Nov_2021/CLEAN/Data/PRL_ZScore_ITI.csv')\n",
    "ITI = subset(ITI,ID!=223)\n",
    "ITI$time_idx <- as.factor(as.numeric(as.factor(ITI$time)))\n",
    "ITI<-ITI[,c('index','time_idx','time','ID','rewards','lp','LeftLeverProb','Day','rt','PFC','vHIP')]\n",
    "ITI$sex <- as.factor(ifelse(ITI$ID > 212,\"Female\", \"Male\"))\n",
    "ITI$Day <- as.numeric(as.factor(ITI$Day))\n",
    "\n",
    "Behavior<- ITI %>% group_by(index)%>%summarize(rewards=mean(rewards),ID=mean(ID),rt=mean(rt),lp=mean(lp), Day=mean(Day), LeftLeverProb=mean(LeftLeverProb))\n",
    "Behavior$TrialType <- as.factor(ifelse(Behavior$rewards==1, 'Rewards', ifelse(Behavior$lp==0, 'Omission', 'Unrewarded')))\n",
    "Behavior$sex <- as.factor(ifelse(Behavior$ID > 212,\"Female\", \"Male\"))\n",
    "\n",
    "ITI = subset(ITI, lp > 0)\n",
    "ITI$time_idx <- as.factor(as.numeric(as.factor(ITI$time)))\n",
    "ITI<- ITI %>% group_by(ID,Day) %>% mutate(Previous.Reward = lag(rewards,n=240))\n",
    "ITI<- ITI %>% group_by(ID,Day) %>% mutate(Previous.Previous.Reward = lag(Previous.Reward,n=240))\n",
    "ITI<- ITI %>% group_by(ID,Day) %>% mutate(Next.Choice = lead(lp,n=240))\n",
    "ITI<- ITI %>% group_by(ID,Day) %>% mutate(Next.RT = lead(rt,n=240))\n",
    "ITI<- ITI %>% group_by(ID,Day) %>% mutate(Previous.Choice = lag(lp,n=240))\n",
    "ITI$Stay <- ifelse(ITI$lp == ITI$Previous.Choice,1,0)\n",
    "ITI$StayNext <- ifelse(ITI$lp == ITI$Next.Choice,1,0)\n",
    "\n",
    "enditi<- as.data.frame(ITI[((ITI$time)>=8)&((ITI$time)<=10),] %>% \n",
    "                group_by(index)%>%summarize(PFC=mean(PFC),vHIP=mean(vHIP),rewards=mean(rewards),ID=mean(ID),Previous.Reward=mean(Previous.Reward), Previous.Previous.Reward=mean(Previous.Previous.Reward),Stay=mean(Stay), StayNext=mean(StayNext), lp=mean(lp),Day=mean(Day)))\n",
    "Post_DF <- as.data.frame(ITI[((ITI$time)>=0)&((ITI$time)<=2),] %>% group_by(index)%>%summarize(PFC_Post=mean(PFC),vHIP_Post=mean(vHIP)))\n",
    "Pre_DF <- as.data.frame(ITI[((ITI$time)>=-2)&((ITI$time)<0),] %>% group_by(index)%>%summarize(PFC_Pre=mean(PFC),vHIP_Pre=mean(vHIP)))\n",
    "\n",
    "DF <- merge(enditi, Post_DF)\n",
    "DF <- merge(DF, Pre_DF)\n",
    "DF$sex <- as.factor(ifelse(DF$ID > 212,\"Female\", \"Male\"))\n",
    "DF$ID<-as.factor(DF$ID)\n",
    "DF$Day<-as.factor(DF$Day)\n",
    "DF$rewards <- as.factor(ifelse(DF$rewards == 0,\"Unrewarded\", \"Rewarded\"))\n",
    "DF$Previous.Reward <- as.factor(ifelse(DF$Previous.Reward == 0,\"Unrewarded\", \"Rewarded\"))\n",
    "DF$Stay <- as.factor(ifelse(DF$Stay == 0,\"Shift\", \"Stay\"))\n",
    "DF$lp <- as.factor(ifelse(DF$lp == 1,\"Contralateral\", \"Ipsilateral\"))\n",
    "\n",
    "ITI$rewards<-as.factor(ITI$rewards)\n",
    "ITI$ID<-as.factor(ITI$ID)\n",
    "ITI$Day<-as.factor(ITI$Day)\n",
    "ITI$Previous.Reward <-as.factor(ITI$Previous.Reward)\n",
    "ITI$rewards <- as.factor(ifelse(ITI$rewards == 0,\"Unrewarded\", \"Rewarded\"))\n",
    "ITI$Stay <- as.factor(ifelse(ITI$Stay == 0,\"Shift\", \"Stay\"))\n",
    "ITI$lp <- as.factor(ifelse(ITI$lp == 1,\"Contralateral\", \"Ipsilateral\"))\n"
   ]
  },
  {
   "cell_type": "code",
   "execution_count": 3,
   "metadata": {
    "vscode": {
     "languageId": "r"
    }
   },
   "outputs": [],
   "source": [
    "plot_theme <- theme(axis.title=element_text(size=25,color='gray30'),\n",
    "                    axis.line=element_line(color='gray30'),\n",
    "                    axis.text.y=element_text(size=20,color='gray30'),\n",
    "                    axis.text.x=element_text(size=20,color='gray30'),\n",
    "                    legend.text=element_text(size=20),\n",
    "                    legend.key.size=unit(2,'mm'),\n",
    "                    panel.background=element_blank(),\n",
    "                    panel.grid.major.y = element_blank(),\n",
    "                    legend.position = 'none',\n",
    "                    plot.margin = margin(0.5,0.5,0.5,0.5,'cm'),\n",
    "                    strip.background = element_blank(),\n",
    "                    strip.text = element_text(size=20,color='gray30')) \n",
    "plot_theme <- list(plot_theme, scale_color_manual(values=c('Female'=\"#8c1aff\", 'Male'=\"#008000\",'1'=\"blue\", '0'=\"red\")), \n",
    "                    scale_shape_manual(values=c('Male'=16,'Female'=17)),\n",
    "                    scale_x_continuous(breaks = 1:6))"
   ]
  },
  {
   "cell_type": "code",
   "execution_count": 4,
   "metadata": {
    "vscode": {
     "languageId": "r"
    }
   },
   "outputs": [
    {
     "name": "stderr",
     "output_type": "stream",
     "text": [
      "\u001b[1m\u001b[22m`summarise()` has grouped output by 'ID', 'sex', 'Day'. You can override using\n",
      "the `.groups` argument.\n",
      "\u001b[1m\u001b[22m`summarise()` has grouped output by 'ID', 'sex'. You can override using the\n",
      "`.groups` argument.\n",
      "\u001b[1m\u001b[22m`summarise()` has grouped output by 'ID', 'Day', 'sex'. You can override using\n",
      "the `.groups` argument.\n"
     ]
    }
   ],
   "source": [
    "BulkBehavior <- as.data.frame(Behavior) %>% group_by(ID,sex, Day, TrialType) %>% summarise(Trials=n())\n",
    "Total_Trials <- subset(Behavior, lp>0) %>% group_by(ID,sex, Day) %>% summarise(Trials=n())\n",
    "RewardUnreward_Trials <- subset(Behavior, lp>0) %>% group_by(ID,Day,sex,TrialType) %>% summarise(Trials=n())\n",
    "RewardUnreward_Trials <- RewardUnreward_Trials%>% group_by(ID,sex,Day) %>% mutate(Probability = Trials/sum(Trials))\n",
    "RewardUnreward_Trials = subset(RewardUnreward_Trials, TrialType=='Rewards')"
   ]
  },
  {
   "cell_type": "code",
   "execution_count": null,
   "metadata": {
    "vscode": {
     "languageId": "r"
    }
   },
   "outputs": [
    {
     "name": "stderr",
     "output_type": "stream",
     "text": [
      "\u001b[1m\u001b[22m`summarise()` has grouped output by 'Day', 'sex'. You can override using the\n",
      "`.groups` argument.\n"
     ]
    },
    {
     "name": "stderr",
     "output_type": "stream",
     "text": [
      "boundary (singular) fit: see help('isSingular')\n",
      "\n"
     ]
    },
    {
     "data": {
      "text/html": [
       "<table class=\"dataframe\">\n",
       "<caption>A anova: 3 × 6</caption>\n",
       "<thead>\n",
       "\t<tr><th></th><th scope=col>Sum Sq</th><th scope=col>Mean Sq</th><th scope=col>NumDF</th><th scope=col>DenDF</th><th scope=col>F value</th><th scope=col>Pr(&gt;F)</th></tr>\n",
       "\t<tr><th></th><th scope=col>&lt;dbl&gt;</th><th scope=col>&lt;dbl&gt;</th><th scope=col>&lt;int&gt;</th><th scope=col>&lt;dbl&gt;</th><th scope=col>&lt;dbl&gt;</th><th scope=col>&lt;dbl&gt;</th></tr>\n",
       "</thead>\n",
       "<tbody>\n",
       "\t<tr><th scope=row>sex</th><td> 444.2498</td><td> 444.2498</td><td>1</td><td>19.79239</td><td> 2.661546</td><td>1.186109e-01</td></tr>\n",
       "\t<tr><th scope=row>Day</th><td>8600.7041</td><td>8600.7041</td><td>1</td><td>20.85532</td><td>51.527697</td><td>4.658086e-07</td></tr>\n",
       "\t<tr><th scope=row>sex:Day</th><td> 362.7994</td><td> 362.7994</td><td>1</td><td>20.85532</td><td> 2.173568</td><td>1.553362e-01</td></tr>\n",
       "</tbody>\n",
       "</table>\n"
      ],
      "text/latex": [
       "A anova: 3 × 6\n",
       "\\begin{tabular}{r|llllll}\n",
       "  & Sum Sq & Mean Sq & NumDF & DenDF & F value & Pr(>F)\\\\\n",
       "  & <dbl> & <dbl> & <int> & <dbl> & <dbl> & <dbl>\\\\\n",
       "\\hline\n",
       "\tsex &  444.2498 &  444.2498 & 1 & 19.79239 &  2.661546 & 1.186109e-01\\\\\n",
       "\tDay & 8600.7041 & 8600.7041 & 1 & 20.85532 & 51.527697 & 4.658086e-07\\\\\n",
       "\tsex:Day &  362.7994 &  362.7994 & 1 & 20.85532 &  2.173568 & 1.553362e-01\\\\\n",
       "\\end{tabular}\n"
      ],
      "text/markdown": [
       "\n",
       "A anova: 3 × 6\n",
       "\n",
       "| <!--/--> | Sum Sq &lt;dbl&gt; | Mean Sq &lt;dbl&gt; | NumDF &lt;int&gt; | DenDF &lt;dbl&gt; | F value &lt;dbl&gt; | Pr(&gt;F) &lt;dbl&gt; |\n",
       "|---|---|---|---|---|---|---|\n",
       "| sex |  444.2498 |  444.2498 | 1 | 19.79239 |  2.661546 | 1.186109e-01 |\n",
       "| Day | 8600.7041 | 8600.7041 | 1 | 20.85532 | 51.527697 | 4.658086e-07 |\n",
       "| sex:Day |  362.7994 |  362.7994 | 1 | 20.85532 |  2.173568 | 1.553362e-01 |\n",
       "\n"
      ],
      "text/plain": [
       "        Sum Sq    Mean Sq   NumDF DenDF    F value   Pr(>F)      \n",
       "sex      444.2498  444.2498 1     19.79239  2.661546 1.186109e-01\n",
       "Day     8600.7041 8600.7041 1     20.85532 51.527697 4.658086e-07\n",
       "sex:Day  362.7994  362.7994 1     20.85532  2.173568 1.553362e-01"
      ]
     },
     "metadata": {},
     "output_type": "display_data"
    },
    {
     "data": {
      "text/html": [
       "<table class=\"dataframe\">\n",
       "<caption>A anova: 3 × 6</caption>\n",
       "<thead>\n",
       "\t<tr><th></th><th scope=col>Sum Sq</th><th scope=col>Mean Sq</th><th scope=col>NumDF</th><th scope=col>DenDF</th><th scope=col>F value</th><th scope=col>Pr(&gt;F)</th></tr>\n",
       "\t<tr><th></th><th scope=col>&lt;dbl&gt;</th><th scope=col>&lt;dbl&gt;</th><th scope=col>&lt;int&gt;</th><th scope=col>&lt;dbl&gt;</th><th scope=col>&lt;dbl&gt;</th><th scope=col>&lt;dbl&gt;</th></tr>\n",
       "</thead>\n",
       "<tbody>\n",
       "\t<tr><th scope=row>sex</th><td>  620.8255</td><td>  620.8255</td><td>1</td><td>19.86365</td><td>  2.687610</td><td>1.168736e-01</td></tr>\n",
       "\t<tr><th scope=row>Day</th><td>32044.5691</td><td>32044.5691</td><td>1</td><td>19.93285</td><td>138.723860</td><td>1.969770e-10</td></tr>\n",
       "\t<tr><th scope=row>sex:Day</th><td>  710.5397</td><td>  710.5397</td><td>1</td><td>19.93285</td><td>  3.075991</td><td>9.482018e-02</td></tr>\n",
       "</tbody>\n",
       "</table>\n"
      ],
      "text/latex": [
       "A anova: 3 × 6\n",
       "\\begin{tabular}{r|llllll}\n",
       "  & Sum Sq & Mean Sq & NumDF & DenDF & F value & Pr(>F)\\\\\n",
       "  & <dbl> & <dbl> & <int> & <dbl> & <dbl> & <dbl>\\\\\n",
       "\\hline\n",
       "\tsex &   620.8255 &   620.8255 & 1 & 19.86365 &   2.687610 & 1.168736e-01\\\\\n",
       "\tDay & 32044.5691 & 32044.5691 & 1 & 19.93285 & 138.723860 & 1.969770e-10\\\\\n",
       "\tsex:Day &   710.5397 &   710.5397 & 1 & 19.93285 &   3.075991 & 9.482018e-02\\\\\n",
       "\\end{tabular}\n"
      ],
      "text/markdown": [
       "\n",
       "A anova: 3 × 6\n",
       "\n",
       "| <!--/--> | Sum Sq &lt;dbl&gt; | Mean Sq &lt;dbl&gt; | NumDF &lt;int&gt; | DenDF &lt;dbl&gt; | F value &lt;dbl&gt; | Pr(&gt;F) &lt;dbl&gt; |\n",
       "|---|---|---|---|---|---|---|\n",
       "| sex |   620.8255 |   620.8255 | 1 | 19.86365 |   2.687610 | 1.168736e-01 |\n",
       "| Day | 32044.5691 | 32044.5691 | 1 | 19.93285 | 138.723860 | 1.969770e-10 |\n",
       "| sex:Day |   710.5397 |   710.5397 | 1 | 19.93285 |   3.075991 | 9.482018e-02 |\n",
       "\n"
      ],
      "text/plain": [
       "        Sum Sq     Mean Sq    NumDF DenDF    F value    Pr(>F)      \n",
       "sex       620.8255   620.8255 1     19.86365   2.687610 1.168736e-01\n",
       "Day     32044.5691 32044.5691 1     19.93285 138.723860 1.969770e-10\n",
       "sex:Day   710.5397   710.5397 1     19.93285   3.075991 9.482018e-02"
      ]
     },
     "metadata": {},
     "output_type": "display_data"
    },
    {
     "data": {
      "text/html": [
       "<table class=\"dataframe\">\n",
       "<caption>A anova: 3 × 6</caption>\n",
       "<thead>\n",
       "\t<tr><th></th><th scope=col>Sum Sq</th><th scope=col>Mean Sq</th><th scope=col>NumDF</th><th scope=col>DenDF</th><th scope=col>F value</th><th scope=col>Pr(&gt;F)</th></tr>\n",
       "\t<tr><th></th><th scope=col>&lt;dbl&gt;</th><th scope=col>&lt;dbl&gt;</th><th scope=col>&lt;int&gt;</th><th scope=col>&lt;dbl&gt;</th><th scope=col>&lt;dbl&gt;</th><th scope=col>&lt;dbl&gt;</th></tr>\n",
       "</thead>\n",
       "<tbody>\n",
       "\t<tr><th scope=row>sex</th><td> 360.8958</td><td> 360.8958</td><td>1</td><td>19.77454</td><td>1.116991</td><td>0.3033086</td></tr>\n",
       "\t<tr><th scope=row>Day</th><td>1289.7992</td><td>1289.7992</td><td>1</td><td>19.93138</td><td>3.991993</td><td>0.0595468</td></tr>\n",
       "\t<tr><th scope=row>sex:Day</th><td> 326.1511</td><td> 326.1511</td><td>1</td><td>19.93138</td><td>1.009454</td><td>0.3270763</td></tr>\n",
       "</tbody>\n",
       "</table>\n"
      ],
      "text/latex": [
       "A anova: 3 × 6\n",
       "\\begin{tabular}{r|llllll}\n",
       "  & Sum Sq & Mean Sq & NumDF & DenDF & F value & Pr(>F)\\\\\n",
       "  & <dbl> & <dbl> & <int> & <dbl> & <dbl> & <dbl>\\\\\n",
       "\\hline\n",
       "\tsex &  360.8958 &  360.8958 & 1 & 19.77454 & 1.116991 & 0.3033086\\\\\n",
       "\tDay & 1289.7992 & 1289.7992 & 1 & 19.93138 & 3.991993 & 0.0595468\\\\\n",
       "\tsex:Day &  326.1511 &  326.1511 & 1 & 19.93138 & 1.009454 & 0.3270763\\\\\n",
       "\\end{tabular}\n"
      ],
      "text/markdown": [
       "\n",
       "A anova: 3 × 6\n",
       "\n",
       "| <!--/--> | Sum Sq &lt;dbl&gt; | Mean Sq &lt;dbl&gt; | NumDF &lt;int&gt; | DenDF &lt;dbl&gt; | F value &lt;dbl&gt; | Pr(&gt;F) &lt;dbl&gt; |\n",
       "|---|---|---|---|---|---|---|\n",
       "| sex |  360.8958 |  360.8958 | 1 | 19.77454 | 1.116991 | 0.3033086 |\n",
       "| Day | 1289.7992 | 1289.7992 | 1 | 19.93138 | 3.991993 | 0.0595468 |\n",
       "| sex:Day |  326.1511 |  326.1511 | 1 | 19.93138 | 1.009454 | 0.3270763 |\n",
       "\n"
      ],
      "text/plain": [
       "        Sum Sq    Mean Sq   NumDF DenDF    F value  Pr(>F)   \n",
       "sex      360.8958  360.8958 1     19.77454 1.116991 0.3033086\n",
       "Day     1289.7992 1289.7992 1     19.93138 3.991993 0.0595468\n",
       "sex:Day  326.1511  326.1511 1     19.93138 1.009454 0.3270763"
      ]
     },
     "metadata": {},
     "output_type": "display_data"
    }
   ],
   "source": [
    "summary <- BulkBehavior %>% group_by(Day,sex,TrialType) %>% summarise(mean = mean(Trials), sd = sd(Trials),n = n(),se = sd / sqrt(n))\n",
    "a<-ggplot(subset(BulkBehavior, TrialType=='Unrewarded')) +\n",
    "  geom_line(aes(x=Day, y=Trials,color=sex), stat=\"summary\", fun='mean', alpha=0.6, size=2) +\n",
    "  geom_jitter(aes(x = Day, y = Trials, color=sex, shape=sex ), position = position_jitter(width = .1)) +\n",
    "  geom_errorbar(data = subset(summary, TrialType=='Unrewarded') , aes(x = Day, ymin = mean-se, ymax=mean+se, color = sex), width=.3)+\n",
    "  ylim(0,200) +\n",
    "  plot_theme +\n",
    "  ylab('Unrewarded Trials')\n",
    "\n",
    "b<-ggplot(subset(BulkBehavior, TrialType=='Rewards')) +\n",
    "  geom_line(aes(x=Day, y=Trials,color=sex), stat=\"summary\", fun='mean', alpha=0.6, size=2) +\n",
    "  geom_jitter(aes(x = Day, y = Trials, color=sex, shape=sex ), position = position_jitter(width = .1)) +\n",
    "  geom_errorbar(data = subset(summary, TrialType=='Rewards') , aes(x = Day, ymin = mean-se, ymax=mean+se, color = sex), width=.3)+\n",
    "  ylim(0,200) +\n",
    "  plot_theme +\n",
    "  ylab('Rewarded Trials')\n",
    "\n",
    "c<-ggplot(subset(BulkBehavior, TrialType=='Omission')) +\n",
    "  geom_line(aes(x=Day, y=Trials,color=sex), stat=\"summary\", fun='mean', alpha=0.6, size=2) +\n",
    "  geom_jitter(aes(x = Day, y = Trials, color=sex, shape=sex ), position = position_jitter(width = .1)) +\n",
    "  geom_errorbar(data = subset(summary, TrialType=='Omission') , aes(x = Day, ymin = mean-se, ymax=mean+se, color = sex), width=.3)+\n",
    "  ylim(0,200) +\n",
    "  plot_theme +\n",
    "  ylab('Omitted Trials')\n",
    "\n",
    "#figure C\n",
    "omissionlmer<- lmer(Trials~sex*Day+(1+Day|ID), data=subset(BulkBehavior, TrialType=='Omission'))\n",
    "anova(omissionlmer)\n",
    "#figure B\n",
    "rewardslmer<- lmer(Trials~sex*Day+(1+Day|ID), data=subset(BulkBehavior, TrialType=='Rewards'))\n",
    "anova(rewardslmer)\n",
    "#figure A\n",
    "unrewardedlmer<- lmer(Trials~sex*Day+(1+Day|ID), data=subset(BulkBehavior, TrialType=='Unrewarded'))\n",
    "anova(unrewardedlmer)"
   ]
  },
  {
   "cell_type": "code",
   "execution_count": null,
   "metadata": {
    "vscode": {
     "languageId": "r"
    }
   },
   "outputs": [
    {
     "name": "stderr",
     "output_type": "stream",
     "text": [
      "\u001b[1m\u001b[22m`summarise()` has grouped output by 'Day'. You can override using the `.groups`\n",
      "argument.\n"
     ]
    },
    {
     "data": {
      "text/html": [
       "<table class=\"dataframe\">\n",
       "<caption>A anova: 3 × 6</caption>\n",
       "<thead>\n",
       "\t<tr><th></th><th scope=col>Sum Sq</th><th scope=col>Mean Sq</th><th scope=col>NumDF</th><th scope=col>DenDF</th><th scope=col>F value</th><th scope=col>Pr(&gt;F)</th></tr>\n",
       "\t<tr><th></th><th scope=col>&lt;dbl&gt;</th><th scope=col>&lt;dbl&gt;</th><th scope=col>&lt;int&gt;</th><th scope=col>&lt;dbl&gt;</th><th scope=col>&lt;dbl&gt;</th><th scope=col>&lt;dbl&gt;</th></tr>\n",
       "</thead>\n",
       "<tbody>\n",
       "\t<tr><th scope=row>sex</th><td>  4693.491</td><td>  4693.491</td><td>1</td><td> 61.34283</td><td>  6.074702</td><td>1.652850e-02</td></tr>\n",
       "\t<tr><th scope=row>Day</th><td>116197.575</td><td>116197.575</td><td>1</td><td>104.75959</td><td>150.392470</td><td>5.655848e-22</td></tr>\n",
       "\t<tr><th scope=row>sex:Day</th><td>  4634.382</td><td>  4634.382</td><td>1</td><td>104.75959</td><td>  5.998199</td><td>1.597955e-02</td></tr>\n",
       "</tbody>\n",
       "</table>\n"
      ],
      "text/latex": [
       "A anova: 3 × 6\n",
       "\\begin{tabular}{r|llllll}\n",
       "  & Sum Sq & Mean Sq & NumDF & DenDF & F value & Pr(>F)\\\\\n",
       "  & <dbl> & <dbl> & <int> & <dbl> & <dbl> & <dbl>\\\\\n",
       "\\hline\n",
       "\tsex &   4693.491 &   4693.491 & 1 &  61.34283 &   6.074702 & 1.652850e-02\\\\\n",
       "\tDay & 116197.575 & 116197.575 & 1 & 104.75959 & 150.392470 & 5.655848e-22\\\\\n",
       "\tsex:Day &   4634.382 &   4634.382 & 1 & 104.75959 &   5.998199 & 1.597955e-02\\\\\n",
       "\\end{tabular}\n"
      ],
      "text/markdown": [
       "\n",
       "A anova: 3 × 6\n",
       "\n",
       "| <!--/--> | Sum Sq &lt;dbl&gt; | Mean Sq &lt;dbl&gt; | NumDF &lt;int&gt; | DenDF &lt;dbl&gt; | F value &lt;dbl&gt; | Pr(&gt;F) &lt;dbl&gt; |\n",
       "|---|---|---|---|---|---|---|\n",
       "| sex |   4693.491 |   4693.491 | 1 |  61.34283 |   6.074702 | 1.652850e-02 |\n",
       "| Day | 116197.575 | 116197.575 | 1 | 104.75959 | 150.392470 | 5.655848e-22 |\n",
       "| sex:Day |   4634.382 |   4634.382 | 1 | 104.75959 |   5.998199 | 1.597955e-02 |\n",
       "\n"
      ],
      "text/plain": [
       "        Sum Sq     Mean Sq    NumDF DenDF     F value    Pr(>F)      \n",
       "sex       4693.491   4693.491 1      61.34283   6.074702 1.652850e-02\n",
       "Day     116197.575 116197.575 1     104.75959 150.392470 5.655848e-22\n",
       "sex:Day   4634.382   4634.382 1     104.75959   5.998199 1.597955e-02"
      ]
     },
     "metadata": {},
     "output_type": "display_data"
    }
   ],
   "source": [
    "summary <- Total_Trials %>% group_by(Day, sex) %>% summarise(mean = mean(Trials), sd = sd(Trials),n = n(),se = sd / sqrt(n))\n",
    "d<-ggplot(Total_Trials) +\n",
    "  geom_line(aes(x=Day, y=Trials, color=sex), stat=\"summary\", fun='mean', alpha=0.6, size=2) +\n",
    "  geom_jitter(aes(x = Day, y = Trials, color=sex, shape=sex ), position = position_jitter(width = .1)) +\n",
    "  geom_errorbar(data = summary, aes(x = Day, ymin = mean-se, ymax=mean+se, color=sex), width=.3)+\n",
    "  ylim(0,335) +\n",
    "  ylab('Trials Completed') +\n",
    "  plot_theme\n",
    "\n",
    "#figure G\n",
    "trialslmer<- lmer(Trials~sex*Day+(1|ID), data=Total_Trials)\n",
    "anova(trialslmer) "
   ]
  },
  {
   "cell_type": "code",
   "execution_count": null,
   "metadata": {
    "vscode": {
     "languageId": "r"
    }
   },
   "outputs": [
    {
     "name": "stderr",
     "output_type": "stream",
     "text": [
      "\u001b[1m\u001b[22m`summarise()` has grouped output by 'Day'. You can override using the `.groups`\n",
      "argument.\n"
     ]
    },
    {
     "data": {
      "text/html": [
       "<table class=\"dataframe\">\n",
       "<caption>A anova: 3 × 6</caption>\n",
       "<thead>\n",
       "\t<tr><th></th><th scope=col>Sum Sq</th><th scope=col>Mean Sq</th><th scope=col>NumDF</th><th scope=col>DenDF</th><th scope=col>F value</th><th scope=col>Pr(&gt;F)</th></tr>\n",
       "\t<tr><th></th><th scope=col>&lt;dbl&gt;</th><th scope=col>&lt;dbl&gt;</th><th scope=col>&lt;int&gt;</th><th scope=col>&lt;dbl&gt;</th><th scope=col>&lt;dbl&gt;</th><th scope=col>&lt;dbl&gt;</th></tr>\n",
       "</thead>\n",
       "<tbody>\n",
       "\t<tr><th scope=row>sex</th><td>0.001520175</td><td>0.001520175</td><td>1</td><td>19.88936</td><td> 0.5981883</td><td>4.483656e-01</td></tr>\n",
       "\t<tr><th scope=row>Day</th><td>0.152165265</td><td>0.152165265</td><td>1</td><td>19.92607</td><td>59.8769646</td><td>1.991040e-07</td></tr>\n",
       "\t<tr><th scope=row>sex:Day</th><td>0.002253153</td><td>0.002253153</td><td>1</td><td>19.92607</td><td> 0.8866146</td><td>3.576729e-01</td></tr>\n",
       "</tbody>\n",
       "</table>\n"
      ],
      "text/latex": [
       "A anova: 3 × 6\n",
       "\\begin{tabular}{r|llllll}\n",
       "  & Sum Sq & Mean Sq & NumDF & DenDF & F value & Pr(>F)\\\\\n",
       "  & <dbl> & <dbl> & <int> & <dbl> & <dbl> & <dbl>\\\\\n",
       "\\hline\n",
       "\tsex & 0.001520175 & 0.001520175 & 1 & 19.88936 &  0.5981883 & 4.483656e-01\\\\\n",
       "\tDay & 0.152165265 & 0.152165265 & 1 & 19.92607 & 59.8769646 & 1.991040e-07\\\\\n",
       "\tsex:Day & 0.002253153 & 0.002253153 & 1 & 19.92607 &  0.8866146 & 3.576729e-01\\\\\n",
       "\\end{tabular}\n"
      ],
      "text/markdown": [
       "\n",
       "A anova: 3 × 6\n",
       "\n",
       "| <!--/--> | Sum Sq &lt;dbl&gt; | Mean Sq &lt;dbl&gt; | NumDF &lt;int&gt; | DenDF &lt;dbl&gt; | F value &lt;dbl&gt; | Pr(&gt;F) &lt;dbl&gt; |\n",
       "|---|---|---|---|---|---|---|\n",
       "| sex | 0.001520175 | 0.001520175 | 1 | 19.88936 |  0.5981883 | 4.483656e-01 |\n",
       "| Day | 0.152165265 | 0.152165265 | 1 | 19.92607 | 59.8769646 | 1.991040e-07 |\n",
       "| sex:Day | 0.002253153 | 0.002253153 | 1 | 19.92607 |  0.8866146 | 3.576729e-01 |\n",
       "\n"
      ],
      "text/plain": [
       "        Sum Sq      Mean Sq     NumDF DenDF    F value    Pr(>F)      \n",
       "sex     0.001520175 0.001520175 1     19.88936  0.5981883 4.483656e-01\n",
       "Day     0.152165265 0.152165265 1     19.92607 59.8769646 1.991040e-07\n",
       "sex:Day 0.002253153 0.002253153 1     19.92607  0.8866146 3.576729e-01"
      ]
     },
     "metadata": {},
     "output_type": "display_data"
    }
   ],
   "source": [
    "summary <- RewardUnreward_Trials %>% group_by(Day, sex) %>% summarise(mean = mean(Probability), sd = sd(Probability),n = n(),se = sd / sqrt(n))\n",
    "e<-ggplot(RewardUnreward_Trials) +\n",
    "  geom_line(aes(x=Day, y=Probability, color=sex), stat=\"summary\", fun='mean', alpha=0.6, size=2) +\n",
    "  geom_jitter(aes(x = Day, y = Probability, color=sex,shape=sex ), position = position_jitter(width = .2)) +\n",
    "  geom_errorbar(data = summary, aes(x = Day, ymin = mean-se, ymax=mean+se, color=sex), width=.3)+\n",
    "  ylab('P(Reward)') +\n",
    "  plot_theme\n",
    "\n",
    "#figure D\n",
    "trialslmer<- lmer(Probability~sex*Day+(1+Day|ID), data=RewardUnreward_Trials)\n",
    "anova(trialslmer) "
   ]
  },
  {
   "cell_type": "code",
   "execution_count": 14,
   "metadata": {
    "vscode": {
     "languageId": "r"
    }
   },
   "outputs": [
    {
     "name": "stderr",
     "output_type": "stream",
     "text": [
      "\u001b[1m\u001b[22m`summarise()` has grouped output by 'ID', 'Day', 'sex'. You can override using\n",
      "the `.groups` argument.\n",
      "\u001b[1m\u001b[22m`summarise()` has grouped output by 'ID', 'Day', 'sex'. You can override using\n",
      "the `.groups` argument.\n"
     ]
    }
   ],
   "source": [
    "Stay <- subset(Behavior, lp>0) %>% group_by(ID,Day) %>% mutate(NextChoice = lead(lp), Stay = ifelse(NextChoice==lp, 1,0))\n",
    "winstay<-na.omit(subset(Stay, rewards==1))%>% group_by(ID,Day,sex,Stay) %>% summarise(Trials=n())\n",
    "winstay<- winstay%>% group_by(ID,sex,Day) %>% mutate(Probability = Trials/sum(Trials))\n",
    "winstay<- subset(winstay, Stay==1)\n",
    "\n",
    "losestay<-na.omit(subset(Stay, rewards==0))%>% group_by(ID,Day,sex,Stay) %>% summarise(Trials=n())\n",
    "losestay<- losestay%>% group_by(ID,sex,Day) %>% mutate(Probability = Trials/sum(Trials))\n",
    "losestay<- subset(losestay, Stay==1)"
   ]
  },
  {
   "cell_type": "code",
   "execution_count": null,
   "metadata": {
    "vscode": {
     "languageId": "r"
    }
   },
   "outputs": [
    {
     "name": "stderr",
     "output_type": "stream",
     "text": [
      "\u001b[1m\u001b[22m`summarise()` has grouped output by 'Day'. You can override using the `.groups`\n",
      "argument.\n",
      "boundary (singular) fit: see help('isSingular')\n",
      "\n"
     ]
    },
    {
     "data": {
      "text/html": [
       "<table class=\"dataframe\">\n",
       "<caption>A anova: 3 × 6</caption>\n",
       "<thead>\n",
       "\t<tr><th></th><th scope=col>Sum Sq</th><th scope=col>Mean Sq</th><th scope=col>NumDF</th><th scope=col>DenDF</th><th scope=col>F value</th><th scope=col>Pr(&gt;F)</th></tr>\n",
       "\t<tr><th></th><th scope=col>&lt;dbl&gt;</th><th scope=col>&lt;dbl&gt;</th><th scope=col>&lt;int&gt;</th><th scope=col>&lt;dbl&gt;</th><th scope=col>&lt;dbl&gt;</th><th scope=col>&lt;dbl&gt;</th></tr>\n",
       "</thead>\n",
       "<tbody>\n",
       "\t<tr><th scope=row>sex</th><td>1.977240e-02</td><td>1.977240e-02</td><td>1</td><td>20.11918</td><td>2.907095784</td><td>0.1035846</td></tr>\n",
       "\t<tr><th scope=row>Day</th><td>9.020176e-06</td><td>9.020176e-06</td><td>1</td><td>21.76807</td><td>0.001326218</td><td>0.9712815</td></tr>\n",
       "\t<tr><th scope=row>sex:Day</th><td>1.336212e-02</td><td>1.336212e-02</td><td>1</td><td>21.76807</td><td>1.964606345</td><td>0.1751195</td></tr>\n",
       "</tbody>\n",
       "</table>\n"
      ],
      "text/latex": [
       "A anova: 3 × 6\n",
       "\\begin{tabular}{r|llllll}\n",
       "  & Sum Sq & Mean Sq & NumDF & DenDF & F value & Pr(>F)\\\\\n",
       "  & <dbl> & <dbl> & <int> & <dbl> & <dbl> & <dbl>\\\\\n",
       "\\hline\n",
       "\tsex & 1.977240e-02 & 1.977240e-02 & 1 & 20.11918 & 2.907095784 & 0.1035846\\\\\n",
       "\tDay & 9.020176e-06 & 9.020176e-06 & 1 & 21.76807 & 0.001326218 & 0.9712815\\\\\n",
       "\tsex:Day & 1.336212e-02 & 1.336212e-02 & 1 & 21.76807 & 1.964606345 & 0.1751195\\\\\n",
       "\\end{tabular}\n"
      ],
      "text/markdown": [
       "\n",
       "A anova: 3 × 6\n",
       "\n",
       "| <!--/--> | Sum Sq &lt;dbl&gt; | Mean Sq &lt;dbl&gt; | NumDF &lt;int&gt; | DenDF &lt;dbl&gt; | F value &lt;dbl&gt; | Pr(&gt;F) &lt;dbl&gt; |\n",
       "|---|---|---|---|---|---|---|\n",
       "| sex | 1.977240e-02 | 1.977240e-02 | 1 | 20.11918 | 2.907095784 | 0.1035846 |\n",
       "| Day | 9.020176e-06 | 9.020176e-06 | 1 | 21.76807 | 0.001326218 | 0.9712815 |\n",
       "| sex:Day | 1.336212e-02 | 1.336212e-02 | 1 | 21.76807 | 1.964606345 | 0.1751195 |\n",
       "\n"
      ],
      "text/plain": [
       "        Sum Sq       Mean Sq      NumDF DenDF    F value     Pr(>F)   \n",
       "sex     1.977240e-02 1.977240e-02 1     20.11918 2.907095784 0.1035846\n",
       "Day     9.020176e-06 9.020176e-06 1     21.76807 0.001326218 0.9712815\n",
       "sex:Day 1.336212e-02 1.336212e-02 1     21.76807 1.964606345 0.1751195"
      ]
     },
     "metadata": {},
     "output_type": "display_data"
    }
   ],
   "source": [
    "summary <- winstay %>% group_by(Day, sex) %>% summarise(mean = mean(Probability), sd = sd(Probability),n = n(),se = sd / sqrt(n))\n",
    "f<-ggplot(winstay) +\n",
    "  geom_line(aes(x=Day, y=Probability, color=sex), stat=\"summary\", fun='mean', alpha=0.6, size=2) +\n",
    "  geom_jitter(aes(x = Day, y = Probability, color=sex,shape=sex ), position = position_jitter(width = .2)) +\n",
    "  geom_errorbar(data = summary, aes(x = Day, ymin = mean-se, ymax=mean+se, color=sex), width=.3)+\n",
    "  ylab('P(Stay|Reward)') +\n",
    "  plot_theme\n",
    "\n",
    "#figure E\n",
    "trialslmer<- lmer(Probability~sex*Day+(1+Day|ID), data=winstay)\n",
    "anova(trialslmer) "
   ]
  },
  {
   "cell_type": "code",
   "execution_count": null,
   "metadata": {
    "vscode": {
     "languageId": "r"
    }
   },
   "outputs": [
    {
     "name": "stderr",
     "output_type": "stream",
     "text": [
      "\u001b[1m\u001b[22m`summarise()` has grouped output by 'Day'. You can override using the `.groups`\n",
      "argument.\n"
     ]
    },
    {
     "data": {
      "text/html": [
       "<table class=\"dataframe\">\n",
       "<caption>A anova: 3 × 6</caption>\n",
       "<thead>\n",
       "\t<tr><th></th><th scope=col>Sum Sq</th><th scope=col>Mean Sq</th><th scope=col>NumDF</th><th scope=col>DenDF</th><th scope=col>F value</th><th scope=col>Pr(&gt;F)</th></tr>\n",
       "\t<tr><th></th><th scope=col>&lt;dbl&gt;</th><th scope=col>&lt;dbl&gt;</th><th scope=col>&lt;int&gt;</th><th scope=col>&lt;dbl&gt;</th><th scope=col>&lt;dbl&gt;</th><th scope=col>&lt;dbl&gt;</th></tr>\n",
       "</thead>\n",
       "<tbody>\n",
       "\t<tr><th scope=row>sex</th><td>0.005364235</td><td>0.005364235</td><td>1</td><td>19.93266</td><td> 0.7783582</td><td>3.881596e-01</td></tr>\n",
       "\t<tr><th scope=row>Day</th><td>0.345077360</td><td>0.345077360</td><td>1</td><td>19.91325</td><td>50.0712210</td><td>7.535722e-07</td></tr>\n",
       "\t<tr><th scope=row>sex:Day</th><td>0.016803173</td><td>0.016803173</td><td>1</td><td>19.91325</td><td> 2.4381645</td><td>1.341673e-01</td></tr>\n",
       "</tbody>\n",
       "</table>\n"
      ],
      "text/latex": [
       "A anova: 3 × 6\n",
       "\\begin{tabular}{r|llllll}\n",
       "  & Sum Sq & Mean Sq & NumDF & DenDF & F value & Pr(>F)\\\\\n",
       "  & <dbl> & <dbl> & <int> & <dbl> & <dbl> & <dbl>\\\\\n",
       "\\hline\n",
       "\tsex & 0.005364235 & 0.005364235 & 1 & 19.93266 &  0.7783582 & 3.881596e-01\\\\\n",
       "\tDay & 0.345077360 & 0.345077360 & 1 & 19.91325 & 50.0712210 & 7.535722e-07\\\\\n",
       "\tsex:Day & 0.016803173 & 0.016803173 & 1 & 19.91325 &  2.4381645 & 1.341673e-01\\\\\n",
       "\\end{tabular}\n"
      ],
      "text/markdown": [
       "\n",
       "A anova: 3 × 6\n",
       "\n",
       "| <!--/--> | Sum Sq &lt;dbl&gt; | Mean Sq &lt;dbl&gt; | NumDF &lt;int&gt; | DenDF &lt;dbl&gt; | F value &lt;dbl&gt; | Pr(&gt;F) &lt;dbl&gt; |\n",
       "|---|---|---|---|---|---|---|\n",
       "| sex | 0.005364235 | 0.005364235 | 1 | 19.93266 |  0.7783582 | 3.881596e-01 |\n",
       "| Day | 0.345077360 | 0.345077360 | 1 | 19.91325 | 50.0712210 | 7.535722e-07 |\n",
       "| sex:Day | 0.016803173 | 0.016803173 | 1 | 19.91325 |  2.4381645 | 1.341673e-01 |\n",
       "\n"
      ],
      "text/plain": [
       "        Sum Sq      Mean Sq     NumDF DenDF    F value    Pr(>F)      \n",
       "sex     0.005364235 0.005364235 1     19.93266  0.7783582 3.881596e-01\n",
       "Day     0.345077360 0.345077360 1     19.91325 50.0712210 7.535722e-07\n",
       "sex:Day 0.016803173 0.016803173 1     19.91325  2.4381645 1.341673e-01"
      ]
     },
     "metadata": {},
     "output_type": "display_data"
    }
   ],
   "source": [
    "summary <- losestay %>% group_by(Day, sex) %>% summarise(mean = mean(Probability), sd = sd(Probability),n = n(),se = sd / sqrt(n))\n",
    "g<-ggplot(losestay) +\n",
    "  geom_line(aes(x=Day, y=Probability, color=sex), stat=\"summary\", fun='mean', alpha=0.6, size=2) +\n",
    "  geom_jitter(aes(x = Day, y = Probability, color=sex,shape=sex ), position = position_jitter(width = .2)) +\n",
    "  geom_errorbar(data = summary, aes(x = Day, ymin = mean-se, ymax=mean+se, color=sex), width=.3)+\n",
    "  ylab('P(Stay|Unrewarded)') +\n",
    "  plot_theme\n",
    "\n",
    "#figure F\n",
    "trialslmer<- lmer(Probability~sex*Day+(1+Day|ID), data=losestay)\n",
    "anova(trialslmer) "
   ]
  },
  {
   "cell_type": "code",
   "execution_count": 28,
   "metadata": {
    "vscode": {
     "languageId": "r"
    }
   },
   "outputs": [
    {
     "name": "stderr",
     "output_type": "stream",
     "text": [
      "\u001b[1m\u001b[22m`summarise()` has grouped output by 'run', 'ID', 'Day'. You can override using\n",
      "the `.groups` argument.\n",
      "\u001b[1m\u001b[22m`summarise()` has grouped output by 'ID', 'Day'. You can override using the\n",
      "`.groups` argument.\n"
     ]
    }
   ],
   "source": [
    "lp_reversals<-subset(Behavior, lp>0) %>% group_by(run = data.table::rleid(ID,Day, sex,LeftLeverProb), ID,Day,sex) %>% summarise(count = n())\n",
    "reversals_completed <- lp_reversals %>% group_by(ID, Day,sex) %>% summarise(Reversals=n()-1)\n",
    "lp_reversals <- merge(lp_reversals,reversals_completed)"
   ]
  },
  {
   "cell_type": "code",
   "execution_count": null,
   "metadata": {
    "vscode": {
     "languageId": "r"
    }
   },
   "outputs": [
    {
     "name": "stderr",
     "output_type": "stream",
     "text": [
      "\u001b[1m\u001b[22m`summarise()` has grouped output by 'Day'. You can override using the `.groups`\n",
      "argument.\n"
     ]
    },
    {
     "data": {
      "text/html": [
       "<table class=\"dataframe\">\n",
       "<caption>A anova: 3 × 6</caption>\n",
       "<thead>\n",
       "\t<tr><th></th><th scope=col>Sum Sq</th><th scope=col>Mean Sq</th><th scope=col>NumDF</th><th scope=col>DenDF</th><th scope=col>F value</th><th scope=col>Pr(&gt;F)</th></tr>\n",
       "\t<tr><th></th><th scope=col>&lt;dbl&gt;</th><th scope=col>&lt;dbl&gt;</th><th scope=col>&lt;int&gt;</th><th scope=col>&lt;dbl&gt;</th><th scope=col>&lt;dbl&gt;</th><th scope=col>&lt;dbl&gt;</th></tr>\n",
       "</thead>\n",
       "<tbody>\n",
       "\t<tr><th scope=row>sex</th><td>  0.6798587</td><td>  0.6798587</td><td>1</td><td>19.71955</td><td> 0.1626645</td><td>6.910547e-01</td></tr>\n",
       "\t<tr><th scope=row>Day</th><td>168.8463298</td><td>168.8463298</td><td>1</td><td>19.99131</td><td>40.3985564</td><td>3.349112e-06</td></tr>\n",
       "\t<tr><th scope=row>sex:Day</th><td>  1.2631811</td><td>  1.2631811</td><td>1</td><td>19.99131</td><td> 0.3022316</td><td>5.885766e-01</td></tr>\n",
       "</tbody>\n",
       "</table>\n"
      ],
      "text/latex": [
       "A anova: 3 × 6\n",
       "\\begin{tabular}{r|llllll}\n",
       "  & Sum Sq & Mean Sq & NumDF & DenDF & F value & Pr(>F)\\\\\n",
       "  & <dbl> & <dbl> & <int> & <dbl> & <dbl> & <dbl>\\\\\n",
       "\\hline\n",
       "\tsex &   0.6798587 &   0.6798587 & 1 & 19.71955 &  0.1626645 & 6.910547e-01\\\\\n",
       "\tDay & 168.8463298 & 168.8463298 & 1 & 19.99131 & 40.3985564 & 3.349112e-06\\\\\n",
       "\tsex:Day &   1.2631811 &   1.2631811 & 1 & 19.99131 &  0.3022316 & 5.885766e-01\\\\\n",
       "\\end{tabular}\n"
      ],
      "text/markdown": [
       "\n",
       "A anova: 3 × 6\n",
       "\n",
       "| <!--/--> | Sum Sq &lt;dbl&gt; | Mean Sq &lt;dbl&gt; | NumDF &lt;int&gt; | DenDF &lt;dbl&gt; | F value &lt;dbl&gt; | Pr(&gt;F) &lt;dbl&gt; |\n",
       "|---|---|---|---|---|---|---|\n",
       "| sex |   0.6798587 |   0.6798587 | 1 | 19.71955 |  0.1626645 | 6.910547e-01 |\n",
       "| Day | 168.8463298 | 168.8463298 | 1 | 19.99131 | 40.3985564 | 3.349112e-06 |\n",
       "| sex:Day |   1.2631811 |   1.2631811 | 1 | 19.99131 |  0.3022316 | 5.885766e-01 |\n",
       "\n"
      ],
      "text/plain": [
       "        Sum Sq      Mean Sq     NumDF DenDF    F value    Pr(>F)      \n",
       "sex       0.6798587   0.6798587 1     19.71955  0.1626645 6.910547e-01\n",
       "Day     168.8463298 168.8463298 1     19.99131 40.3985564 3.349112e-06\n",
       "sex:Day   1.2631811   1.2631811 1     19.99131  0.3022316 5.885766e-01"
      ]
     },
     "metadata": {},
     "output_type": "display_data"
    }
   ],
   "source": [
    "summary <- reversals_completed %>% group_by(Day, sex) %>% summarise(mean = mean(Reversals), sd = sd(Reversals),n = n(),se = sd / sqrt(n))\n",
    "h<-ggplot(reversals_completed) +\n",
    "  geom_line(aes(x=Day, y=Reversals, color=sex), stat=\"summary\", fun='mean', alpha=0.6, size=2) +\n",
    "  geom_jitter(aes(x = Day, y = Reversals, color=sex,shape=sex ), position = position_jitter(width = .2)) +\n",
    "  geom_errorbar(data = summary, aes(x = Day, ymin = mean-se, ymax=mean+se, color=sex), width=.3)+\n",
    "  ylab('Reversals Completed') +\n",
    "  plot_theme \n",
    "\n",
    "#figure H\n",
    "reversalslmer<- lmer(Reversals~sex*Day+(1+Day|ID), data=reversals_completed)\n",
    "anova(reversalslmer) "
   ]
  },
  {
   "cell_type": "code",
   "execution_count": null,
   "metadata": {
    "vscode": {
     "languageId": "r"
    }
   },
   "outputs": [
    {
     "name": "stderr",
     "output_type": "stream",
     "text": [
      "\u001b[1m\u001b[22m`summarise()` has grouped output by 'ID', 'Day'. You can override using the\n",
      "`.groups` argument.\n",
      "\u001b[1m\u001b[22m`summarise()` has grouped output by 'Day'. You can override using the `.groups`\n",
      "argument.\n"
     ]
    },
    {
     "data": {
      "text/html": [
       "<table class=\"dataframe\">\n",
       "<caption>A anova: 3 × 6</caption>\n",
       "<thead>\n",
       "\t<tr><th></th><th scope=col>Sum Sq</th><th scope=col>Mean Sq</th><th scope=col>NumDF</th><th scope=col>DenDF</th><th scope=col>F value</th><th scope=col>Pr(&gt;F)</th></tr>\n",
       "\t<tr><th></th><th scope=col>&lt;dbl&gt;</th><th scope=col>&lt;dbl&gt;</th><th scope=col>&lt;int&gt;</th><th scope=col>&lt;dbl&gt;</th><th scope=col>&lt;dbl&gt;</th><th scope=col>&lt;dbl&gt;</th></tr>\n",
       "</thead>\n",
       "<tbody>\n",
       "\t<tr><th scope=row>sex</th><td>  271.1667</td><td>  271.1667</td><td>1</td><td>20.02493</td><td> 0.1751981</td><td>0.6799878231</td></tr>\n",
       "\t<tr><th scope=row>Day</th><td>25655.9040</td><td>25655.9040</td><td>1</td><td>20.01392</td><td>16.5760290</td><td>0.0005946743</td></tr>\n",
       "\t<tr><th scope=row>sex:Day</th><td>  384.4756</td><td>  384.4756</td><td>1</td><td>20.01392</td><td> 0.2484059</td><td>0.6236328078</td></tr>\n",
       "</tbody>\n",
       "</table>\n"
      ],
      "text/latex": [
       "A anova: 3 × 6\n",
       "\\begin{tabular}{r|llllll}\n",
       "  & Sum Sq & Mean Sq & NumDF & DenDF & F value & Pr(>F)\\\\\n",
       "  & <dbl> & <dbl> & <int> & <dbl> & <dbl> & <dbl>\\\\\n",
       "\\hline\n",
       "\tsex &   271.1667 &   271.1667 & 1 & 20.02493 &  0.1751981 & 0.6799878231\\\\\n",
       "\tDay & 25655.9040 & 25655.9040 & 1 & 20.01392 & 16.5760290 & 0.0005946743\\\\\n",
       "\tsex:Day &   384.4756 &   384.4756 & 1 & 20.01392 &  0.2484059 & 0.6236328078\\\\\n",
       "\\end{tabular}\n"
      ],
      "text/markdown": [
       "\n",
       "A anova: 3 × 6\n",
       "\n",
       "| <!--/--> | Sum Sq &lt;dbl&gt; | Mean Sq &lt;dbl&gt; | NumDF &lt;int&gt; | DenDF &lt;dbl&gt; | F value &lt;dbl&gt; | Pr(&gt;F) &lt;dbl&gt; |\n",
       "|---|---|---|---|---|---|---|\n",
       "| sex |   271.1667 |   271.1667 | 1 | 20.02493 |  0.1751981 | 0.6799878231 |\n",
       "| Day | 25655.9040 | 25655.9040 | 1 | 20.01392 | 16.5760290 | 0.0005946743 |\n",
       "| sex:Day |   384.4756 |   384.4756 | 1 | 20.01392 |  0.2484059 | 0.6236328078 |\n",
       "\n"
      ],
      "text/plain": [
       "        Sum Sq     Mean Sq    NumDF DenDF    F value    Pr(>F)      \n",
       "sex       271.1667   271.1667 1     20.02493  0.1751981 0.6799878231\n",
       "Day     25655.9040 25655.9040 1     20.01392 16.5760290 0.0005946743\n",
       "sex:Day   384.4756   384.4756 1     20.01392  0.2484059 0.6236328078"
      ]
     },
     "metadata": {},
     "output_type": "display_data"
    }
   ],
   "source": [
    "Avg_LP_Block <- lp_reversals %>% group_by(ID,Day,sex) %>% summarise(AverageLP=mean(count))\n",
    "summary <- Avg_LP_Block %>% group_by(Day, sex) %>% summarise(mean = mean(AverageLP), sd = sd(AverageLP),n = n(),se = sd / sqrt(n))\n",
    "i<-ggplot(Avg_LP_Block) +\n",
    "  geom_line(aes(x=Day, y=AverageLP, color=sex), stat=\"summary\", fun='mean', alpha=0.6, size=2) +\n",
    "  geom_jitter(aes(x = Day, y = AverageLP, color=sex,shape=sex ), position = position_jitter(width = .2)) +\n",
    "  geom_errorbar(data = summary, aes(x = Day, ymin = mean-se, ymax=mean+se, color=sex), width=.3)+\n",
    "  ylab('Lever Presses per Block') +\n",
    "  plot_theme \n",
    "\n",
    "#figure I\n",
    "reversalslmer<- lmer(AverageLP~sex*Day+(1+Day|ID), data=Avg_LP_Block)\n",
    "anova(reversalslmer) "
   ]
  }
 ],
 "metadata": {
  "kernelspec": {
   "display_name": "R",
   "language": "R",
   "name": "ir"
  },
  "language_info": {
   "codemirror_mode": "r",
   "file_extension": ".r",
   "mimetype": "text/x-r-source",
   "name": "R",
   "pygments_lexer": "r",
   "version": "4.2.1"
  }
 },
 "nbformat": 4,
 "nbformat_minor": 2
}
